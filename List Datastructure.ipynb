{
 "cells": [
  {
   "cell_type": "markdown",
   "id": "4f0f8aaf-13c6-43a4-850f-77f44d2fd95f",
   "metadata": {},
   "source": [
    "### List datastructure"
   ]
  },
  {
   "cell_type": "code",
   "execution_count": 2,
   "id": "d61f8263-79d5-4870-8026-a3817659f6c1",
   "metadata": {},
   "outputs": [
    {
     "data": {
      "text/plain": [
       "int"
      ]
     },
     "execution_count": 2,
     "metadata": {},
     "output_type": "execute_result"
    }
   ],
   "source": [
    "i = 6\n",
    "type(i)"
   ]
  },
  {
   "cell_type": "code",
   "execution_count": 4,
   "id": "84c89f8d-7d19-4a87-b9e3-7b5eaa2028d3",
   "metadata": {},
   "outputs": [
    {
     "data": {
      "text/plain": [
       "[]"
      ]
     },
     "execution_count": 4,
     "metadata": {},
     "output_type": "execute_result"
    }
   ],
   "source": [
    "l = []\n",
    "l"
   ]
  },
  {
   "cell_type": "code",
   "execution_count": 6,
   "id": "65401920-cd70-465b-88e7-4fde888305f9",
   "metadata": {},
   "outputs": [
    {
     "ename": "TypeError",
     "evalue": "len() takes exactly one argument (0 given)",
     "output_type": "error",
     "traceback": [
      "\u001b[1;31m---------------------------------------------------------------------------\u001b[0m",
      "\u001b[1;31mTypeError\u001b[0m                                 Traceback (most recent call last)",
      "Cell \u001b[1;32mIn[6], line 1\u001b[0m\n\u001b[1;32m----> 1\u001b[0m \u001b[38;5;28mlen\u001b[39m()\n",
      "\u001b[1;31mTypeError\u001b[0m: len() takes exactly one argument (0 given)"
     ]
    }
   ],
   "source": [
    "len()"
   ]
  },
  {
   "cell_type": "code",
   "execution_count": 10,
   "id": "054b2153-91e1-4a31-b632-3b4529f09cb9",
   "metadata": {},
   "outputs": [
    {
     "data": {
      "text/plain": [
       "0"
      ]
     },
     "execution_count": 10,
     "metadata": {},
     "output_type": "execute_result"
    }
   ],
   "source": [
    "len(l)"
   ]
  },
  {
   "cell_type": "code",
   "execution_count": 12,
   "id": "08b7d75b-72a3-4509-a0d1-809f19cefcdf",
   "metadata": {},
   "outputs": [
    {
     "data": {
      "text/plain": [
       "list"
      ]
     },
     "execution_count": 12,
     "metadata": {},
     "output_type": "execute_result"
    }
   ],
   "source": [
    "type(l)"
   ]
  },
  {
   "cell_type": "code",
   "execution_count": 14,
   "id": "174fa65b-5af2-4d8b-9257-8f3c42852659",
   "metadata": {},
   "outputs": [
    {
     "data": {
      "text/plain": [
       "<function list.append(object, /)>"
      ]
     },
     "execution_count": 14,
     "metadata": {},
     "output_type": "execute_result"
    }
   ],
   "source": [
    "l.append"
   ]
  },
  {
   "cell_type": "code",
   "execution_count": 16,
   "id": "9a341d4d-1bc5-4a6d-9711-a5c19246f424",
   "metadata": {},
   "outputs": [
    {
     "data": {
      "text/plain": [
       "<function list.clear()>"
      ]
     },
     "execution_count": 16,
     "metadata": {},
     "output_type": "execute_result"
    }
   ],
   "source": [
    "l.clear"
   ]
  },
  {
   "cell_type": "code",
   "execution_count": 18,
   "id": "66b16965-9c42-4c3f-b3d5-d67d1a85162d",
   "metadata": {},
   "outputs": [
    {
     "data": {
      "text/plain": [
       "[10]"
      ]
     },
     "execution_count": 18,
     "metadata": {},
     "output_type": "execute_result"
    }
   ],
   "source": [
    "l.append(10)\n",
    "l\n"
   ]
  },
  {
   "cell_type": "code",
   "execution_count": 20,
   "id": "2953f3e7-8246-42bd-b4b1-bbcae2d6a45a",
   "metadata": {},
   "outputs": [
    {
     "data": {
      "text/plain": [
       "1"
      ]
     },
     "execution_count": 20,
     "metadata": {},
     "output_type": "execute_result"
    }
   ],
   "source": [
    "len(l)"
   ]
  },
  {
   "cell_type": "code",
   "execution_count": 22,
   "id": "89d80db6-8005-40ad-8733-b9a1edb69a12",
   "metadata": {},
   "outputs": [
    {
     "ename": "TypeError",
     "evalue": "list.append() takes exactly one argument (4 given)",
     "output_type": "error",
     "traceback": [
      "\u001b[1;31m---------------------------------------------------------------------------\u001b[0m",
      "\u001b[1;31mTypeError\u001b[0m                                 Traceback (most recent call last)",
      "Cell \u001b[1;32mIn[22], line 1\u001b[0m\n\u001b[1;32m----> 1\u001b[0m l\u001b[38;5;241m.\u001b[39mappend(\u001b[38;5;241m10\u001b[39m,\u001b[38;5;241m20\u001b[39m,\u001b[38;5;241m30\u001b[39m,\u001b[38;5;241m40\u001b[39m)\n",
      "\u001b[1;31mTypeError\u001b[0m: list.append() takes exactly one argument (4 given)"
     ]
    }
   ],
   "source": [
    "l.append(10,20,30,40)"
   ]
  },
  {
   "cell_type": "code",
   "execution_count": 28,
   "id": "0bf7eb64-6027-47c0-a586-951138090304",
   "metadata": {},
   "outputs": [
    {
     "data": {
      "text/plain": [
       "[10, 10, 20, 30, 40, 10, 20, 30, 40]"
      ]
     },
     "execution_count": 28,
     "metadata": {},
     "output_type": "execute_result"
    }
   ],
   "source": [
    "l.append(10)\n",
    "l.append(20)\n",
    "l.append(30)\n",
    "l.append(40)\n",
    "l\n",
    "l"
   ]
  },
  {
   "cell_type": "code",
   "execution_count": 32,
   "id": "ce096235-8e3e-41d6-ba99-ddc083247514",
   "metadata": {},
   "outputs": [
    {
     "data": {
      "text/plain": [
       "[]"
      ]
     },
     "execution_count": 32,
     "metadata": {},
     "output_type": "execute_result"
    }
   ],
   "source": [
    "l1 = []\n",
    "l1"
   ]
  },
  {
   "cell_type": "code",
   "execution_count": 34,
   "id": "fbeb3431-0e1d-475f-832e-0695b295a075",
   "metadata": {},
   "outputs": [
    {
     "data": {
      "text/plain": [
       "[60, 60.6]"
      ]
     },
     "execution_count": 34,
     "metadata": {},
     "output_type": "execute_result"
    }
   ],
   "source": [
    "l1.append(60)\n",
    "l1.append(60.6)\n",
    "l1"
   ]
  },
  {
   "cell_type": "code",
   "execution_count": 38,
   "id": "3944ad9a-6ad8-4f83-b68f-1851eeccd26e",
   "metadata": {},
   "outputs": [
    {
     "data": {
      "text/plain": [
       "[60, 60.6, 70, 40.4, True, '1+2j', 70, 40.4, True, '1+2j', [1, 2, 3]]"
      ]
     },
     "execution_count": 38,
     "metadata": {},
     "output_type": "execute_result"
    }
   ],
   "source": [
    "l1.append(70)\n",
    "l1.append(40.4)\n",
    "l1.append(True)\n",
    "l1.append('1+2j')\n",
    "l1.append([1,2,3])\n",
    "l1"
   ]
  },
  {
   "cell_type": "code",
   "execution_count": 40,
   "id": "ee54f204-b4a5-4bc5-9773-a1452bcbec27",
   "metadata": {},
   "outputs": [
    {
     "name": "stdout",
     "output_type": "stream",
     "text": [
      "[10, 10, 20, 30, 40, 10, 20, 30, 40]\n",
      "[60, 60.6, 70, 40.4, True, '1+2j', 70, 40.4, True, '1+2j', [1, 2, 3]]\n"
     ]
    }
   ],
   "source": [
    "print(l)\n",
    "print(l1)"
   ]
  },
  {
   "cell_type": "code",
   "execution_count": 42,
   "id": "7d1522f1-083a-498b-94bb-e7e89a709b0f",
   "metadata": {},
   "outputs": [
    {
     "name": "stdout",
     "output_type": "stream",
     "text": [
      "1693974573568\n",
      "1694024478784\n"
     ]
    }
   ],
   "source": [
    "print(id(l))\n",
    "print(id(l1))"
   ]
  },
  {
   "cell_type": "code",
   "execution_count": 44,
   "id": "0ee5e055-5a95-4bcd-b7da-952b43649dc1",
   "metadata": {},
   "outputs": [
    {
     "name": "stdout",
     "output_type": "stream",
     "text": [
      "9\n",
      "11\n"
     ]
    }
   ],
   "source": [
    "print(len(l))\n",
    "print(len(l1))"
   ]
  },
  {
   "cell_type": "code",
   "execution_count": 46,
   "id": "2a425d3f-3ce7-4b20-a3e7-7ffcc9fa744d",
   "metadata": {},
   "outputs": [
    {
     "data": {
      "text/plain": [
       "[60, 60.6, 70, 40.4, True, '1+2j', 70, 40.4, True, '1+2j', [1, 2, 3]]"
      ]
     },
     "execution_count": 46,
     "metadata": {},
     "output_type": "execute_result"
    }
   ],
   "source": [
    "l1"
   ]
  },
  {
   "cell_type": "code",
   "execution_count": 50,
   "id": "e21c370a-1304-4ed3-9180-cca8265a714d",
   "metadata": {},
   "outputs": [
    {
     "data": {
      "text/plain": [
       "[60, 60.6, 70, 40.4, True, '1+2j', 70, 40.4, True, '1+2j', [1, 2, 3]]"
      ]
     },
     "execution_count": 50,
     "metadata": {},
     "output_type": "execute_result"
    }
   ],
   "source": [
    "l2 = l1.copy()\n",
    "l2"
   ]
  },
  {
   "cell_type": "code",
   "execution_count": 52,
   "id": "dd74152f-3857-4b42-8874-8cc9af443e07",
   "metadata": {},
   "outputs": [
    {
     "data": {
      "text/plain": [
       "True"
      ]
     },
     "execution_count": 52,
     "metadata": {},
     "output_type": "execute_result"
    }
   ],
   "source": [
    "l1==l2"
   ]
  },
  {
   "cell_type": "code",
   "execution_count": 54,
   "id": "0aea7048-9915-4afc-9e61-f8deb074a00c",
   "metadata": {},
   "outputs": [
    {
     "data": {
      "text/plain": [
       "[10, 10, 20, 30, 40, 10, 20, 30, 40]"
      ]
     },
     "execution_count": 54,
     "metadata": {},
     "output_type": "execute_result"
    }
   ],
   "source": [
    "l"
   ]
  },
  {
   "cell_type": "code",
   "execution_count": 56,
   "id": "86be84e1-e492-4af8-b069-4af5da45264b",
   "metadata": {},
   "outputs": [
    {
     "data": {
      "text/plain": [
       "False"
      ]
     },
     "execution_count": 56,
     "metadata": {},
     "output_type": "execute_result"
    }
   ],
   "source": [
    "l==l2"
   ]
  },
  {
   "cell_type": "code",
   "execution_count": 58,
   "id": "fd803a74-ca4f-48f1-9c16-40503a7e63d1",
   "metadata": {},
   "outputs": [
    {
     "data": {
      "text/plain": [
       "True"
      ]
     },
     "execution_count": 58,
     "metadata": {},
     "output_type": "execute_result"
    }
   ],
   "source": [
    "l!=l2"
   ]
  },
  {
   "cell_type": "code",
   "execution_count": 60,
   "id": "9b7a8797-5189-41ff-b685-d4fea8c92e0f",
   "metadata": {},
   "outputs": [
    {
     "data": {
      "text/plain": [
       "[10, 10, 20, 30, 40, 10, 20, 30, 40]"
      ]
     },
     "execution_count": 60,
     "metadata": {},
     "output_type": "execute_result"
    }
   ],
   "source": [
    "l"
   ]
  },
  {
   "cell_type": "code",
   "execution_count": 62,
   "id": "2dbeb086-ee0f-49ef-8a43-ab1344e50b33",
   "metadata": {},
   "outputs": [
    {
     "data": {
      "text/plain": [
       "True"
      ]
     },
     "execution_count": 62,
     "metadata": {},
     "output_type": "execute_result"
    }
   ],
   "source": [
    "l1==l2"
   ]
  },
  {
   "cell_type": "code",
   "execution_count": 64,
   "id": "a3a2b382-e0da-4b69-bd00-0a21d4e012d9",
   "metadata": {},
   "outputs": [
    {
     "name": "stdout",
     "output_type": "stream",
     "text": [
      "[60, 60.6, 70, 40.4, True, '1+2j', 70, 40.4, True, '1+2j', [1, 2, 3]]\n",
      "[60, 60.6, 70, 40.4, True, '1+2j', 70, 40.4, True, '1+2j', [1, 2, 3]]\n"
     ]
    }
   ],
   "source": [
    "print(l1)\n",
    "print(l2)"
   ]
  },
  {
   "cell_type": "code",
   "execution_count": 66,
   "id": "ce530995-7157-4266-beb9-6a81e11d81a2",
   "metadata": {},
   "outputs": [
    {
     "name": "stdout",
     "output_type": "stream",
     "text": [
      "1694024478784\n",
      "1694027004160\n"
     ]
    },
    {
     "data": {
      "text/plain": [
       "True"
      ]
     },
     "execution_count": 66,
     "metadata": {},
     "output_type": "execute_result"
    }
   ],
   "source": [
    "print(id(l1))==print(id(l2))"
   ]
  },
  {
   "cell_type": "code",
   "execution_count": 68,
   "id": "5b8912ae-4b67-40af-bfe4-56f672189887",
   "metadata": {},
   "outputs": [
    {
     "name": "stdout",
     "output_type": "stream",
     "text": [
      "140704192473656\n",
      "140704192473656\n"
     ]
    },
    {
     "data": {
      "text/plain": [
       "True"
      ]
     },
     "execution_count": 68,
     "metadata": {},
     "output_type": "execute_result"
    }
   ],
   "source": [
    "a = 5\n",
    "b = 5\n",
    "print(id(a))==print(id(b))"
   ]
  },
  {
   "cell_type": "code",
   "execution_count": 88,
   "id": "3a666f73-199d-4554-9662-43913736a312",
   "metadata": {},
   "outputs": [
    {
     "data": {
      "text/plain": [
       "[30, 40, 20, 30, 40]"
      ]
     },
     "execution_count": 88,
     "metadata": {},
     "output_type": "execute_result"
    }
   ],
   "source": [
    "l"
   ]
  },
  {
   "cell_type": "code",
   "execution_count": 72,
   "id": "8d395ebe-b58c-4245-8468-1c52c915e7c2",
   "metadata": {},
   "outputs": [
    {
     "ename": "TypeError",
     "evalue": "list.remove() takes exactly one argument (0 given)",
     "output_type": "error",
     "traceback": [
      "\u001b[1;31m---------------------------------------------------------------------------\u001b[0m",
      "\u001b[1;31mTypeError\u001b[0m                                 Traceback (most recent call last)",
      "Cell \u001b[1;32mIn[72], line 1\u001b[0m\n\u001b[1;32m----> 1\u001b[0m l\u001b[38;5;241m.\u001b[39mremove()\n",
      "\u001b[1;31mTypeError\u001b[0m: list.remove() takes exactly one argument (0 given)"
     ]
    }
   ],
   "source": [
    "l.remove()"
   ]
  },
  {
   "cell_type": "code",
   "execution_count": 74,
   "id": "260ff354-e299-4047-a601-9d71a86f48ff",
   "metadata": {},
   "outputs": [
    {
     "ename": "ValueError",
     "evalue": "list.remove(x): x not in list",
     "output_type": "error",
     "traceback": [
      "\u001b[1;31m---------------------------------------------------------------------------\u001b[0m",
      "\u001b[1;31mValueError\u001b[0m                                Traceback (most recent call last)",
      "Cell \u001b[1;32mIn[74], line 1\u001b[0m\n\u001b[1;32m----> 1\u001b[0m l\u001b[38;5;241m.\u001b[39mremove(\u001b[38;5;241m50\u001b[39m)\n",
      "\u001b[1;31mValueError\u001b[0m: list.remove(x): x not in list"
     ]
    }
   ],
   "source": [
    "l.remove(50)"
   ]
  },
  {
   "cell_type": "code",
   "execution_count": 86,
   "id": "8404a38c-3cc2-4030-8e17-ca080d5bd565",
   "metadata": {},
   "outputs": [
    {
     "data": {
      "text/plain": [
       "[30, 40, 20, 30, 40]"
      ]
     },
     "execution_count": 86,
     "metadata": {},
     "output_type": "execute_result"
    }
   ],
   "source": [
    "l"
   ]
  },
  {
   "cell_type": "code",
   "execution_count": 90,
   "id": "b86417c9-7129-4fcd-a0a6-c716fc84689e",
   "metadata": {},
   "outputs": [
    {
     "data": {
      "text/plain": [
       "[40, 20, 30, 40]"
      ]
     },
     "execution_count": 90,
     "metadata": {},
     "output_type": "execute_result"
    }
   ],
   "source": [
    "l.remove(30)\n",
    "l"
   ]
  },
  {
   "cell_type": "code",
   "execution_count": 92,
   "id": "94e55a4b-66de-4d11-a7de-c21cf6760ff5",
   "metadata": {},
   "outputs": [
    {
     "data": {
      "text/plain": [
       "[40, 30, 40]"
      ]
     },
     "execution_count": 92,
     "metadata": {},
     "output_type": "execute_result"
    }
   ],
   "source": [
    "l.remove(20)\n",
    "l"
   ]
  },
  {
   "cell_type": "markdown",
   "id": "5d8b213d-c3fa-4146-96ac-452d5ea3f74f",
   "metadata": {},
   "source": [
    "### String Indexing"
   ]
  },
  {
   "cell_type": "code",
   "execution_count": 98,
   "id": "a0f78e29-759e-461c-a422-b87f4007c357",
   "metadata": {},
   "outputs": [
    {
     "data": {
      "text/plain": [
       "'nareshit'"
      ]
     },
     "execution_count": 98,
     "metadata": {},
     "output_type": "execute_result"
    }
   ],
   "source": [
    "s7 = 'nareshit'\n",
    "s7"
   ]
  },
  {
   "cell_type": "code",
   "execution_count": 100,
   "id": "8bf37ff4-093c-44fa-8d07-9bf193b3a643",
   "metadata": {},
   "outputs": [
    {
     "data": {
      "text/plain": [
       "'n'"
      ]
     },
     "execution_count": 100,
     "metadata": {},
     "output_type": "execute_result"
    }
   ],
   "source": [
    "s7[0]"
   ]
  },
  {
   "cell_type": "code",
   "execution_count": 102,
   "id": "7c28ab56-1075-4471-b912-6f754e8a2f11",
   "metadata": {},
   "outputs": [
    {
     "data": {
      "text/plain": [
       "'a'"
      ]
     },
     "execution_count": 102,
     "metadata": {},
     "output_type": "execute_result"
    }
   ],
   "source": [
    "s7[1]"
   ]
  },
  {
   "cell_type": "code",
   "execution_count": 104,
   "id": "2310aeff-7405-47fa-b7bd-9db4132eab58",
   "metadata": {},
   "outputs": [
    {
     "ename": "IndexError",
     "evalue": "string index out of range",
     "output_type": "error",
     "traceback": [
      "\u001b[1;31m---------------------------------------------------------------------------\u001b[0m",
      "\u001b[1;31mIndexError\u001b[0m                                Traceback (most recent call last)",
      "Cell \u001b[1;32mIn[104], line 1\u001b[0m\n\u001b[1;32m----> 1\u001b[0m s7[\u001b[38;5;241m10\u001b[39m]\n",
      "\u001b[1;31mIndexError\u001b[0m: string index out of range"
     ]
    }
   ],
   "source": [
    "s7[10]"
   ]
  },
  {
   "cell_type": "code",
   "execution_count": 106,
   "id": "c14b5d06-91dc-4aad-92c9-2eaefdd448ab",
   "metadata": {},
   "outputs": [
    {
     "data": {
      "text/plain": [
       "'nareshit'"
      ]
     },
     "execution_count": 106,
     "metadata": {},
     "output_type": "execute_result"
    }
   ],
   "source": [
    "s7"
   ]
  },
  {
   "cell_type": "code",
   "execution_count": 108,
   "id": "1797adc5-bd96-4d38-a8ef-db40306933f6",
   "metadata": {},
   "outputs": [
    {
     "data": {
      "text/plain": [
       "'h'"
      ]
     },
     "execution_count": 108,
     "metadata": {},
     "output_type": "execute_result"
    }
   ],
   "source": [
    "s7[-3]"
   ]
  },
  {
   "cell_type": "code",
   "execution_count": 110,
   "id": "c55be78c-d436-4112-9e8d-5e42897bf9ec",
   "metadata": {},
   "outputs": [
    {
     "ename": "IndexError",
     "evalue": "string index out of range",
     "output_type": "error",
     "traceback": [
      "\u001b[1;31m---------------------------------------------------------------------------\u001b[0m",
      "\u001b[1;31mIndexError\u001b[0m                                Traceback (most recent call last)",
      "Cell \u001b[1;32mIn[110], line 1\u001b[0m\n\u001b[1;32m----> 1\u001b[0m s7[\u001b[38;5;241m-\u001b[39m\u001b[38;5;241m9\u001b[39m]\n",
      "\u001b[1;31mIndexError\u001b[0m: string index out of range"
     ]
    }
   ],
   "source": [
    "s7[-9]"
   ]
  },
  {
   "cell_type": "code",
   "execution_count": 112,
   "id": "81056bf0-a9e0-4fa5-ae9c-fa9b1a220379",
   "metadata": {},
   "outputs": [
    {
     "data": {
      "text/plain": [
       "'nareshit'"
      ]
     },
     "execution_count": 112,
     "metadata": {},
     "output_type": "execute_result"
    }
   ],
   "source": [
    "s7"
   ]
  },
  {
   "cell_type": "code",
   "execution_count": 114,
   "id": "7e108521-a189-4d84-b8ec-f5508b493f4c",
   "metadata": {},
   "outputs": [
    {
     "data": {
      "text/plain": [
       "'n'"
      ]
     },
     "execution_count": 114,
     "metadata": {},
     "output_type": "execute_result"
    }
   ],
   "source": [
    "s7[-8]"
   ]
  },
  {
   "cell_type": "code",
   "execution_count": 116,
   "id": "e89925fa-424d-4409-9e73-07e27e801367",
   "metadata": {},
   "outputs": [
    {
     "data": {
      "text/plain": [
       "'a'"
      ]
     },
     "execution_count": 116,
     "metadata": {},
     "output_type": "execute_result"
    }
   ],
   "source": [
    "s7[-7]"
   ]
  },
  {
   "cell_type": "code",
   "execution_count": 118,
   "id": "b469a35e-252a-44d2-ad6d-08af0a1ea1ad",
   "metadata": {},
   "outputs": [
    {
     "name": "stdout",
     "output_type": "stream",
     "text": [
      "n\n",
      "a\n",
      "r\n",
      "e\n",
      "s\n",
      "h\n",
      "i\n",
      "t\n"
     ]
    }
   ],
   "source": [
    "for i in s7:\n",
    "    print(i)"
   ]
  },
  {
   "cell_type": "markdown",
   "id": "6100bd16-49af-437b-abaa-060a09b806df",
   "metadata": {},
   "source": [
    "### Slicing[:]"
   ]
  },
  {
   "cell_type": "code",
   "execution_count": 122,
   "id": "51122558-447e-4bd1-97b8-f7b94f9a0c5b",
   "metadata": {},
   "outputs": [
    {
     "data": {
      "text/plain": [
       "'abcdefghi'"
      ]
     },
     "execution_count": 122,
     "metadata": {},
     "output_type": "execute_result"
    }
   ],
   "source": [
    "s1 = 'abcdefghi'\n",
    "s1"
   ]
  },
  {
   "cell_type": "code",
   "execution_count": 124,
   "id": "72e25867-d49a-41a5-9588-7d995fc4af16",
   "metadata": {},
   "outputs": [
    {
     "data": {
      "text/plain": [
       "'abcde'"
      ]
     },
     "execution_count": 124,
     "metadata": {},
     "output_type": "execute_result"
    }
   ],
   "source": [
    "s1[0:5]"
   ]
  },
  {
   "cell_type": "code",
   "execution_count": 126,
   "id": "9d5b9340-9a35-4749-8c3e-028a2c4cc253",
   "metadata": {},
   "outputs": [
    {
     "data": {
      "text/plain": [
       "'abcdefghi'"
      ]
     },
     "execution_count": 126,
     "metadata": {},
     "output_type": "execute_result"
    }
   ],
   "source": [
    "s1[0:9]"
   ]
  },
  {
   "cell_type": "code",
   "execution_count": 130,
   "id": "7eb6f347-25ca-4055-aa51-e1c823531b5f",
   "metadata": {},
   "outputs": [
    {
     "data": {
      "text/plain": [
       "'bcdefgh'"
      ]
     },
     "execution_count": 130,
     "metadata": {},
     "output_type": "execute_result"
    }
   ],
   "source": [
    "s1[1:8]"
   ]
  },
  {
   "cell_type": "code",
   "execution_count": 132,
   "id": "3ad3cc78-d1cb-4270-89d7-2b893e800320",
   "metadata": {},
   "outputs": [
    {
     "data": {
      "text/plain": [
       "'abcdefghi'"
      ]
     },
     "execution_count": 132,
     "metadata": {},
     "output_type": "execute_result"
    }
   ],
   "source": [
    "s1"
   ]
  },
  {
   "cell_type": "code",
   "execution_count": 134,
   "id": "97ab601d-c748-487b-a51c-bff82b8a2d97",
   "metadata": {},
   "outputs": [
    {
     "data": {
      "text/plain": [
       "'bcdef'"
      ]
     },
     "execution_count": 134,
     "metadata": {},
     "output_type": "execute_result"
    }
   ],
   "source": [
    "s1[1:-3]"
   ]
  },
  {
   "cell_type": "code",
   "execution_count": 136,
   "id": "3fafbf9d-6cb4-4ae1-996a-c12fd8fc8fd1",
   "metadata": {},
   "outputs": [
    {
     "data": {
      "text/plain": [
       "'abcdefghi'"
      ]
     },
     "execution_count": 136,
     "metadata": {},
     "output_type": "execute_result"
    }
   ],
   "source": [
    "s1"
   ]
  },
  {
   "cell_type": "code",
   "execution_count": 138,
   "id": "f3e178ae-083f-4f5d-9709-9b84f7bbc260",
   "metadata": {},
   "outputs": [
    {
     "data": {
      "text/plain": [
       "'bcde'"
      ]
     },
     "execution_count": 138,
     "metadata": {},
     "output_type": "execute_result"
    }
   ],
   "source": [
    "s1[1:-4]"
   ]
  },
  {
   "cell_type": "code",
   "execution_count": 144,
   "id": "b3922fb1-c695-47ca-a9f8-cfc8e07b5565",
   "metadata": {},
   "outputs": [
    {
     "data": {
      "text/plain": [
       "[1, 2, 3, 4, 5, 6, 7, 8, 9, 10]"
      ]
     },
     "execution_count": 144,
     "metadata": {},
     "output_type": "execute_result"
    }
   ],
   "source": [
    "step_indexing = [1, 2, 3, 4, 5, 6, 7, 8, 9, 10]\n",
    "step_indexing"
   ]
  },
  {
   "cell_type": "code",
   "execution_count": 146,
   "id": "1e6921f5-7076-469f-a9b3-ffe142a54c57",
   "metadata": {},
   "outputs": [
    {
     "data": {
      "text/plain": [
       "[1, 5, 9]"
      ]
     },
     "execution_count": 146,
     "metadata": {},
     "output_type": "execute_result"
    }
   ],
   "source": [
    "step_indexing[0:10:4]"
   ]
  },
  {
   "cell_type": "code",
   "execution_count": 148,
   "id": "6416000e-4498-45b5-852e-6bfdb5283a3c",
   "metadata": {},
   "outputs": [
    {
     "data": {
      "text/plain": [
       "[1, 2, 3, 4, 5, 6, 7, 8, 9, 10]"
      ]
     },
     "execution_count": 148,
     "metadata": {},
     "output_type": "execute_result"
    }
   ],
   "source": [
    "step_indexing"
   ]
  },
  {
   "cell_type": "code",
   "execution_count": 150,
   "id": "de27631b-74e1-413e-8b69-1ecdd72e85d6",
   "metadata": {},
   "outputs": [
    {
     "data": {
      "text/plain": [
       "[1, 6]"
      ]
     },
     "execution_count": 150,
     "metadata": {},
     "output_type": "execute_result"
    }
   ],
   "source": [
    "step_indexing[0:10:5]"
   ]
  },
  {
   "cell_type": "code",
   "execution_count": 152,
   "id": "275c1419-7a5b-43de-9985-85ef5f95958f",
   "metadata": {},
   "outputs": [
    {
     "data": {
      "text/plain": [
       "[1, 2, 3, 4, 5, 6, 7, 8, 9, 10]"
      ]
     },
     "execution_count": 152,
     "metadata": {},
     "output_type": "execute_result"
    }
   ],
   "source": [
    "step_indexing[:]"
   ]
  },
  {
   "cell_type": "code",
   "execution_count": 154,
   "id": "c1a6e26c-ba52-449f-ac52-c8436c6f65cc",
   "metadata": {},
   "outputs": [
    {
     "data": {
      "text/plain": [
       "[40, 30, 40]"
      ]
     },
     "execution_count": 154,
     "metadata": {},
     "output_type": "execute_result"
    }
   ],
   "source": [
    "l"
   ]
  },
  {
   "cell_type": "code",
   "execution_count": 156,
   "id": "480cd4d8-5e28-4c6c-9a18-6a4cf9e08451",
   "metadata": {},
   "outputs": [
    {
     "data": {
      "text/plain": [
       "[40, 30, 40]"
      ]
     },
     "execution_count": 156,
     "metadata": {},
     "output_type": "execute_result"
    }
   ],
   "source": [
    "l.reverse()\n",
    "l"
   ]
  },
  {
   "cell_type": "code",
   "execution_count": 158,
   "id": "3e4f5cc9-5a37-42dc-804e-5ea4f2190adc",
   "metadata": {},
   "outputs": [
    {
     "data": {
      "text/plain": [
       "(10, 20, 30, 40, 50)"
      ]
     },
     "execution_count": 158,
     "metadata": {},
     "output_type": "execute_result"
    }
   ],
   "source": [
    "l5 = (10, 20, 30, 40, 50)\n",
    "l5"
   ]
  },
  {
   "cell_type": "code",
   "execution_count": 162,
   "id": "7d24516a-cdbb-4bd7-86dc-c19f6b469f7e",
   "metadata": {},
   "outputs": [
    {
     "data": {
      "text/plain": [
       "[]"
      ]
     },
     "execution_count": 162,
     "metadata": {},
     "output_type": "execute_result"
    }
   ],
   "source": [
    "l5 = []\n",
    "l5"
   ]
  },
  {
   "cell_type": "code",
   "execution_count": 166,
   "id": "76ab05ee-6f33-4d7b-b163-4963ea6354df",
   "metadata": {},
   "outputs": [
    {
     "data": {
      "text/plain": [
       "[60, 40, 30, 20, 10]"
      ]
     },
     "execution_count": 166,
     "metadata": {},
     "output_type": "execute_result"
    }
   ],
   "source": [
    "l5.append(60)\n",
    "l5.append(40)\n",
    "l5.append(30)\n",
    "l5.append(20)\n",
    "l5.append(10)\n",
    "l5"
   ]
  },
  {
   "cell_type": "code",
   "execution_count": 168,
   "id": "d38156cb-254e-420f-b9ad-dd9790a23325",
   "metadata": {},
   "outputs": [
    {
     "data": {
      "text/plain": [
       "[10, 20, 30, 40, 60]"
      ]
     },
     "execution_count": 168,
     "metadata": {},
     "output_type": "execute_result"
    }
   ],
   "source": [
    "l5.reverse()\n",
    "l5"
   ]
  },
  {
   "cell_type": "code",
   "execution_count": 170,
   "id": "fab1b62f-eeed-4766-8b8a-0ac626d80cee",
   "metadata": {},
   "outputs": [
    {
     "data": {
      "text/plain": [
       "[60, 60.6, 70, 40.4, True, '1+2j', 70, 40.4, True, '1+2j', [1, 2, 3]]"
      ]
     },
     "execution_count": 170,
     "metadata": {},
     "output_type": "execute_result"
    }
   ],
   "source": [
    "l2"
   ]
  },
  {
   "cell_type": "code",
   "execution_count": 185,
   "id": "1e76b6b7-240f-4cfb-96b1-e63450c7b191",
   "metadata": {},
   "outputs": [
    {
     "data": {
      "text/plain": [
       "[60, 40, 30, 20, 10]"
      ]
     },
     "execution_count": 185,
     "metadata": {},
     "output_type": "execute_result"
    }
   ],
   "source": [
    "l6 = l5.reverse()\n",
    "l5"
   ]
  },
  {
   "cell_type": "code",
   "execution_count": null,
   "id": "f2ac1b68-f60b-42b8-9031-86801fe1a2c6",
   "metadata": {},
   "outputs": [],
   "source": []
  }
 ],
 "metadata": {
  "kernelspec": {
   "display_name": "Python 3 (ipykernel)",
   "language": "python",
   "name": "python3"
  },
  "language_info": {
   "codemirror_mode": {
    "name": "ipython",
    "version": 3
   },
   "file_extension": ".py",
   "mimetype": "text/x-python",
   "name": "python",
   "nbconvert_exporter": "python",
   "pygments_lexer": "ipython3",
   "version": "3.12.7"
  }
 },
 "nbformat": 4,
 "nbformat_minor": 5
}

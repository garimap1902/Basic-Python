{
 "cells": [
  {
   "cell_type": "markdown",
   "id": "22f61266-b34f-40f5-8342-0a36de7d32e2",
   "metadata": {},
   "source": [
    "### 1ST FEB"
   ]
  },
  {
   "cell_type": "code",
   "execution_count": 5,
   "id": "25d06c7e-7b6d-44e1-9a36-f63661c6e9b1",
   "metadata": {},
   "outputs": [
    {
     "data": {
      "text/plain": [
       "{}"
      ]
     },
     "execution_count": 5,
     "metadata": {},
     "output_type": "execute_result"
    }
   ],
   "source": [
    "s5 = {}\n",
    "s5"
   ]
  },
  {
   "cell_type": "code",
   "execution_count": 16,
   "id": "6834b528-1675-4c85-a700-265f3d58199a",
   "metadata": {},
   "outputs": [
    {
     "data": {
      "text/plain": [
       "{(1+2j), 2, 3, 4.8, 'Nit', True}"
      ]
     },
     "execution_count": 16,
     "metadata": {},
     "output_type": "execute_result"
    }
   ],
   "source": [
    "S6 = {2, 3, 'Nit', 1+2j, True, 4.8}\n",
    "S6"
   ]
  },
  {
   "cell_type": "code",
   "execution_count": 18,
   "id": "7bf159bd-c0aa-41f5-a69b-14de7eb4bc3f",
   "metadata": {},
   "outputs": [
    {
     "data": {
      "text/plain": [
       "set"
      ]
     },
     "execution_count": 18,
     "metadata": {},
     "output_type": "execute_result"
    }
   ],
   "source": [
    "type(S6)"
   ]
  },
  {
   "cell_type": "code",
   "execution_count": 20,
   "id": "5e64e1e0-2810-461c-963d-e578ba3f758d",
   "metadata": {},
   "outputs": [
    {
     "data": {
      "text/plain": [
       "True"
      ]
     },
     "execution_count": 20,
     "metadata": {},
     "output_type": "execute_result"
    }
   ],
   "source": [
    "2 in S6"
   ]
  },
  {
   "cell_type": "code",
   "execution_count": 22,
   "id": "037e27d5-523e-45dc-94b7-93b667a0c8bf",
   "metadata": {},
   "outputs": [
    {
     "data": {
      "text/plain": [
       "False"
      ]
     },
     "execution_count": 22,
     "metadata": {},
     "output_type": "execute_result"
    }
   ],
   "source": [
    "9 in S6"
   ]
  },
  {
   "cell_type": "code",
   "execution_count": 32,
   "id": "a82179a4-92b6-431e-8340-93061013bb45",
   "metadata": {},
   "outputs": [
    {
     "name": "stdout",
     "output_type": "stream",
     "text": [
      "True\n",
      "2\n",
      "3\n",
      "4.8\n",
      "(1+2j)\n",
      "Nit\n"
     ]
    }
   ],
   "source": [
    "for i in S6:\n",
    "    print(i)"
   ]
  },
  {
   "cell_type": "code",
   "execution_count": 38,
   "id": "b9c2f629-7f02-4db4-8213-91ccd799eb55",
   "metadata": {},
   "outputs": [
    {
     "name": "stdout",
     "output_type": "stream",
     "text": [
      "(0, True)\n",
      "(1, 2)\n",
      "(2, 3)\n",
      "(3, 4.8)\n",
      "(4, (1+2j))\n",
      "(5, 'Nit')\n"
     ]
    }
   ],
   "source": [
    "for i in enumerate (S6):\n",
    "    print(i)"
   ]
  },
  {
   "cell_type": "code",
   "execution_count": 40,
   "id": "ce2ba169-4aa8-428d-a90b-f7d8c77601fd",
   "metadata": {},
   "outputs": [
    {
     "data": {
      "text/plain": [
       "{(1+2j), 2, 3, 4.8, 'Nit', True}"
      ]
     },
     "execution_count": 40,
     "metadata": {},
     "output_type": "execute_result"
    }
   ],
   "source": [
    "S6"
   ]
  },
  {
   "cell_type": "code",
   "execution_count": 45,
   "id": "77f6ac83-58e2-4ff4-abe0-2fa7d9bd5b94",
   "metadata": {},
   "outputs": [
    {
     "data": {
      "text/plain": [
       "{(1+2j), 10, 2, 20, 3, 30, 4.8, 'Nit', True}"
      ]
     },
     "execution_count": 45,
     "metadata": {},
     "output_type": "execute_result"
    }
   ],
   "source": [
    "S6.update([10, 20, 30])\n",
    "S6"
   ]
  },
  {
   "cell_type": "code",
   "execution_count": 47,
   "id": "32af2545-78b1-49a9-ba84-e99eeec0dc49",
   "metadata": {},
   "outputs": [
    {
     "data": {
      "text/plain": [
       "{(1+2j), 10, 2, 20, 200, 3, 30, 300, 4.8, 400, 'Nit', True}"
      ]
     },
     "execution_count": 47,
     "metadata": {},
     "output_type": "execute_result"
    }
   ],
   "source": [
    "S6.update([200, 300, 400])\n",
    "S6"
   ]
  },
  {
   "cell_type": "code",
   "execution_count": 49,
   "id": "3efea972-5aeb-4b81-87bd-cd1d9d2188c9",
   "metadata": {},
   "outputs": [
    {
     "data": {
      "text/plain": [
       "{(1+2j), 10, 2, 20, 200, 3, 30, 300, 4.8, 400, 'Nit', True}"
      ]
     },
     "execution_count": 49,
     "metadata": {},
     "output_type": "execute_result"
    }
   ],
   "source": [
    "s7 = S6.copy()\n",
    "s7"
   ]
  },
  {
   "cell_type": "markdown",
   "id": "046dbcfc-828b-48de-9557-5d18d4557aba",
   "metadata": {},
   "source": [
    "### SET OPERATION"
   ]
  },
  {
   "cell_type": "code",
   "execution_count": 52,
   "id": "2337cb7a-0297-4c55-8bc5-749f4149d34b",
   "metadata": {},
   "outputs": [
    {
     "data": {
      "text/plain": [
       "{1, 2, 3, 4, 5, 6, 7, 8}"
      ]
     },
     "execution_count": 52,
     "metadata": {},
     "output_type": "execute_result"
    }
   ],
   "source": [
    "A = {1, 2, 3, 4}                    # Union means marge\n",
    "B = {4, 5, 6, 7, 8}\n",
    "C = {8, 9, 10}\n",
    "A.union(B)"
   ]
  },
  {
   "cell_type": "code",
   "execution_count": 54,
   "id": "f0ef9bac-8794-4f71-a8e1-09ee21b7596c",
   "metadata": {},
   "outputs": [
    {
     "data": {
      "text/plain": [
       "{1, 2, 3, 4, 5, 6, 7, 8, 9, 10}"
      ]
     },
     "execution_count": 54,
     "metadata": {},
     "output_type": "execute_result"
    }
   ],
   "source": [
    "A.union(B,C)"
   ]
  },
  {
   "cell_type": "code",
   "execution_count": 56,
   "id": "32e09017-c01e-4926-ba80-06c4124d6212",
   "metadata": {},
   "outputs": [
    {
     "ename": "TypeError",
     "evalue": "'int' object is not iterable",
     "output_type": "error",
     "traceback": [
      "\u001b[1;31m---------------------------------------------------------------------------\u001b[0m",
      "\u001b[1;31mTypeError\u001b[0m                                 Traceback (most recent call last)",
      "Cell \u001b[1;32mIn[56], line 1\u001b[0m\n\u001b[1;32m----> 1\u001b[0m A\u001b[38;5;241m.\u001b[39munion(B,C, \u001b[38;5;241m50\u001b[39m)\n",
      "\u001b[1;31mTypeError\u001b[0m: 'int' object is not iterable"
     ]
    }
   ],
   "source": [
    "A.union(B,C, 50)"
   ]
  },
  {
   "cell_type": "code",
   "execution_count": 58,
   "id": "248f3b2c-2001-4526-96bf-774073292678",
   "metadata": {},
   "outputs": [
    {
     "name": "stdout",
     "output_type": "stream",
     "text": [
      "{1, 2, 3, 4}\n",
      "{4, 5, 6, 7, 8}\n",
      "{8, 9, 10}\n"
     ]
    }
   ],
   "source": [
    "print(A)\n",
    "print(B)\n",
    "print(C)"
   ]
  },
  {
   "cell_type": "code",
   "execution_count": 60,
   "id": "e58d6c57-8414-487c-900c-6a5a69e2977c",
   "metadata": {},
   "outputs": [
    {
     "data": {
      "text/plain": [
       "{1, 2, 3, 4, 5, 6, 7, 8}"
      ]
     },
     "execution_count": 60,
     "metadata": {},
     "output_type": "execute_result"
    }
   ],
   "source": [
    "A|B"
   ]
  },
  {
   "cell_type": "code",
   "execution_count": 62,
   "id": "6b781fac-8ce0-4535-a8bd-b831f4cfbe78",
   "metadata": {},
   "outputs": [
    {
     "data": {
      "text/plain": [
       "{1, 2, 3, 4, 5, 6, 7, 8, 9, 10}"
      ]
     },
     "execution_count": 62,
     "metadata": {},
     "output_type": "execute_result"
    }
   ],
   "source": [
    "A|B|C"
   ]
  },
  {
   "cell_type": "code",
   "execution_count": 64,
   "id": "212aa2ce-8512-4353-8746-5db3ebce7bf3",
   "metadata": {},
   "outputs": [
    {
     "ename": "NameError",
     "evalue": "name 'D' is not defined",
     "output_type": "error",
     "traceback": [
      "\u001b[1;31m---------------------------------------------------------------------------\u001b[0m",
      "\u001b[1;31mNameError\u001b[0m                                 Traceback (most recent call last)",
      "Cell \u001b[1;32mIn[64], line 1\u001b[0m\n\u001b[1;32m----> 1\u001b[0m A\u001b[38;5;241m|\u001b[39mB\u001b[38;5;241m|\u001b[39mC\u001b[38;5;241m|\u001b[39mD\n",
      "\u001b[1;31mNameError\u001b[0m: name 'D' is not defined"
     ]
    }
   ],
   "source": [
    "A|B|C|D"
   ]
  },
  {
   "cell_type": "code",
   "execution_count": 58,
   "id": "ee73082b-a731-49a1-8fbb-91ff68d8d4f9",
   "metadata": {},
   "outputs": [
    {
     "name": "stdout",
     "output_type": "stream",
     "text": [
      "{1, 2, 3, 4}\n",
      "{4, 5, 6, 7, 8}\n",
      "{8, 9, 10}\n"
     ]
    }
   ],
   "source": [
    "print(A)\n",
    "print(B)\n",
    "print(C)"
   ]
  },
  {
   "cell_type": "code",
   "execution_count": 66,
   "id": "67f48b80-4691-4597-a072-485a7799dd13",
   "metadata": {},
   "outputs": [
    {
     "data": {
      "text/plain": [
       "{4}"
      ]
     },
     "execution_count": 66,
     "metadata": {},
     "output_type": "execute_result"
    }
   ],
   "source": [
    "A&B #Comman value"
   ]
  },
  {
   "cell_type": "code",
   "execution_count": 68,
   "id": "cc1fa3c1-8163-4ab5-939b-d3f6ae0e8c7a",
   "metadata": {},
   "outputs": [
    {
     "data": {
      "text/plain": [
       "{4}"
      ]
     },
     "execution_count": 68,
     "metadata": {},
     "output_type": "execute_result"
    }
   ],
   "source": [
    "A.intersection(B) # Comman element"
   ]
  },
  {
   "cell_type": "code",
   "execution_count": 70,
   "id": "141875dc-ee80-473d-af8c-85ef34c2d2e6",
   "metadata": {},
   "outputs": [
    {
     "data": {
      "text/plain": [
       "set()"
      ]
     },
     "execution_count": 70,
     "metadata": {},
     "output_type": "execute_result"
    }
   ],
   "source": [
    "A.intersection(C) # NO Comman number"
   ]
  },
  {
   "cell_type": "code",
   "execution_count": 58,
   "id": "a4d4900a-4b99-46fd-8894-dede3140579a",
   "metadata": {},
   "outputs": [
    {
     "name": "stdout",
     "output_type": "stream",
     "text": [
      "{1, 2, 3, 4}\n",
      "{4, 5, 6, 7, 8}\n",
      "{8, 9, 10}\n"
     ]
    }
   ],
   "source": [
    "print(A)\n",
    "print(B)\n",
    "print(C)"
   ]
  },
  {
   "cell_type": "code",
   "execution_count": 72,
   "id": "8a7dc9f4-c739-4c22-add3-14d9a1e4d064",
   "metadata": {},
   "outputs": [
    {
     "data": {
      "text/plain": [
       "{8}"
      ]
     },
     "execution_count": 72,
     "metadata": {},
     "output_type": "execute_result"
    }
   ],
   "source": [
    "B.intersection(C) # Comman number"
   ]
  },
  {
   "cell_type": "code",
   "execution_count": 74,
   "id": "f7f1ae67-118e-4351-ae62-169f58f5aa6f",
   "metadata": {},
   "outputs": [
    {
     "data": {
      "text/plain": [
       "set()"
      ]
     },
     "execution_count": 74,
     "metadata": {},
     "output_type": "execute_result"
    }
   ],
   "source": [
    "A.intersection(B,C) #In intersection user has to pass only 1 argument"
   ]
  },
  {
   "cell_type": "code",
   "execution_count": 58,
   "id": "86fb2684-bc59-4d91-84a7-3251dbddbd92",
   "metadata": {},
   "outputs": [
    {
     "name": "stdout",
     "output_type": "stream",
     "text": [
      "{1, 2, 3, 4}\n",
      "{4, 5, 6, 7, 8}\n",
      "{8, 9, 10}\n"
     ]
    }
   ],
   "source": [
    "print(A)\n",
    "print(B)\n",
    "print(C)"
   ]
  },
  {
   "cell_type": "code",
   "execution_count": 76,
   "id": "fba5fba7-08e7-4a84-b027-e4f71cd28885",
   "metadata": {},
   "outputs": [
    {
     "data": {
      "text/plain": [
       "{1, 2, 3}"
      ]
     },
     "execution_count": 76,
     "metadata": {},
     "output_type": "execute_result"
    }
   ],
   "source": [
    "A-B # "
   ]
  },
  {
   "cell_type": "code",
   "execution_count": 88,
   "id": "d232d429-b3f0-4bca-b487-c95b9e063ed8",
   "metadata": {},
   "outputs": [
    {
     "data": {
      "text/plain": [
       "{1, 2, 3, 4}"
      ]
     },
     "execution_count": 88,
     "metadata": {},
     "output_type": "execute_result"
    }
   ],
   "source": [
    "A-C"
   ]
  },
  {
   "cell_type": "code",
   "execution_count": 82,
   "id": "5f4f5004-6dd8-479d-8550-f0aba498b0d8",
   "metadata": {},
   "outputs": [
    {
     "data": {
      "text/plain": [
       "{1, 2, 3, 4}"
      ]
     },
     "execution_count": 82,
     "metadata": {},
     "output_type": "execute_result"
    }
   ],
   "source": [
    "A.difference(C)"
   ]
  },
  {
   "cell_type": "code",
   "execution_count": 84,
   "id": "c9d507eb-cf5b-4182-90c2-f93553a35439",
   "metadata": {},
   "outputs": [
    {
     "data": {
      "text/plain": [
       "{1, 2, 3}"
      ]
     },
     "execution_count": 84,
     "metadata": {},
     "output_type": "execute_result"
    }
   ],
   "source": [
    "A.difference(B)"
   ]
  },
  {
   "cell_type": "code",
   "execution_count": 90,
   "id": "82789316-f54c-4894-9d55-c23e29fd47c1",
   "metadata": {},
   "outputs": [
    {
     "data": {
      "text/plain": [
       "{8, 9, 10}"
      ]
     },
     "execution_count": 90,
     "metadata": {},
     "output_type": "execute_result"
    }
   ],
   "source": [
    "C-A"
   ]
  },
  {
   "cell_type": "code",
   "execution_count": 58,
   "id": "a0d4a775-7e3c-4069-bfc9-d1005d64ed37",
   "metadata": {},
   "outputs": [
    {
     "name": "stdout",
     "output_type": "stream",
     "text": [
      "{1, 2, 3, 4}\n",
      "{4, 5, 6, 7, 8}\n",
      "{8, 9, 10}\n"
     ]
    }
   ],
   "source": [
    "print(A)\n",
    "print(B)\n",
    "print(C)"
   ]
  },
  {
   "cell_type": "code",
   "execution_count": 92,
   "id": "3e547093-9a33-4682-ad11-9742dc4e8047",
   "metadata": {},
   "outputs": [
    {
     "data": {
      "text/plain": [
       "{1, 2, 3, 5, 6, 7, 8}"
      ]
     },
     "execution_count": 92,
     "metadata": {},
     "output_type": "execute_result"
    }
   ],
   "source": [
    "A.symmetric_difference(B) # NO comman element A and B"
   ]
  },
  {
   "cell_type": "code",
   "execution_count": 94,
   "id": "9830ba7b-e8d2-42de-8126-290fbe5141e6",
   "metadata": {},
   "outputs": [
    {
     "data": {
      "text/plain": [
       "{1, 2, 3, 4, 8, 9, 10}"
      ]
     },
     "execution_count": 94,
     "metadata": {},
     "output_type": "execute_result"
    }
   ],
   "source": [
    "A.symmetric_difference(C)"
   ]
  },
  {
   "cell_type": "code",
   "execution_count": 96,
   "id": "01fdb139-4d36-4e38-b774-b8304e68d364",
   "metadata": {},
   "outputs": [
    {
     "data": {
      "text/plain": [
       "{4, 5, 6, 7, 9, 10}"
      ]
     },
     "execution_count": 96,
     "metadata": {},
     "output_type": "execute_result"
    }
   ],
   "source": [
    "B.symmetric_difference(C)"
   ]
  },
  {
   "cell_type": "code",
   "execution_count": 105,
   "id": "de032145-28e0-4892-8ee0-8cd81b3f4859",
   "metadata": {},
   "outputs": [
    {
     "name": "stdout",
     "output_type": "stream",
     "text": [
      "{1, 2, 3, 4, 6}\n",
      "{4, 5, 6, 7, 8}\n",
      "{8, 9, 10}\n"
     ]
    }
   ],
   "source": [
    "A1 = {1, 2, 3, 4, 6}                    \n",
    "B1 = {4, 5, 6, 7, 8}\n",
    "C1 = {8, 9, 10, 9}\n",
    "print(A1)\n",
    "print(B1)\n",
    "print(C1)\n"
   ]
  },
  {
   "cell_type": "code",
   "execution_count": 107,
   "id": "0c4896d2-3b8a-48f3-bba3-ca7c2aa6b1ea",
   "metadata": {},
   "outputs": [
    {
     "data": {
      "text/plain": [
       "False"
      ]
     },
     "execution_count": 107,
     "metadata": {},
     "output_type": "execute_result"
    }
   ],
   "source": [
    "B1.issubset(A1)"
   ]
  },
  {
   "cell_type": "code",
   "execution_count": 109,
   "id": "91b18390-1881-43a2-a87b-238bba5cbb24",
   "metadata": {},
   "outputs": [
    {
     "name": "stdout",
     "output_type": "stream",
     "text": [
      "{1, 2, 3, 4, 5, 6, 7, 8, 9}\n",
      "{3, 4, 5, 6, 7, 8}\n",
      "{40, 10, 20, 30}\n"
     ]
    }
   ],
   "source": [
    "A3 = {1,2,3,4,5,6,7,8,9}\n",
    "B3 = {3,4,5,6,7,8}\n",
    "C3= {10,20,30,40}\n",
    "print(A3)\n",
    "print(B3)\n",
    "print(C3)"
   ]
  },
  {
   "cell_type": "code",
   "execution_count": 111,
   "id": "5ee24d10-ff3b-49fe-93ed-ab97294505b9",
   "metadata": {},
   "outputs": [
    {
     "data": {
      "text/plain": [
       "True"
      ]
     },
     "execution_count": 111,
     "metadata": {},
     "output_type": "execute_result"
    }
   ],
   "source": [
    "B3.issubset(A3)           # B3 element in A3(It means all the elements of B3 are present inside A3)"
   ]
  },
  {
   "cell_type": "code",
   "execution_count": 113,
   "id": "3a6d9f8b-c975-4b12-a259-3e9e245f8457",
   "metadata": {},
   "outputs": [
    {
     "data": {
      "text/plain": [
       "False"
      ]
     },
     "execution_count": 113,
     "metadata": {},
     "output_type": "execute_result"
    }
   ],
   "source": [
    "A3.issubset(B3)"
   ]
  },
  {
   "cell_type": "code",
   "execution_count": 117,
   "id": "44d6628f-a5a7-4b93-953b-bd303e7fc0d9",
   "metadata": {},
   "outputs": [
    {
     "data": {
      "text/plain": [
       "True"
      ]
     },
     "execution_count": 117,
     "metadata": {},
     "output_type": "execute_result"
    }
   ],
   "source": [
    "A3.issuperset(B3)  # B3 All elment in A3"
   ]
  },
  {
   "cell_type": "code",
   "execution_count": 119,
   "id": "486cfc3c-a908-46dd-8931-8d5516956130",
   "metadata": {},
   "outputs": [
    {
     "name": "stdout",
     "output_type": "stream",
     "text": [
      "{1, 2, 3, 4, 5, 6, 7, 8, 9}\n",
      "{3, 4, 5, 6, 7, 8}\n",
      "{40, 10, 20, 30}\n"
     ]
    }
   ],
   "source": [
    "print(A3)\n",
    "print(B3)\n",
    "print(C3)"
   ]
  },
  {
   "cell_type": "code",
   "execution_count": 121,
   "id": "0d160dd3-d2b9-4adb-a74f-890e013751b7",
   "metadata": {},
   "outputs": [
    {
     "data": {
      "text/plain": [
       "False"
      ]
     },
     "execution_count": 121,
     "metadata": {},
     "output_type": "execute_result"
    }
   ],
   "source": [
    "C3.issubset(A3)\n"
   ]
  },
  {
   "cell_type": "code",
   "execution_count": 123,
   "id": "5689ebad-d6e3-434d-9274-95c7d723c728",
   "metadata": {},
   "outputs": [
    {
     "data": {
      "text/plain": [
       "False"
      ]
     },
     "execution_count": 123,
     "metadata": {},
     "output_type": "execute_result"
    }
   ],
   "source": [
    "C3.issuperset(A3)"
   ]
  },
  {
   "cell_type": "code",
   "execution_count": 125,
   "id": "01836b09-06c9-4022-9ad6-71dd44acbaa0",
   "metadata": {},
   "outputs": [
    {
     "data": {
      "text/plain": [
       "True"
      ]
     },
     "execution_count": 125,
     "metadata": {},
     "output_type": "execute_result"
    }
   ],
   "source": [
    "C3.isdisjoint(A3) # no any common element"
   ]
  },
  {
   "cell_type": "code",
   "execution_count": 127,
   "id": "21a5e414-85a2-4627-bd1c-cd1ff5feb595",
   "metadata": {},
   "outputs": [
    {
     "data": {
      "text/plain": [
       "False"
      ]
     },
     "execution_count": 127,
     "metadata": {},
     "output_type": "execute_result"
    }
   ],
   "source": [
    "A3.isdisjoint(B3)"
   ]
  },
  {
   "cell_type": "code",
   "execution_count": 129,
   "id": "f499c80d-9657-4c5e-a0e6-5c20c55b37ba",
   "metadata": {},
   "outputs": [
    {
     "data": {
      "text/plain": [
       "False"
      ]
     },
     "execution_count": 129,
     "metadata": {},
     "output_type": "execute_result"
    }
   ],
   "source": [
    "B3.isdisjoint(A3)"
   ]
  },
  {
   "cell_type": "code",
   "execution_count": 131,
   "id": "7e08ac8f-1114-4b7b-9fc2-f1ffb7ef36e6",
   "metadata": {},
   "outputs": [
    {
     "data": {
      "text/plain": [
       "True"
      ]
     },
     "execution_count": 131,
     "metadata": {},
     "output_type": "execute_result"
    }
   ],
   "source": [
    "B3.issubset(A3)"
   ]
  },
  {
   "cell_type": "code",
   "execution_count": 133,
   "id": "748e3fa9-0f20-4f90-81a1-78785954c48e",
   "metadata": {},
   "outputs": [
    {
     "name": "stdout",
     "output_type": "stream",
     "text": [
      "{1, 2, 3, 4, 5, 6, 7, 8, 9}\n",
      "{3, 4, 5, 6, 7, 8}\n",
      "{40, 10, 20, 30}\n"
     ]
    }
   ],
   "source": [
    "print(A3)\n",
    "print(B3)\n",
    "print(C3)"
   ]
  },
  {
   "cell_type": "code",
   "execution_count": 135,
   "id": "14c9bb97-d5b3-46cf-8939-5cd79b2cc4b7",
   "metadata": {},
   "outputs": [
    {
     "data": {
      "text/plain": [
       "False"
      ]
     },
     "execution_count": 135,
     "metadata": {},
     "output_type": "execute_result"
    }
   ],
   "source": [
    "A3.issubset(B3)"
   ]
  },
  {
   "cell_type": "code",
   "execution_count": 137,
   "id": "7ed0c105-5c7b-4e67-a9d7-2d060742ad25",
   "metadata": {},
   "outputs": [
    {
     "data": {
      "text/plain": [
       "True"
      ]
     },
     "execution_count": 137,
     "metadata": {},
     "output_type": "execute_result"
    }
   ],
   "source": [
    "A3.issuperset(B3)"
   ]
  },
  {
   "cell_type": "code",
   "execution_count": 139,
   "id": "62b3c8e1-5eb5-4c23-99bf-1d1918cfa907",
   "metadata": {},
   "outputs": [
    {
     "data": {
      "text/plain": [
       "False"
      ]
     },
     "execution_count": 139,
     "metadata": {},
     "output_type": "execute_result"
    }
   ],
   "source": [
    "A3.isdisjoint(B3)"
   ]
  },
  {
   "cell_type": "code",
   "execution_count": 141,
   "id": "617c921d-d7bb-4682-80e5-cb9f266b7a12",
   "metadata": {},
   "outputs": [
    {
     "name": "stdout",
     "output_type": "stream",
     "text": [
      "(0, 1)\n",
      "(1, 2)\n",
      "(2, 3)\n",
      "(3, 4)\n",
      "(4, 5)\n",
      "(5, 6)\n",
      "(6, 7)\n",
      "(7, 8)\n",
      "(8, 9)\n"
     ]
    }
   ],
   "source": [
    "for i in enumerate(A3):\n",
    "    print(i)"
   ]
  },
  {
   "cell_type": "code",
   "execution_count": 143,
   "id": "bf74d801-8a0a-4c81-9a0a-9b4f0d98c676",
   "metadata": {},
   "outputs": [
    {
     "data": {
      "text/plain": [
       "[(0, 1), (1, 2), (2, 3), (3, 4), (4, 5), (5, 6), (6, 7), (7, 8), (8, 9)]"
      ]
     },
     "execution_count": 143,
     "metadata": {},
     "output_type": "execute_result"
    }
   ],
   "source": [
    "list(enumerate(A3))"
   ]
  },
  {
   "cell_type": "markdown",
   "id": "66a91426-70a7-49b6-9b06-1473f425d0eb",
   "metadata": {},
   "source": [
    "### Dictionary"
   ]
  },
  {
   "cell_type": "code",
   "execution_count": 146,
   "id": "253369fd-508a-44cd-b34e-de5d46f0dbdb",
   "metadata": {},
   "outputs": [
    {
     "data": {
      "text/plain": [
       "{}"
      ]
     },
     "execution_count": 146,
     "metadata": {},
     "output_type": "execute_result"
    }
   ],
   "source": [
    "d = {}\n",
    "d"
   ]
  },
  {
   "cell_type": "code",
   "execution_count": 148,
   "id": "10f8f1a9-25a0-4dce-8f48-ab5d12eb3e80",
   "metadata": {},
   "outputs": [
    {
     "data": {
      "text/plain": [
       "dict"
      ]
     },
     "execution_count": 148,
     "metadata": {},
     "output_type": "execute_result"
    }
   ],
   "source": [
    "type(d)"
   ]
  },
  {
   "cell_type": "code",
   "execution_count": 150,
   "id": "773d0b4a-04ef-40b7-bd52-aed35896776c",
   "metadata": {},
   "outputs": [
    {
     "data": {
      "text/plain": [
       "{1: 'one', 2: 'two', 3: 'three'}"
      ]
     },
     "execution_count": 150,
     "metadata": {},
     "output_type": "execute_result"
    }
   ],
   "source": [
    "d1 = {1:'one', 2:'two', 3:'three'}  # dictionary with integer key\n",
    "d1"
   ]
  },
  {
   "cell_type": "code",
   "execution_count": 152,
   "id": "4d990664-a6a8-4a16-8417-773cd37e15af",
   "metadata": {},
   "outputs": [
    {
     "data": {
      "text/plain": [
       "dict_keys([1, 2, 3])"
      ]
     },
     "execution_count": 152,
     "metadata": {},
     "output_type": "execute_result"
    }
   ],
   "source": [
    "d1.keys()"
   ]
  },
  {
   "cell_type": "code",
   "execution_count": 154,
   "id": "34d525df-23d8-4c83-88b5-e383bd92b513",
   "metadata": {},
   "outputs": [
    {
     "data": {
      "text/plain": [
       "dict_values(['one', 'two', 'three'])"
      ]
     },
     "execution_count": 154,
     "metadata": {},
     "output_type": "execute_result"
    }
   ],
   "source": [
    "d1.values()"
   ]
  },
  {
   "cell_type": "code",
   "execution_count": 156,
   "id": "860c0d8a-a511-42b0-96b5-7835be9dfe4f",
   "metadata": {},
   "outputs": [
    {
     "data": {
      "text/plain": [
       "dict_items([(1, 'one'), (2, 'two'), (3, 'three')])"
      ]
     },
     "execution_count": 156,
     "metadata": {},
     "output_type": "execute_result"
    }
   ],
   "source": [
    "d1.items()"
   ]
  },
  {
   "cell_type": "code",
   "execution_count": 162,
   "id": "1442b94e-38b2-499f-84e7-d7ee65c44ae0",
   "metadata": {},
   "outputs": [
    {
     "data": {
      "text/plain": [
       "3"
      ]
     },
     "execution_count": 162,
     "metadata": {},
     "output_type": "execute_result"
    }
   ],
   "source": [
    "len(d1.items())"
   ]
  },
  {
   "cell_type": "code",
   "execution_count": 164,
   "id": "31806d4d-a2e6-4bc3-977c-0a41e7e705aa",
   "metadata": {},
   "outputs": [
    {
     "data": {
      "text/plain": [
       "'one'"
      ]
     },
     "execution_count": 164,
     "metadata": {},
     "output_type": "execute_result"
    }
   ],
   "source": [
    "d1[1]"
   ]
  },
  {
   "cell_type": "code",
   "execution_count": 168,
   "id": "ef3e77ff-3f99-49c9-b53f-0e53c946dc1c",
   "metadata": {},
   "outputs": [
    {
     "data": {
      "text/plain": [
       "'three'"
      ]
     },
     "execution_count": 168,
     "metadata": {},
     "output_type": "execute_result"
    }
   ],
   "source": [
    "d1[3]"
   ]
  },
  {
   "cell_type": "code",
   "execution_count": 170,
   "id": "1bc25812-5f74-4b19-b1da-7031384c0308",
   "metadata": {},
   "outputs": [
    {
     "ename": "KeyError",
     "evalue": "'one'",
     "output_type": "error",
     "traceback": [
      "\u001b[1;31m---------------------------------------------------------------------------\u001b[0m",
      "\u001b[1;31mKeyError\u001b[0m                                  Traceback (most recent call last)",
      "Cell \u001b[1;32mIn[170], line 1\u001b[0m\n\u001b[1;32m----> 1\u001b[0m d1[\u001b[38;5;124m'\u001b[39m\u001b[38;5;124mone\u001b[39m\u001b[38;5;124m'\u001b[39m]\n",
      "\u001b[1;31mKeyError\u001b[0m: 'one'"
     ]
    }
   ],
   "source": [
    "d1['one']"
   ]
  },
  {
   "cell_type": "code",
   "execution_count": 175,
   "id": "83d7ff48-dbeb-47ea-8025-2c225c05489a",
   "metadata": {},
   "outputs": [
    {
     "data": {
      "text/plain": [
       "{1: 'one', 2: 'two', 3: 'three'}"
      ]
     },
     "execution_count": 175,
     "metadata": {},
     "output_type": "execute_result"
    }
   ],
   "source": [
    "d1.get('one')\n",
    "d1"
   ]
  },
  {
   "cell_type": "code",
   "execution_count": 177,
   "id": "ed9254dc-37d2-49a3-a8f8-6c42eaaee34a",
   "metadata": {},
   "outputs": [
    {
     "name": "stdout",
     "output_type": "stream",
     "text": [
      "None\n"
     ]
    }
   ],
   "source": [
    "print(d1.get('one'))"
   ]
  },
  {
   "cell_type": "code",
   "execution_count": null,
   "id": "731409dc-2265-49e5-a90c-e418724e82b9",
   "metadata": {},
   "outputs": [],
   "source": []
  },
  {
   "cell_type": "code",
   "execution_count": null,
   "id": "05752d6f-271f-4678-bb47-6affec70a36b",
   "metadata": {},
   "outputs": [],
   "source": []
  },
  {
   "cell_type": "code",
   "execution_count": null,
   "id": "54aa6cd9-487d-4bfc-a68e-b8ff80e71c37",
   "metadata": {},
   "outputs": [],
   "source": []
  },
  {
   "cell_type": "code",
   "execution_count": null,
   "id": "1b3f2b05-16a2-4597-b723-d14cffb5452d",
   "metadata": {},
   "outputs": [],
   "source": []
  },
  {
   "cell_type": "code",
   "execution_count": null,
   "id": "451996a6-2ebb-4e69-b388-43809507a70e",
   "metadata": {},
   "outputs": [],
   "source": []
  },
  {
   "cell_type": "code",
   "execution_count": null,
   "id": "5f62721d-45da-437a-b11f-f4e524cf8f87",
   "metadata": {},
   "outputs": [],
   "source": []
  },
  {
   "cell_type": "code",
   "execution_count": null,
   "id": "75672ae7-8e56-44a1-9def-17ed2c2e81f7",
   "metadata": {},
   "outputs": [],
   "source": []
  },
  {
   "cell_type": "code",
   "execution_count": null,
   "id": "bb993adb-2ba4-491f-b7e2-c1a6e3d23446",
   "metadata": {},
   "outputs": [],
   "source": []
  },
  {
   "cell_type": "code",
   "execution_count": null,
   "id": "441fb6cc-167a-4cb8-97ed-91ad86fb2724",
   "metadata": {},
   "outputs": [],
   "source": []
  },
  {
   "cell_type": "code",
   "execution_count": null,
   "id": "db9329e6-4f9a-4bce-9e5d-067ab72a5942",
   "metadata": {},
   "outputs": [],
   "source": []
  },
  {
   "cell_type": "code",
   "execution_count": null,
   "id": "fa4782df-6b4f-4aa4-abcc-8ff89f50671d",
   "metadata": {},
   "outputs": [],
   "source": []
  },
  {
   "cell_type": "code",
   "execution_count": null,
   "id": "e525e3e1-fed2-4654-9549-0887bdd77133",
   "metadata": {},
   "outputs": [],
   "source": []
  },
  {
   "cell_type": "code",
   "execution_count": null,
   "id": "41d51207-9104-40dc-af90-9f8924eb1a62",
   "metadata": {},
   "outputs": [],
   "source": []
  },
  {
   "cell_type": "code",
   "execution_count": null,
   "id": "19499afd-ea02-4a7c-a0ae-fea714606e70",
   "metadata": {},
   "outputs": [],
   "source": []
  },
  {
   "cell_type": "code",
   "execution_count": null,
   "id": "a9c79b4b-1895-417c-961b-7835f18a82b7",
   "metadata": {},
   "outputs": [],
   "source": []
  },
  {
   "cell_type": "code",
   "execution_count": null,
   "id": "0da14c86-44de-48d0-909b-842f826dd488",
   "metadata": {},
   "outputs": [],
   "source": []
  },
  {
   "cell_type": "code",
   "execution_count": null,
   "id": "bc335bd6-dc09-4797-96a3-f6d8189d42ba",
   "metadata": {},
   "outputs": [],
   "source": []
  },
  {
   "cell_type": "code",
   "execution_count": null,
   "id": "ea7b658f-0acf-4a52-862a-56e024cd651f",
   "metadata": {},
   "outputs": [],
   "source": []
  },
  {
   "cell_type": "code",
   "execution_count": null,
   "id": "949fce7a-05cd-478d-991e-116a2624e5bc",
   "metadata": {},
   "outputs": [],
   "source": []
  },
  {
   "cell_type": "code",
   "execution_count": null,
   "id": "8abae25e-a883-4be0-bcbf-755c1282682b",
   "metadata": {},
   "outputs": [],
   "source": []
  }
 ],
 "metadata": {
  "kernelspec": {
   "display_name": "Python 3 (ipykernel)",
   "language": "python",
   "name": "python3"
  },
  "language_info": {
   "codemirror_mode": {
    "name": "ipython",
    "version": 3
   },
   "file_extension": ".py",
   "mimetype": "text/x-python",
   "name": "python",
   "nbconvert_exporter": "python",
   "pygments_lexer": "ipython3",
   "version": "3.12.7"
  }
 },
 "nbformat": 4,
 "nbformat_minor": 5
}

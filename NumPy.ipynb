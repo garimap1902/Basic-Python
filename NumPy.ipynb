{
 "cells": [
  {
   "cell_type": "markdown",
   "id": "85398659-8bb3-4b52-9ead-7924301bdfac",
   "metadata": {},
   "source": [
    "### 4th"
   ]
  },
  {
   "cell_type": "code",
   "execution_count": 1,
   "id": "bac58aec-4359-4625-a910-930a3f2932f5",
   "metadata": {},
   "outputs": [],
   "source": [
    "import numpy as np"
   ]
  },
  {
   "cell_type": "code",
   "execution_count": 17,
   "id": "370f3d30-3d44-45cd-a22b-6a61729957c6",
   "metadata": {},
   "outputs": [
    {
     "data": {
      "text/plain": [
       "array([21, 23, 20, 29, 21, 26, 21, 25, 27, 23])"
      ]
     },
     "execution_count": 17,
     "metadata": {},
     "output_type": "execute_result"
    }
   ],
   "source": [
    "np.random.randint(20,30,10)"
   ]
  },
  {
   "cell_type": "code",
   "execution_count": null,
   "id": "e9530962-6940-46cf-948d-df94c54e4e10",
   "metadata": {},
   "outputs": [],
   "source": [
    "In Python, np.random.randint(20, 30, 10) means that it generates 10 random integers between\n",
    "20 and 29 (30 is excluded) using NumPy's randint function.\n",
    "np.random.randint(start, stop, size)\n",
    "start = 20 → Lower bound (inclusive)\n",
    "stop = 30 → Upper bound (exclusive)\n",
    "size = 10 → Generates 10 numbers"
   ]
  },
  {
   "cell_type": "code",
   "execution_count": 19,
   "id": "1bef6e32-8824-4e33-8013-d0ac8092d217",
   "metadata": {},
   "outputs": [
    {
     "data": {
      "text/plain": [
       "7"
      ]
     },
     "execution_count": 19,
     "metadata": {},
     "output_type": "execute_result"
    }
   ],
   "source": [
    "np.random.randint(5,9)"
   ]
  },
  {
   "cell_type": "code",
   "execution_count": null,
   "id": "40590df8-6f67-4c8c-ab29-34f97514afe8",
   "metadata": {},
   "outputs": [],
   "source": [
    "In Python, np.random.randint(5, 9) means that it will generate a single random integer between 5 and 8 (9 is excluded)."
   ]
  },
  {
   "cell_type": "code",
   "execution_count": 21,
   "id": "f6c756d6-4549-4f0a-8a20-5529a5735b39",
   "metadata": {},
   "outputs": [
    {
     "data": {
      "text/plain": [
       "array([19, 12, 14])"
      ]
     },
     "execution_count": 21,
     "metadata": {},
     "output_type": "execute_result"
    }
   ],
   "source": [
    "np.random.randint(10,21,3)"
   ]
  },
  {
   "cell_type": "code",
   "execution_count": 23,
   "id": "404adb81-b5bb-498e-af14-e5a5e5ea1550",
   "metadata": {},
   "outputs": [
    {
     "data": {
      "text/plain": [
       "array([ 6,  2, 10,  4, 10,  1,  4,  2,  4,  6])"
      ]
     },
     "execution_count": 23,
     "metadata": {},
     "output_type": "execute_result"
    }
   ],
   "source": [
    "np.random.randint(1,12,10)"
   ]
  },
  {
   "cell_type": "code",
   "execution_count": 25,
   "id": "4cb08daa-b7d1-40f6-9e24-ddf5ffd4d540",
   "metadata": {},
   "outputs": [
    {
     "data": {
      "text/plain": [
       "array([[39, 26, 34, 28, 28, 15, 23, 28, 27, 11],\n",
       "       [38, 14, 10, 35, 25, 25, 39, 18, 22, 20],\n",
       "       [16, 14, 29, 18, 17, 26, 21, 11, 31, 26],\n",
       "       [18, 30, 35, 31, 21, 31, 22, 22, 34, 21],\n",
       "       [23, 26, 17, 17, 36, 12, 21, 33, 25, 20],\n",
       "       [15, 25, 38, 28, 25, 27, 11, 18, 37, 19],\n",
       "       [30, 24, 31, 31, 34, 15, 12, 10, 32, 34],\n",
       "       [13, 39, 35, 20, 39, 18, 16, 38, 12, 31],\n",
       "       [13, 19, 19, 29, 14, 14, 39, 36, 20, 15],\n",
       "       [17, 12, 26, 25, 26, 26, 12, 38, 29, 33]])"
      ]
     },
     "execution_count": 25,
     "metadata": {},
     "output_type": "execute_result"
    }
   ],
   "source": [
    "np.random.randint(10,40,(10,10))"
   ]
  },
  {
   "cell_type": "code",
   "execution_count": null,
   "id": "69445dd2-7b17-4d59-8ad0-94731f6fc1dd",
   "metadata": {},
   "outputs": [],
   "source": [
    "np.random.randint(start, stop, size)\n",
    "start = 10 → Lower bound (inclusive)\n",
    "stop = 40 → Upper bound (exclusive)\n",
    "size = (10, 10) → Generates a 10x10 matrix (2D array) of random integers"
   ]
  },
  {
   "cell_type": "code",
   "execution_count": 27,
   "id": "71008f5a-3908-4ddd-b252-10116b6ae84f",
   "metadata": {},
   "outputs": [
    {
     "data": {
      "text/plain": [
       "array([[82, 70, 22, 35, 52, 11, 31, 89, 39, 86, 33, 60],\n",
       "       [32, 43, 59, 38, 59, 36, 32,  6,  4, 53, 12, 14],\n",
       "       [ 9, 97,  6, 17, 18, 19, 78, 13, 37, 17, 84, 35],\n",
       "       [31, 35, 37, 59, 43, 75, 56, 75, 43, 54, 64, 23],\n",
       "       [52, 47, 34, 70, 13, 98, 93,  8, 83, 21, 84, 31],\n",
       "       [12, 87, 65, 69, 76, 53, 44, 23, 36, 40, 70, 99],\n",
       "       [52, 90, 21, 74, 52, 41, 47, 44, 38, 67, 94, 54],\n",
       "       [ 2, 87, 15, 58, 21,  6, 64, 88, 98, 89, 21, 29],\n",
       "       [43, 56, 23, 14, 59, 81, 27, 50, 35, 38, 90, 48],\n",
       "       [11, 61, 71, 86, 44, 57, 95, 10, 46, 93,  7, 62],\n",
       "       [73, 76, 55, 68, 37, 28,  8, 80, 78, 14, 14, 56],\n",
       "       [14, 31, 38, 54, 71, 14, 35, 63, 28,  1, 80, 12]])"
      ]
     },
     "execution_count": 27,
     "metadata": {},
     "output_type": "execute_result"
    }
   ],
   "source": [
    "np.random.randint(1,100,(12,12))"
   ]
  },
  {
   "cell_type": "code",
   "execution_count": 29,
   "id": "bddc9964-0438-4197-bdce-d6dfbab638e1",
   "metadata": {},
   "outputs": [
    {
     "data": {
      "text/plain": [
       "array([[ 1],\n",
       "       [ 2],\n",
       "       [ 3],\n",
       "       [ 4],\n",
       "       [ 5],\n",
       "       [ 6],\n",
       "       [ 7],\n",
       "       [ 8],\n",
       "       [ 9],\n",
       "       [10],\n",
       "       [11],\n",
       "       [12]])"
      ]
     },
     "execution_count": 29,
     "metadata": {},
     "output_type": "execute_result"
    }
   ],
   "source": [
    "np.arange(1,13).reshape(12,1)"
   ]
  },
  {
   "cell_type": "code",
   "execution_count": null,
   "id": "7b10e62a-3c41-4056-bd9c-a8a26a9340f9",
   "metadata": {},
   "outputs": [],
   "source": [
    "np.arange(1, 13) → Generates numbers from 1 to 12 (13 is excluded).\n",
    ".reshape(12,1) → Reshapes the array into 12 rows and 1 column (a column vector)."
   ]
  },
  {
   "cell_type": "code",
   "execution_count": 31,
   "id": "bb840ea1-fe75-4a1e-9cc8-f27a557a937c",
   "metadata": {},
   "outputs": [
    {
     "data": {
      "text/plain": [
       "array([[ 1,  2,  3,  4],\n",
       "       [ 5,  6,  7,  8],\n",
       "       [ 9, 10, 11, 12]])"
      ]
     },
     "execution_count": 31,
     "metadata": {},
     "output_type": "execute_result"
    }
   ],
   "source": [
    "np.arange(1,13).reshape(3,4)"
   ]
  },
  {
   "cell_type": "code",
   "execution_count": 33,
   "id": "e4f6a22f-df35-48ec-8208-20a02b100efa",
   "metadata": {},
   "outputs": [
    {
     "data": {
      "text/plain": [
       "array([[16, 14, 18, 17],\n",
       "       [10, 14, 14, 18],\n",
       "       [11, 11, 17, 13],\n",
       "       [17, 12, 11, 15],\n",
       "       [19, 18, 12, 12]])"
      ]
     },
     "execution_count": 33,
     "metadata": {},
     "output_type": "execute_result"
    }
   ],
   "source": [
    "np.random.randint(10,20,(5,4))"
   ]
  },
  {
   "cell_type": "code",
   "execution_count": 35,
   "id": "4354fd06-02f7-4a01-821b-95f80a7eb665",
   "metadata": {},
   "outputs": [
    {
     "data": {
      "text/plain": [
       "array([[19, 15, 15, 13, 14],\n",
       "       [19, 12, 18, 12, 19],\n",
       "       [16, 17, 19, 16, 18],\n",
       "       [19, 10, 16, 10, 12],\n",
       "       [18, 19, 18, 14, 17]])"
      ]
     },
     "execution_count": 35,
     "metadata": {},
     "output_type": "execute_result"
    }
   ],
   "source": [
    "b = np.random.randint(10,20,(5,5))\n",
    "b"
   ]
  },
  {
   "cell_type": "code",
   "execution_count": 37,
   "id": "afc4ab3e-4a42-4ed8-9302-346fb343301a",
   "metadata": {},
   "outputs": [
    {
     "data": {
      "text/plain": [
       "numpy.ndarray"
      ]
     },
     "execution_count": 37,
     "metadata": {},
     "output_type": "execute_result"
    }
   ],
   "source": [
    "type(b)"
   ]
  },
  {
   "cell_type": "code",
   "execution_count": 39,
   "id": "2b73e118-0dfb-4503-bd81-61247acb73e7",
   "metadata": {},
   "outputs": [
    {
     "data": {
      "text/plain": [
       "array([[ 8,  1, 11,  6],\n",
       "       [ 1,  4,  1,  6],\n",
       "       [12,  3,  7, 12],\n",
       "       [ 4,  4,  2,  2],\n",
       "       [ 4, 11,  1,  7]])"
      ]
     },
     "execution_count": 39,
     "metadata": {},
     "output_type": "execute_result"
    }
   ],
   "source": [
    "np.random.randint(1,13,(5,4))"
   ]
  },
  {
   "cell_type": "code",
   "execution_count": 41,
   "id": "35e7dbb0-5c1f-4256-90eb-cac67c57f680",
   "metadata": {},
   "outputs": [
    {
     "ename": "ValueError",
     "evalue": "cannot reshape array of size 12 into shape (5,4)",
     "output_type": "error",
     "traceback": [
      "\u001b[1;31m---------------------------------------------------------------------------\u001b[0m",
      "\u001b[1;31mValueError\u001b[0m                                Traceback (most recent call last)",
      "Cell \u001b[1;32mIn[41], line 1\u001b[0m\n\u001b[1;32m----> 1\u001b[0m np\u001b[38;5;241m.\u001b[39marange(\u001b[38;5;241m1\u001b[39m,\u001b[38;5;241m13\u001b[39m)\u001b[38;5;241m.\u001b[39mreshape(\u001b[38;5;241m5\u001b[39m,\u001b[38;5;241m4\u001b[39m)\n",
      "\u001b[1;31mValueError\u001b[0m: cannot reshape array of size 12 into shape (5,4)"
     ]
    }
   ],
   "source": [
    "np.arange(1,13).reshape(5,4)"
   ]
  },
  {
   "cell_type": "code",
   "execution_count": null,
   "id": "77d827bf-be34-4979-b6a9-404126a591c6",
   "metadata": {},
   "outputs": [],
   "source": [
    "The command np.arange(1,13).reshape(5,4) will result in an error because\n",
    "np.arange(1,13) generates only 12 elements, but  trying to reshape it into a\n",
    "5×4 (20 elements) matrix, which is not possible."
   ]
  },
  {
   "cell_type": "code",
   "execution_count": 43,
   "id": "7d573bae-2875-4419-bf5d-85975012a5cf",
   "metadata": {},
   "outputs": [
    {
     "data": {
      "text/plain": [
       "array([[ 1,  2],\n",
       "       [ 3,  4],\n",
       "       [ 5,  6],\n",
       "       [ 7,  8],\n",
       "       [ 9, 10],\n",
       "       [11, 12]])"
      ]
     },
     "execution_count": 43,
     "metadata": {},
     "output_type": "execute_result"
    }
   ],
   "source": [
    "np.arange(1,13).reshape(6,2)"
   ]
  },
  {
   "cell_type": "code",
   "execution_count": 45,
   "id": "26021e9f-ebff-4591-9a77-8f4140a6a9fe",
   "metadata": {},
   "outputs": [
    {
     "data": {
      "text/plain": [
       "array([[ 1],\n",
       "       [ 2],\n",
       "       [ 3],\n",
       "       [ 4],\n",
       "       [ 5],\n",
       "       [ 6],\n",
       "       [ 7],\n",
       "       [ 8],\n",
       "       [ 9],\n",
       "       [10],\n",
       "       [11],\n",
       "       [12]])"
      ]
     },
     "execution_count": 45,
     "metadata": {},
     "output_type": "execute_result"
    }
   ],
   "source": [
    "np.arange(1,13).reshape(12,1)"
   ]
  },
  {
   "cell_type": "code",
   "execution_count": 47,
   "id": "78784534-7da4-4ed3-9369-31ee5a604ef2",
   "metadata": {},
   "outputs": [
    {
     "data": {
      "text/plain": [
       "array([[ 1,  2,  3,  4,  5,  6,  7,  8,  9, 10, 11, 12]])"
      ]
     },
     "execution_count": 47,
     "metadata": {},
     "output_type": "execute_result"
    }
   ],
   "source": [
    "np.arange(1,13).reshape(1,12)"
   ]
  },
  {
   "cell_type": "markdown",
   "id": "3fd997e4-0681-4e05-94af-2285ed4ee7bd",
   "metadata": {},
   "source": [
    "### Slicing in matrix"
   ]
  },
  {
   "cell_type": "code",
   "execution_count": 50,
   "id": "e08dabed-03d8-45e1-8243-9900e2662778",
   "metadata": {},
   "outputs": [
    {
     "data": {
      "text/plain": [
       "array([[18, 18, 14, 15],\n",
       "       [14, 16, 17, 18],\n",
       "       [19, 13, 16, 10],\n",
       "       [12, 19, 10, 16],\n",
       "       [11, 16, 13, 18]])"
      ]
     },
     "execution_count": 50,
     "metadata": {},
     "output_type": "execute_result"
    }
   ],
   "source": [
    "np.random.randint(10,20,(5,4))"
   ]
  },
  {
   "cell_type": "code",
   "execution_count": 52,
   "id": "c305f6d9-5005-4433-b1e8-d1ce59c0bf5f",
   "metadata": {},
   "outputs": [
    {
     "data": {
      "text/plain": [
       "array([[17, 16, 17, 11],\n",
       "       [15, 18, 14, 13],\n",
       "       [12, 18, 13, 15],\n",
       "       [12, 12, 13, 12],\n",
       "       [12, 14, 18, 12]])"
      ]
     },
     "execution_count": 52,
     "metadata": {},
     "output_type": "execute_result"
    }
   ],
   "source": [
    "b = np.random.randint(10,20,(5,4))\n",
    "b"
   ]
  },
  {
   "cell_type": "code",
   "execution_count": 54,
   "id": "668a7c60-8025-48bb-ac22-50455139a5d1",
   "metadata": {},
   "outputs": [
    {
     "data": {
      "text/plain": [
       "numpy.ndarray"
      ]
     },
     "execution_count": 54,
     "metadata": {},
     "output_type": "execute_result"
    }
   ],
   "source": [
    "type(b)"
   ]
  },
  {
   "cell_type": "code",
   "execution_count": 56,
   "id": "2303598e-7179-4e02-898b-198e6ed56748",
   "metadata": {},
   "outputs": [
    {
     "data": {
      "text/plain": [
       "array([[17, 16, 17, 11],\n",
       "       [15, 18, 14, 13],\n",
       "       [12, 18, 13, 15],\n",
       "       [12, 12, 13, 12],\n",
       "       [12, 14, 18, 12]])"
      ]
     },
     "execution_count": 56,
     "metadata": {},
     "output_type": "execute_result"
    }
   ],
   "source": [
    "b[:]"
   ]
  },
  {
   "cell_type": "code",
   "execution_count": 60,
   "id": "6a9321d7-d728-4062-80ce-19ad29af8ab6",
   "metadata": {},
   "outputs": [
    {
     "data": {
      "text/plain": [
       "array([[15, 18, 14, 13],\n",
       "       [12, 18, 13, 15]])"
      ]
     },
     "execution_count": 60,
     "metadata": {},
     "output_type": "execute_result"
    }
   ],
   "source": [
    "b[1:3]"
   ]
  },
  {
   "cell_type": "code",
   "execution_count": 62,
   "id": "b62cfd7b-08f9-49ce-9a12-930b5ef898dc",
   "metadata": {},
   "outputs": [
    {
     "data": {
      "text/plain": [
       "array([[17, 16, 17, 11],\n",
       "       [15, 18, 14, 13],\n",
       "       [12, 18, 13, 15],\n",
       "       [12, 12, 13, 12],\n",
       "       [12, 14, 18, 12]])"
      ]
     },
     "execution_count": 62,
     "metadata": {},
     "output_type": "execute_result"
    }
   ],
   "source": [
    "b"
   ]
  },
  {
   "cell_type": "code",
   "execution_count": 66,
   "id": "d6569a3e-c147-416c-b251-ac4eb8eba456",
   "metadata": {},
   "outputs": [
    {
     "data": {
      "text/plain": [
       "array([[12, 18, 13, 15],\n",
       "       [12, 12, 13, 12]])"
      ]
     },
     "execution_count": 66,
     "metadata": {},
     "output_type": "execute_result"
    }
   ],
   "source": [
    "b[2:4]"
   ]
  },
  {
   "cell_type": "code",
   "execution_count": 68,
   "id": "61a05b4d-382a-403d-befc-a871bd8224b8",
   "metadata": {},
   "outputs": [
    {
     "name": "stdout",
     "output_type": "stream",
     "text": [
      "[[ 7  8  9]\n",
      " [10 11 12]]\n"
     ]
    }
   ],
   "source": [
    "b = np.array([\n",
    "    [1,  2,  3],   # Row 0\n",
    "    [4,  5,  6],   # Row 1\n",
    "    [7,  8,  9],   # Row 2\n",
    "    [10, 11, 12],  # Row 3\n",
    "    [13, 14, 15]   # Row 4\n",
    "])\n",
    "\n",
    "print(b[2:4])  # Slicing rows 2 and 3  means 2 row and 3rd row"
   ]
  },
  {
   "cell_type": "code",
   "execution_count": 70,
   "id": "db98b428-1f3b-46c0-969a-296c94199019",
   "metadata": {},
   "outputs": [
    {
     "data": {
      "text/plain": [
       "6"
      ]
     },
     "execution_count": 70,
     "metadata": {},
     "output_type": "execute_result"
    }
   ],
   "source": [
    "b[1,2]"
   ]
  },
  {
   "cell_type": "code",
   "execution_count": 72,
   "id": "14e962f4-fd3e-4b30-9edf-e16bfa2c3ac1",
   "metadata": {},
   "outputs": [
    {
     "data": {
      "text/plain": [
       "array([[ 1,  2,  3],\n",
       "       [ 4,  5,  6],\n",
       "       [ 7,  8,  9],\n",
       "       [10, 11, 12],\n",
       "       [13, 14, 15]])"
      ]
     },
     "execution_count": 72,
     "metadata": {},
     "output_type": "execute_result"
    }
   ],
   "source": [
    "b"
   ]
  },
  {
   "cell_type": "code",
   "execution_count": 74,
   "id": "ff42cd21-3fc4-4b0d-a794-4ff78b66408f",
   "metadata": {},
   "outputs": [
    {
     "data": {
      "text/plain": [
       "6"
      ]
     },
     "execution_count": 74,
     "metadata": {},
     "output_type": "execute_result"
    }
   ],
   "source": [
    "b[1,2]    # like first row second coloum"
   ]
  },
  {
   "cell_type": "code",
   "execution_count": 76,
   "id": "83dd1dac-3025-435b-8cce-3a0c668160fb",
   "metadata": {},
   "outputs": [
    {
     "data": {
      "text/plain": [
       "9"
      ]
     },
     "execution_count": 76,
     "metadata": {},
     "output_type": "execute_result"
    }
   ],
   "source": [
    "b[2,2]"
   ]
  },
  {
   "cell_type": "code",
   "execution_count": 80,
   "id": "16f1f52e-8dbf-4c10-91be-3ab1eb3a9170",
   "metadata": {},
   "outputs": [
    {
     "data": {
      "text/plain": [
       "6"
      ]
     },
     "execution_count": 80,
     "metadata": {},
     "output_type": "execute_result"
    }
   ],
   "source": [
    "b[1,2]"
   ]
  },
  {
   "cell_type": "code",
   "execution_count": 84,
   "id": "bd98725a-e3aa-46e5-9682-56bbcb79c8ad",
   "metadata": {},
   "outputs": [
    {
     "data": {
      "text/plain": [
       "array([[ 1,  2,  3],\n",
       "       [ 4,  5,  6],\n",
       "       [ 7,  8,  9],\n",
       "       [10, 11, 12],\n",
       "       [13, 14, 15]])"
      ]
     },
     "execution_count": 84,
     "metadata": {},
     "output_type": "execute_result"
    }
   ],
   "source": [
    "b"
   ]
  },
  {
   "cell_type": "code",
   "execution_count": 92,
   "id": "9c6c5c48-d400-4fb5-b73c-b0498aeec9f5",
   "metadata": {},
   "outputs": [
    {
     "data": {
      "text/plain": [
       "array([[21, 32, 38, 16, 34, 36],\n",
       "       [27, 26, 23, 39, 16, 20]])"
      ]
     },
     "execution_count": 92,
     "metadata": {},
     "output_type": "execute_result"
    }
   ],
   "source": [
    "c[2:4]"
   ]
  },
  {
   "cell_type": "code",
   "execution_count": 19,
   "id": "1188cd61-8cc3-4470-ac7d-1699e7383476",
   "metadata": {},
   "outputs": [
    {
     "data": {
      "text/plain": [
       "array([[ 1,  2],\n",
       "       [ 3,  4],\n",
       "       [ 5,  6],\n",
       "       [ 7,  8],\n",
       "       [ 9, 10],\n",
       "       [11, 12]])"
      ]
     },
     "execution_count": 19,
     "metadata": {},
     "output_type": "execute_result"
    }
   ],
   "source": [
    "np.arange(1,13).reshape(6,2)"
   ]
  },
  {
   "cell_type": "code",
   "execution_count": 21,
   "id": "4897c76c-3d99-4ccc-bc96-46874fd044b1",
   "metadata": {},
   "outputs": [
    {
     "data": {
      "text/plain": [
       "array([[13, 10, 11, 18],\n",
       "       [11, 16, 17, 11],\n",
       "       [10, 19, 17, 10],\n",
       "       [14, 10, 16, 15],\n",
       "       [14, 11, 13, 18]])"
      ]
     },
     "execution_count": 21,
     "metadata": {},
     "output_type": "execute_result"
    }
   ],
   "source": [
    "b = np.random.randint(10,20,(5,4))\n",
    "b"
   ]
  },
  {
   "cell_type": "code",
   "execution_count": 23,
   "id": "aecf027d-6e65-4974-9089-6f87f0880c09",
   "metadata": {},
   "outputs": [
    {
     "data": {
      "text/plain": [
       "11"
      ]
     },
     "execution_count": 23,
     "metadata": {},
     "output_type": "execute_result"
    }
   ],
   "source": [
    "b[1,3]"
   ]
  },
  {
   "cell_type": "code",
   "execution_count": 25,
   "id": "93ff7d57-4fe4-4d4f-ba51-bd2c9f7aab12",
   "metadata": {},
   "outputs": [
    {
     "data": {
      "text/plain": [
       "11"
      ]
     },
     "execution_count": 25,
     "metadata": {},
     "output_type": "execute_result"
    }
   ],
   "source": [
    "b[1,-1]"
   ]
  },
  {
   "cell_type": "code",
   "execution_count": 27,
   "id": "35897e6e-789b-49d5-aa9d-6eddf9b522c9",
   "metadata": {},
   "outputs": [
    {
     "data": {
      "text/plain": [
       "array([[21, 12, 21, 13, 35, 31],\n",
       "       [10, 37, 37, 26, 24, 18],\n",
       "       [23, 15, 18, 27, 36, 29],\n",
       "       [17, 19, 29, 37, 32, 38],\n",
       "       [21, 19, 27, 35, 32, 10],\n",
       "       [13, 33, 39, 37, 35, 37]])"
      ]
     },
     "execution_count": 27,
     "metadata": {},
     "output_type": "execute_result"
    }
   ],
   "source": [
    "c = np.random.randint(10,40,(6,6))\n",
    "c"
   ]
  },
  {
   "cell_type": "code",
   "execution_count": 29,
   "id": "25beedb1-589f-41fd-b8c7-a778a3fdcb8a",
   "metadata": {},
   "outputs": [
    {
     "data": {
      "text/plain": [
       "array([[23, 15, 18, 27, 36, 29]])"
      ]
     },
     "execution_count": 29,
     "metadata": {},
     "output_type": "execute_result"
    }
   ],
   "source": [
    "c[2:3]"
   ]
  },
  {
   "cell_type": "code",
   "execution_count": 31,
   "id": "3fd61a0d-20ab-4db3-866e-7b949727c231",
   "metadata": {},
   "outputs": [
    {
     "data": {
      "text/plain": [
       "array([[21, 12, 21, 13, 35, 31],\n",
       "       [10, 37, 37, 26, 24, 18],\n",
       "       [23, 15, 18, 27, 36, 29],\n",
       "       [17, 19, 29, 37, 32, 38],\n",
       "       [21, 19, 27, 35, 32, 10],\n",
       "       [13, 33, 39, 37, 35, 37]])"
      ]
     },
     "execution_count": 31,
     "metadata": {},
     "output_type": "execute_result"
    }
   ],
   "source": [
    "c"
   ]
  },
  {
   "cell_type": "code",
   "execution_count": 33,
   "id": "559e8598-50cb-4309-bc01-796e82f189f7",
   "metadata": {},
   "outputs": [
    {
     "data": {
      "text/plain": [
       "18"
      ]
     },
     "execution_count": 33,
     "metadata": {},
     "output_type": "execute_result"
    }
   ],
   "source": [
    "c[1,-1]"
   ]
  },
  {
   "cell_type": "code",
   "execution_count": null,
   "id": "f90eb688-4262-479f-aaae-dfa0e3d43ce7",
   "metadata": {},
   "outputs": [],
   "source": [
    "          0cl  1cl  2cl   3cl  4cl  5cl\n",
    "\n",
    " 0 rw    ([[21,  12,  21,  13,  35,  31],..  -6 row\n",
    " 1 rw      [10,  37,  37,  26,  24,  18],.... -5 rw\n",
    " 2 rw     [23,   15,  18,   27,  36,  29],....  -4 rw\n",
    " 3 rw     [17,   19,   29,   37,  32, 38],..... -3 rw\n",
    " 4 rw    [21,    19,   27,   35,   32, 10],....   -2 rw  \n",
    " 5 rw    [13,    33,   39,   37,   35,  37]])..... -1 rw\n",
    "\n",
    "         -5cl   -4cl   -3cl   -2cl  -1cl  -0cl"
   ]
  },
  {
   "cell_type": "code",
   "execution_count": 35,
   "id": "f5bce8c5-540d-46ee-8783-3da0e9e5c152",
   "metadata": {},
   "outputs": [
    {
     "data": {
      "text/plain": [
       "array([[21, 12, 21, 13, 35, 31],\n",
       "       [10, 37, 37, 26, 24, 18],\n",
       "       [23, 15, 18, 27, 36, 29],\n",
       "       [17, 19, 29, 37, 32, 38],\n",
       "       [21, 19, 27, 35, 32, 10],\n",
       "       [13, 33, 39, 37, 35, 37]])"
      ]
     },
     "execution_count": 35,
     "metadata": {},
     "output_type": "execute_result"
    }
   ],
   "source": [
    "c"
   ]
  },
  {
   "cell_type": "code",
   "execution_count": 39,
   "id": "0efc8275-336e-4675-b2ce-e5661e71db8a",
   "metadata": {},
   "outputs": [
    {
     "data": {
      "text/plain": [
       "array([], shape=(0, 6), dtype=int32)"
      ]
     },
     "execution_count": 39,
     "metadata": {},
     "output_type": "execute_result"
    }
   ],
   "source": [
    "c[2:2]"
   ]
  },
  {
   "cell_type": "code",
   "execution_count": 41,
   "id": "a9be652f-c0b3-4bc6-aaac-b808cb4ba3c4",
   "metadata": {},
   "outputs": [
    {
     "data": {
      "text/plain": [
       "array([[23, 15, 18, 27, 36, 29]])"
      ]
     },
     "execution_count": 41,
     "metadata": {},
     "output_type": "execute_result"
    }
   ],
   "source": [
    "c[2:3]"
   ]
  },
  {
   "cell_type": "code",
   "execution_count": 43,
   "id": "3d2b93c2-d4af-45e2-9d80-f39210b80510",
   "metadata": {},
   "outputs": [
    {
     "data": {
      "text/plain": [
       "array([[21, 12, 21, 13, 35, 31],\n",
       "       [10, 37, 37, 26, 24, 18],\n",
       "       [23, 15, 18, 27, 36, 29],\n",
       "       [17, 19, 29, 37, 32, 38]])"
      ]
     },
     "execution_count": 43,
     "metadata": {},
     "output_type": "execute_result"
    }
   ],
   "source": [
    "c[0:-2]"
   ]
  },
  {
   "cell_type": "code",
   "execution_count": 45,
   "id": "cce7affd-7038-4fcf-810f-e11991790677",
   "metadata": {},
   "outputs": [
    {
     "data": {
      "text/plain": [
       "array([[21, 12, 21, 13, 35, 31],\n",
       "       [10, 37, 37, 26, 24, 18],\n",
       "       [23, 15, 18, 27, 36, 29],\n",
       "       [17, 19, 29, 37, 32, 38],\n",
       "       [21, 19, 27, 35, 32, 10],\n",
       "       [13, 33, 39, 37, 35, 37]])"
      ]
     },
     "execution_count": 45,
     "metadata": {},
     "output_type": "execute_result"
    }
   ],
   "source": [
    "c"
   ]
  },
  {
   "cell_type": "code",
   "execution_count": 51,
   "id": "adb2cab1-4528-4103-bff4-295b09c7d768",
   "metadata": {},
   "outputs": [
    {
     "data": {
      "text/plain": [
       "array([[10, 37, 37, 26, 24, 18],\n",
       "       [23, 15, 18, 27, 36, 29]])"
      ]
     },
     "execution_count": 51,
     "metadata": {},
     "output_type": "execute_result"
    }
   ],
   "source": [
    "c[1:-3]"
   ]
  },
  {
   "cell_type": "code",
   "execution_count": 53,
   "id": "8f078d6d-3acf-4a32-967d-ed1b96045a40",
   "metadata": {},
   "outputs": [
    {
     "data": {
      "text/plain": [
       "array([[27, 41, 10, 32, 15, 43, 24],\n",
       "       [19, 47, 48, 13, 43, 31, 17],\n",
       "       [44, 32, 38, 24, 26, 29, 28],\n",
       "       [38, 21, 48, 16, 33, 21, 41],\n",
       "       [19, 33, 13, 15, 41, 20, 11],\n",
       "       [19, 49, 43, 36, 11, 22, 13],\n",
       "       [38, 35, 12, 37, 47, 15, 22]])"
      ]
     },
     "execution_count": 53,
     "metadata": {},
     "output_type": "execute_result"
    }
   ],
   "source": [
    "c1 = np.random.randint(10,50,(7,7))\n",
    "c1"
   ]
  },
  {
   "cell_type": "code",
   "execution_count": 55,
   "id": "2ae3f897-3743-4418-ba36-d15270ecfd00",
   "metadata": {},
   "outputs": [
    {
     "data": {
      "text/plain": [
       "array([[19, 47, 48, 13, 43, 31, 17],\n",
       "       [44, 32, 38, 24, 26, 29, 28],\n",
       "       [38, 21, 48, 16, 33, 21, 41]])"
      ]
     },
     "execution_count": 55,
     "metadata": {},
     "output_type": "execute_result"
    }
   ],
   "source": [
    "c1[1:-3]"
   ]
  },
  {
   "cell_type": "code",
   "execution_count": null,
   "id": "0a97bf1d-f741-45a5-9362-dcb59cba3b72",
   "metadata": {},
   "outputs": [],
   "source": [
    "Row 0 → [ 1,  2,  3,  4,  5,  6 ]  \n",
    "Row 1 → [ 7,  8,  9, 10, 11, 12 ]  <-- Start from here (index 1)  \n",
    "Row 2 → [13, 14, 15, 16, 17, 18 ]  \n",
    "Row 3 → [19, 20, 21, 22, 23, 24 ]  <-- Stop before row -3 (row 3 tak lega)  \n",
    "Row 4 → [25, 26, 27, 28, 29, 30 ]  (Excluded)  \n",
    "Row 5 → [31, 32, 33, 34, 35, 36 ]  (Excluded)  "
   ]
  },
  {
   "cell_type": "code",
   "execution_count": 57,
   "id": "745ea5f2-f109-4363-86e0-c8b18425e820",
   "metadata": {},
   "outputs": [
    {
     "data": {
      "text/plain": [
       "array([[27, 41, 10, 32, 15, 43, 24],\n",
       "       [19, 47, 48, 13, 43, 31, 17],\n",
       "       [44, 32, 38, 24, 26, 29, 28],\n",
       "       [38, 21, 48, 16, 33, 21, 41],\n",
       "       [19, 33, 13, 15, 41, 20, 11],\n",
       "       [19, 49, 43, 36, 11, 22, 13],\n",
       "       [38, 35, 12, 37, 47, 15, 22]])"
      ]
     },
     "execution_count": 57,
     "metadata": {},
     "output_type": "execute_result"
    }
   ],
   "source": [
    "c1"
   ]
  },
  {
   "cell_type": "code",
   "execution_count": 59,
   "id": "4b3cad3a-38ef-4a27-91b4-c431a1b33fd6",
   "metadata": {},
   "outputs": [
    {
     "data": {
      "text/plain": [
       "26"
      ]
     },
     "execution_count": 59,
     "metadata": {},
     "output_type": "execute_result"
    }
   ],
   "source": [
    "c1[-5,-3]"
   ]
  },
  {
   "cell_type": "code",
   "execution_count": 61,
   "id": "801e54f3-8b8f-45d7-a4f4-36cb8eb6032d",
   "metadata": {},
   "outputs": [
    {
     "data": {
      "text/plain": [
       "21"
      ]
     },
     "execution_count": 61,
     "metadata": {},
     "output_type": "execute_result"
    }
   ],
   "source": [
    "c1[-4,-2]"
   ]
  },
  {
   "cell_type": "code",
   "execution_count": 63,
   "id": "cb075ed3-d953-470c-a148-9a4ad356db52",
   "metadata": {},
   "outputs": [
    {
     "data": {
      "text/plain": [
       "array([[27, 41, 10, 32, 15, 43, 24],\n",
       "       [19, 47, 48, 13, 43, 31, 17],\n",
       "       [44, 32, 38, 24, 26, 29, 28],\n",
       "       [38, 21, 48, 16, 33, 21, 41],\n",
       "       [19, 33, 13, 15, 41, 20, 11],\n",
       "       [19, 49, 43, 36, 11, 22, 13],\n",
       "       [38, 35, 12, 37, 47, 15, 22]])"
      ]
     },
     "execution_count": 63,
     "metadata": {},
     "output_type": "execute_result"
    }
   ],
   "source": [
    "c1"
   ]
  },
  {
   "cell_type": "code",
   "execution_count": 67,
   "id": "fd91eb53-8c3a-49a8-b370-4341d28ce157",
   "metadata": {},
   "outputs": [
    {
     "data": {
      "text/plain": [
       "array([], shape=(0, 7), dtype=int32)"
      ]
     },
     "execution_count": 67,
     "metadata": {},
     "output_type": "execute_result"
    }
   ],
   "source": [
    "c1[-4:2]"
   ]
  },
  {
   "cell_type": "markdown",
   "id": "cead694c-353d-47cd-a94c-c53a4d0060b8",
   "metadata": {},
   "source": [
    "### Operation"
   ]
  },
  {
   "cell_type": "code",
   "execution_count": 70,
   "id": "047026e0-66e7-4413-b22e-d63d1b5c31dd",
   "metadata": {},
   "outputs": [
    {
     "data": {
      "text/plain": [
       "array([19, 19, 14, 16, 17, 19, 10, 10, 12, 11])"
      ]
     },
     "execution_count": 70,
     "metadata": {},
     "output_type": "execute_result"
    }
   ],
   "source": [
    "a = np.random.randint(10,20,10)\n",
    "a"
   ]
  },
  {
   "cell_type": "code",
   "execution_count": 72,
   "id": "ae59c822-d09d-4f11-9e99-606bbde3e6c9",
   "metadata": {},
   "outputs": [
    {
     "data": {
      "text/plain": [
       "2803878296528"
      ]
     },
     "execution_count": 72,
     "metadata": {},
     "output_type": "execute_result"
    }
   ],
   "source": [
    "id(a)"
   ]
  },
  {
   "cell_type": "code",
   "execution_count": 74,
   "id": "dacd9b08-f668-4734-8bd6-cc2509730036",
   "metadata": {},
   "outputs": [
    {
     "ename": "NameError",
     "evalue": "name 'arr' is not defined",
     "output_type": "error",
     "traceback": [
      "\u001b[1;31m---------------------------------------------------------------------------\u001b[0m",
      "\u001b[1;31mNameError\u001b[0m                                 Traceback (most recent call last)",
      "Cell \u001b[1;32mIn[74], line 1\u001b[0m\n\u001b[1;32m----> 1\u001b[0m arr\n",
      "\u001b[1;31mNameError\u001b[0m: name 'arr' is not defined"
     ]
    }
   ],
   "source": [
    "arr "
   ]
  },
  {
   "cell_type": "code",
   "execution_count": 83,
   "id": "84c4e7d3-90a9-4250-86fb-77a6021f37ee",
   "metadata": {},
   "outputs": [
    {
     "data": {
      "text/plain": [
       "array([[70,  1,  3, 47, 57, 79, 72, 69,  6, 96],\n",
       "       [19, 55, 41, 13, 74, 24, 24, 91, 76, 71],\n",
       "       [96, 74, 36, 64,  6, 51, 52, 72, 89,  5],\n",
       "       [43, 58, 43, 26, 58, 41, 41,  7, 55, 14],\n",
       "       [17, 63, 67,  0, 59, 38, 62, 87, 90, 83],\n",
       "       [61, 77, 64, 15, 63, 82, 28, 45, 95,  0],\n",
       "       [53, 91,  8, 47, 99, 41, 60, 78, 10,  8],\n",
       "       [13, 96, 69, 21, 48, 14,  9, 90, 51, 95],\n",
       "       [91, 31,  9, 99, 80, 89, 82, 15,  9, 72],\n",
       "       [29, 27,  0, 42, 50, 44, 23, 81,  1, 27]])"
      ]
     },
     "execution_count": 83,
     "metadata": {},
     "output_type": "execute_result"
    }
   ],
   "source": [
    "arr = np.random.randint(0,100,(10,10))\n",
    "arr"
   ]
  },
  {
   "cell_type": "code",
   "execution_count": 85,
   "id": "5ce25175-9c12-4a43-9926-aa4f06d9f4e1",
   "metadata": {},
   "outputs": [
    {
     "data": {
      "text/plain": [
       "array([[70,  1,  3, 47, 57, 79, 72, 69,  6, 96],\n",
       "       [19, 55, 41, 13, 74, 24, 24, 91, 76, 71],\n",
       "       [96, 74, 36, 64,  6, 51, 52, 72, 89,  5],\n",
       "       [43, 58, 43, 26, 58, 41, 41,  7, 55, 14],\n",
       "       [17, 63, 67,  0, 59, 38, 62, 87, 90, 83],\n",
       "       [61, 77, 64, 15, 63, 82, 28, 45, 95,  0],\n",
       "       [53, 91,  8, 47, 99, 41, 60, 78, 10,  8],\n",
       "       [13, 96, 69, 21, 48, 14,  9, 90, 51, 95],\n",
       "       [91, 31,  9, 99, 80, 89, 82, 15,  9, 72],\n",
       "       [29, 27,  0, 42, 50, 44, 23, 81,  1, 27]])"
      ]
     },
     "execution_count": 85,
     "metadata": {},
     "output_type": "execute_result"
    }
   ],
   "source": [
    "arr[:]"
   ]
  },
  {
   "cell_type": "code",
   "execution_count": 87,
   "id": "6048eab2-24d1-4fc2-91af-22cb4466b89f",
   "metadata": {},
   "outputs": [
    {
     "data": {
      "text/plain": [
       "array([[70,  1,  3, 47, 57, 79, 72, 69,  6, 96],\n",
       "       [19, 55, 41, 13, 74, 24, 24, 91, 76, 71],\n",
       "       [96, 74, 36, 64,  6, 51, 52, 72, 89,  5],\n",
       "       [43, 58, 43, 26, 58, 41, 41,  7, 55, 14]])"
      ]
     },
     "execution_count": 87,
     "metadata": {},
     "output_type": "execute_result"
    }
   ],
   "source": [
    "arr[:4]"
   ]
  },
  {
   "cell_type": "code",
   "execution_count": 89,
   "id": "a2b14b94-1e2e-4b7f-affe-49fc212a0070",
   "metadata": {},
   "outputs": [
    {
     "data": {
      "text/plain": [
       "array([[70,  1,  3, 47, 57, 79, 72, 69,  6, 96],\n",
       "       [19, 55, 41, 13, 74, 24, 24, 91, 76, 71],\n",
       "       [96, 74, 36, 64,  6, 51, 52, 72, 89,  5],\n",
       "       [43, 58, 43, 26, 58, 41, 41,  7, 55, 14],\n",
       "       [17, 63, 67,  0, 59, 38, 62, 87, 90, 83]])"
      ]
     },
     "execution_count": 89,
     "metadata": {},
     "output_type": "execute_result"
    }
   ],
   "source": [
    "arr[0:5]"
   ]
  },
  {
   "cell_type": "code",
   "execution_count": 91,
   "id": "2b3db284-90fb-4795-951b-3aec406c03c1",
   "metadata": {},
   "outputs": [
    {
     "data": {
      "text/plain": [
       "74"
      ]
     },
     "execution_count": 91,
     "metadata": {},
     "output_type": "execute_result"
    }
   ],
   "source": [
    "arr[1,4]"
   ]
  },
  {
   "cell_type": "code",
   "execution_count": 93,
   "id": "5133c44b-fd65-456a-a7e7-50294d25f627",
   "metadata": {},
   "outputs": [
    {
     "data": {
      "text/plain": [
       "array([[29, 27,  0, 42, 50, 44, 23, 81,  1, 27],\n",
       "       [91, 31,  9, 99, 80, 89, 82, 15,  9, 72],\n",
       "       [13, 96, 69, 21, 48, 14,  9, 90, 51, 95],\n",
       "       [53, 91,  8, 47, 99, 41, 60, 78, 10,  8],\n",
       "       [61, 77, 64, 15, 63, 82, 28, 45, 95,  0],\n",
       "       [17, 63, 67,  0, 59, 38, 62, 87, 90, 83],\n",
       "       [43, 58, 43, 26, 58, 41, 41,  7, 55, 14],\n",
       "       [96, 74, 36, 64,  6, 51, 52, 72, 89,  5],\n",
       "       [19, 55, 41, 13, 74, 24, 24, 91, 76, 71],\n",
       "       [70,  1,  3, 47, 57, 79, 72, 69,  6, 96]])"
      ]
     },
     "execution_count": 93,
     "metadata": {},
     "output_type": "execute_result"
    }
   ],
   "source": [
    "arr[::-1]      # reverse"
   ]
  },
  {
   "cell_type": "code",
   "execution_count": 95,
   "id": "08266a72-26a1-4d58-b8ad-475b9f4f7adf",
   "metadata": {},
   "outputs": [
    {
     "data": {
      "text/plain": [
       "array([[70,  1,  3, 47, 57, 79, 72, 69,  6, 96],\n",
       "       [19, 55, 41, 13, 74, 24, 24, 91, 76, 71],\n",
       "       [96, 74, 36, 64,  6, 51, 52, 72, 89,  5],\n",
       "       [43, 58, 43, 26, 58, 41, 41,  7, 55, 14],\n",
       "       [17, 63, 67,  0, 59, 38, 62, 87, 90, 83],\n",
       "       [61, 77, 64, 15, 63, 82, 28, 45, 95,  0],\n",
       "       [53, 91,  8, 47, 99, 41, 60, 78, 10,  8],\n",
       "       [13, 96, 69, 21, 48, 14,  9, 90, 51, 95],\n",
       "       [91, 31,  9, 99, 80, 89, 82, 15,  9, 72],\n",
       "       [29, 27,  0, 42, 50, 44, 23, 81,  1, 27]])"
      ]
     },
     "execution_count": 95,
     "metadata": {},
     "output_type": "execute_result"
    }
   ],
   "source": [
    "arr"
   ]
  },
  {
   "cell_type": "code",
   "execution_count": 97,
   "id": "05f8b653-65b6-4e63-ab5b-334609fe6745",
   "metadata": {},
   "outputs": [
    {
     "data": {
      "text/plain": [
       "array([[29, 27,  0, 42, 50, 44, 23, 81,  1, 27],\n",
       "       [13, 96, 69, 21, 48, 14,  9, 90, 51, 95],\n",
       "       [61, 77, 64, 15, 63, 82, 28, 45, 95,  0],\n",
       "       [43, 58, 43, 26, 58, 41, 41,  7, 55, 14],\n",
       "       [19, 55, 41, 13, 74, 24, 24, 91, 76, 71]])"
      ]
     },
     "execution_count": 97,
     "metadata": {},
     "output_type": "execute_result"
    }
   ],
   "source": [
    "arr[::-2]   # backword print step -2 Row"
   ]
  },
  {
   "cell_type": "code",
   "execution_count": 99,
   "id": "41e86cf9-b4d7-441b-8487-bf1c24952f7c",
   "metadata": {},
   "outputs": [
    {
     "data": {
      "text/plain": [
       "array([[70,  1,  3, 47, 57, 79, 72, 69,  6, 96],\n",
       "       [19, 55, 41, 13, 74, 24, 24, 91, 76, 71],\n",
       "       [96, 74, 36, 64,  6, 51, 52, 72, 89,  5],\n",
       "       [43, 58, 43, 26, 58, 41, 41,  7, 55, 14],\n",
       "       [17, 63, 67,  0, 59, 38, 62, 87, 90, 83],\n",
       "       [61, 77, 64, 15, 63, 82, 28, 45, 95,  0],\n",
       "       [53, 91,  8, 47, 99, 41, 60, 78, 10,  8],\n",
       "       [13, 96, 69, 21, 48, 14,  9, 90, 51, 95],\n",
       "       [91, 31,  9, 99, 80, 89, 82, 15,  9, 72],\n",
       "       [29, 27,  0, 42, 50, 44, 23, 81,  1, 27]])"
      ]
     },
     "execution_count": 99,
     "metadata": {},
     "output_type": "execute_result"
    }
   ],
   "source": [
    "arr"
   ]
  },
  {
   "cell_type": "code",
   "execution_count": 101,
   "id": "f04b0c3a-85f0-4481-aebf-f51cc3d12e78",
   "metadata": {},
   "outputs": [
    {
     "data": {
      "text/plain": [
       "array([[29, 27,  0, 42, 50, 44, 23, 81,  1, 27],\n",
       "       [53, 91,  8, 47, 99, 41, 60, 78, 10,  8],\n",
       "       [43, 58, 43, 26, 58, 41, 41,  7, 55, 14],\n",
       "       [70,  1,  3, 47, 57, 79, 72, 69,  6, 96]])"
      ]
     },
     "execution_count": 101,
     "metadata": {},
     "output_type": "execute_result"
    }
   ],
   "source": [
    "arr[::-3]"
   ]
  },
  {
   "cell_type": "code",
   "execution_count": 103,
   "id": "66c04cb9-3c7f-4992-a2f6-a333321317ef",
   "metadata": {},
   "outputs": [
    {
     "data": {
      "text/plain": [
       "array([[70,  1,  3, 47, 57, 79, 72, 69,  6, 96],\n",
       "       [19, 55, 41, 13, 74, 24, 24, 91, 76, 71],\n",
       "       [96, 74, 36, 64,  6, 51, 52, 72, 89,  5],\n",
       "       [43, 58, 43, 26, 58, 41, 41,  7, 55, 14],\n",
       "       [17, 63, 67,  0, 59, 38, 62, 87, 90, 83],\n",
       "       [61, 77, 64, 15, 63, 82, 28, 45, 95,  0],\n",
       "       [53, 91,  8, 47, 99, 41, 60, 78, 10,  8]])"
      ]
     },
     "execution_count": 103,
     "metadata": {},
     "output_type": "execute_result"
    }
   ],
   "source": [
    "arr[:-3]   # Removed last -3 row after that print all row"
   ]
  },
  {
   "cell_type": "code",
   "execution_count": 105,
   "id": "ae14142a-06cc-4641-a779-96f2e123d048",
   "metadata": {},
   "outputs": [
    {
     "data": {
      "text/plain": [
       "array([[43, 58, 43, 26, 58, 41, 41,  7, 55, 14],\n",
       "       [17, 63, 67,  0, 59, 38, 62, 87, 90, 83],\n",
       "       [61, 77, 64, 15, 63, 82, 28, 45, 95,  0],\n",
       "       [53, 91,  8, 47, 99, 41, 60, 78, 10,  8],\n",
       "       [13, 96, 69, 21, 48, 14,  9, 90, 51, 95],\n",
       "       [91, 31,  9, 99, 80, 89, 82, 15,  9, 72],\n",
       "       [29, 27,  0, 42, 50, 44, 23, 81,  1, 27]])"
      ]
     },
     "execution_count": 105,
     "metadata": {},
     "output_type": "execute_result"
    }
   ],
   "source": [
    "arr[3:]  # start 3 row to end row"
   ]
  },
  {
   "cell_type": "code",
   "execution_count": 107,
   "id": "11962d6c-f0ee-4ce3-9338-c593cacbe240",
   "metadata": {},
   "outputs": [
    {
     "data": {
      "text/plain": [
       "array([[70,  1,  3, 47, 57, 79, 72, 69,  6, 96],\n",
       "       [19, 55, 41, 13, 74, 24, 24, 91, 76, 71],\n",
       "       [96, 74, 36, 64,  6, 51, 52, 72, 89,  5],\n",
       "       [43, 58, 43, 26, 58, 41, 41,  7, 55, 14],\n",
       "       [17, 63, 67,  0, 59, 38, 62, 87, 90, 83],\n",
       "       [61, 77, 64, 15, 63, 82, 28, 45, 95,  0],\n",
       "       [53, 91,  8, 47, 99, 41, 60, 78, 10,  8],\n",
       "       [13, 96, 69, 21, 48, 14,  9, 90, 51, 95],\n",
       "       [91, 31,  9, 99, 80, 89, 82, 15,  9, 72],\n",
       "       [29, 27,  0, 42, 50, 44, 23, 81,  1, 27]])"
      ]
     },
     "execution_count": 107,
     "metadata": {},
     "output_type": "execute_result"
    }
   ],
   "source": [
    "arr"
   ]
  },
  {
   "cell_type": "code",
   "execution_count": 109,
   "id": "3381a559-1baf-4737-8daa-439195153f0b",
   "metadata": {},
   "outputs": [
    {
     "data": {
      "text/plain": [
       "array([[11]])"
      ]
     },
     "execution_count": 109,
     "metadata": {},
     "output_type": "execute_result"
    }
   ],
   "source": [
    "arr1 = np.random.randint(10,20,(1,1))\n",
    "arr1"
   ]
  },
  {
   "cell_type": "code",
   "execution_count": 113,
   "id": "e2786cd3-a9f4-4628-ab01-f1d77477964a",
   "metadata": {},
   "outputs": [
    {
     "data": {
      "text/plain": [
       "array([[12, 16, 10, 11, 14, 15, 10, 16, 11, 14]])"
      ]
     },
     "execution_count": 113,
     "metadata": {},
     "output_type": "execute_result"
    }
   ],
   "source": [
    "arr1 = np.random.randint(10,20,(1,10))\n",
    "arr1"
   ]
  },
  {
   "cell_type": "code",
   "execution_count": 115,
   "id": "45f1bf7c-8988-4dc2-a07b-4909cee75c68",
   "metadata": {},
   "outputs": [
    {
     "data": {
      "text/plain": [
       "16"
      ]
     },
     "execution_count": 115,
     "metadata": {},
     "output_type": "execute_result"
    }
   ],
   "source": [
    "arr1.max()"
   ]
  },
  {
   "cell_type": "code",
   "execution_count": 117,
   "id": "51c62260-d515-496b-b373-7c2222774408",
   "metadata": {},
   "outputs": [
    {
     "data": {
      "text/plain": [
       "10"
      ]
     },
     "execution_count": 117,
     "metadata": {},
     "output_type": "execute_result"
    }
   ],
   "source": [
    "arr1.min()"
   ]
  },
  {
   "cell_type": "code",
   "execution_count": 119,
   "id": "97e828f9-cd01-4a02-b720-92586574959b",
   "metadata": {},
   "outputs": [
    {
     "data": {
      "text/plain": [
       "12.9"
      ]
     },
     "execution_count": 119,
     "metadata": {},
     "output_type": "execute_result"
    }
   ],
   "source": [
    "arr1.mean()"
   ]
  },
  {
   "cell_type": "code",
   "execution_count": 121,
   "id": "40962e1c-55b2-4ba3-914e-7fbafc2078d5",
   "metadata": {},
   "outputs": [
    {
     "data": {
      "text/plain": [
       "array([[12, 16, 10, 11, 14, 15, 10, 16, 11, 14]])"
      ]
     },
     "execution_count": 121,
     "metadata": {},
     "output_type": "execute_result"
    }
   ],
   "source": [
    "arr1"
   ]
  },
  {
   "cell_type": "code",
   "execution_count": 123,
   "id": "76228ed6-a418-41c0-af5c-ea1c02e1b3ee",
   "metadata": {},
   "outputs": [
    {
     "ename": "AttributeError",
     "evalue": "'numpy.ndarray' object has no attribute 'median'",
     "output_type": "error",
     "traceback": [
      "\u001b[1;31m---------------------------------------------------------------------------\u001b[0m",
      "\u001b[1;31mAttributeError\u001b[0m                            Traceback (most recent call last)",
      "Cell \u001b[1;32mIn[123], line 1\u001b[0m\n\u001b[1;32m----> 1\u001b[0m arr1\u001b[38;5;241m.\u001b[39mmedian()\n",
      "\u001b[1;31mAttributeError\u001b[0m: 'numpy.ndarray' object has no attribute 'median'"
     ]
    }
   ],
   "source": [
    "arr1.median()"
   ]
  },
  {
   "cell_type": "code",
   "execution_count": 129,
   "id": "5f3de827-186d-4f50-9678-dda9b89e29d3",
   "metadata": {},
   "outputs": [
    {
     "data": {
      "text/plain": [
       "3.0"
      ]
     },
     "execution_count": 129,
     "metadata": {},
     "output_type": "execute_result"
    }
   ],
   "source": [
    "from numpy import * \n",
    "a = array([1,2,3,4,9])\n",
    "median(a)"
   ]
  },
  {
   "cell_type": "code",
   "execution_count": 131,
   "id": "96a38d88-32b5-44a6-9d70-620314863a6a",
   "metadata": {},
   "outputs": [
    {
     "data": {
      "text/plain": [
       "array([[12, 16, 10, 11, 14, 15, 10, 16, 11, 14]])"
      ]
     },
     "execution_count": 131,
     "metadata": {},
     "output_type": "execute_result"
    }
   ],
   "source": [
    "arr1"
   ]
  },
  {
   "cell_type": "code",
   "execution_count": 138,
   "id": "19738895-a21d-4c11-ae39-2e75b54c6464",
   "metadata": {},
   "outputs": [
    {
     "data": {
      "text/plain": [
       "array([[12, 16],\n",
       "       [10, 11],\n",
       "       [14, 15],\n",
       "       [10, 16],\n",
       "       [11, 14]])"
      ]
     },
     "execution_count": 138,
     "metadata": {},
     "output_type": "execute_result"
    }
   ],
   "source": [
    "arr1.reshape(5,2)"
   ]
  },
  {
   "cell_type": "code",
   "execution_count": 144,
   "id": "c0b94338-167b-4bfa-91ef-13207f63911e",
   "metadata": {},
   "outputs": [
    {
     "data": {
      "text/plain": [
       "array([[12, 16],\n",
       "       [10, 11],\n",
       "       [14, 15],\n",
       "       [10, 16],\n",
       "       [11, 14]])"
      ]
     },
     "execution_count": 144,
     "metadata": {},
     "output_type": "execute_result"
    }
   ],
   "source": [
    "arr1.reshape(5,2,order='c')"
   ]
  },
  {
   "cell_type": "code",
   "execution_count": null,
   "id": "f65136ae-5ac3-4578-9f7b-328e2f3b3256",
   "metadata": {},
   "outputs": [],
   "source": [
    "order='C': This means the data will be filled in row-major order (C-style). \n",
    "That is, rows will be filled first, then move to the next row."
   ]
  },
  {
   "cell_type": "code",
   "execution_count": 161,
   "id": "6df2ec9a-0c13-4306-90b5-cd40b620561e",
   "metadata": {},
   "outputs": [],
   "source": [
    "arr3 = np.array([1, 2, 3, 4, 5, 6, 7, 8, 9, 10])"
   ]
  },
  {
   "cell_type": "code",
   "execution_count": 165,
   "id": "5a8662c3-a1e7-4662-84f9-08ff1799a529",
   "metadata": {},
   "outputs": [
    {
     "name": "stdout",
     "output_type": "stream",
     "text": [
      "[[ 1  2]\n",
      " [ 3  4]\n",
      " [ 5  6]\n",
      " [ 7  8]\n",
      " [ 9 10]]\n"
     ]
    }
   ],
   "source": [
    "import numpy as np\n",
    "\n",
    "arr3 = np.array([1, 2, 3, 4, 5, 6, 7, 8, 9, 10])\n",
    "\n",
    "reshaped_arr = arr3.reshape(5, 2, order='C')\n",
    "\n",
    "print(reshaped_arr)"
   ]
  },
  {
   "cell_type": "code",
   "execution_count": 167,
   "id": "bb52e7bc-cce8-40b8-a014-95acb8e34765",
   "metadata": {},
   "outputs": [
    {
     "data": {
      "text/plain": [
       "array([ 1,  2,  3,  4,  5,  6,  7,  8,  9, 10])"
      ]
     },
     "execution_count": 167,
     "metadata": {},
     "output_type": "execute_result"
    }
   ],
   "source": [
    "arr3"
   ]
  },
  {
   "cell_type": "code",
   "execution_count": 169,
   "id": "d941f835-a4fc-489e-890e-0e6e75a8a6fe",
   "metadata": {},
   "outputs": [
    {
     "data": {
      "text/plain": [
       "array([[ 1,  6],\n",
       "       [ 2,  7],\n",
       "       [ 3,  8],\n",
       "       [ 4,  9],\n",
       "       [ 5, 10]])"
      ]
     },
     "execution_count": 169,
     "metadata": {},
     "output_type": "execute_result"
    }
   ],
   "source": [
    "arr3.reshape(5,2,order='F')"
   ]
  },
  {
   "cell_type": "code",
   "execution_count": null,
   "id": "dac2f02b-7e67-4a38-a56e-a2b1c28403d0",
   "metadata": {},
   "outputs": [],
   "source": [
    "If you use order='F', the data will be filled in column-major order (Fortran-style),\n",
    "meaning columns will be filled first instead of rows."
   ]
  },
  {
   "cell_type": "code",
   "execution_count": 171,
   "id": "da90702d-1ce1-4c4a-935d-c2d6a798b5d2",
   "metadata": {},
   "outputs": [
    {
     "data": {
      "text/plain": [
       "array([ 1,  2,  3,  4,  5,  6,  7,  8,  9, 10])"
      ]
     },
     "execution_count": 171,
     "metadata": {},
     "output_type": "execute_result"
    }
   ],
   "source": [
    "arr3"
   ]
  },
  {
   "cell_type": "code",
   "execution_count": 173,
   "id": "dfb4a3bf-288d-4776-86b3-2e9a73b1fd48",
   "metadata": {},
   "outputs": [
    {
     "data": {
      "text/plain": [
       "array([[ 1,  2],\n",
       "       [ 3,  4],\n",
       "       [ 5,  6],\n",
       "       [ 7,  8],\n",
       "       [ 9, 10]])"
      ]
     },
     "execution_count": 173,
     "metadata": {},
     "output_type": "execute_result"
    }
   ],
   "source": [
    "arr3.reshape(5,2,order='A')"
   ]
  },
  {
   "cell_type": "code",
   "execution_count": null,
   "id": "a7da49cc-4a6b-4761-b470-562136437fa5",
   "metadata": {},
   "outputs": [],
   "source": [
    "In NumPy, arr3.reshape(5,2, order='A') means reshaping the array arr3 into a shape of (5,2) while using the \"A\" \n",
    "(Any) order, which adapts based on the memory layout of the input array.\n",
    "\n",
    "Meaning of order='A':\n",
    "\n",
    "If arr3 is stored in C-order (row-major order), then order='A' behaves like order='C' (row-wise filling).\n",
    "\n",
    "If arr3 is stored in Fortran-order (column-major order), then order='A' behaves like order='F' (column-wise filling).\n",
    "\n",
    "If arr3 is neither strictly C nor F order, NumPy defaults to C-order"
   ]
  },
  {
   "cell_type": "code",
   "execution_count": 175,
   "id": "482bf04c-bdd6-4e02-9b50-aab6caf9c212",
   "metadata": {},
   "outputs": [
    {
     "data": {
      "text/plain": [
       "array([[ 1,  2,  3,  4,  5],\n",
       "       [ 6,  7,  8,  9, 10]])"
      ]
     },
     "execution_count": 175,
     "metadata": {},
     "output_type": "execute_result"
    }
   ],
   "source": [
    "arr3.reshape(2,5,order='A')"
   ]
  },
  {
   "cell_type": "code",
   "execution_count": 177,
   "id": "bf90a511-d0a0-43af-84ea-8befa85a2397",
   "metadata": {},
   "outputs": [
    {
     "data": {
      "text/plain": [
       "array([[ 0,  1,  2,  3,  4,  5,  6,  7,  8,  9],\n",
       "       [10, 11, 12, 13, 14, 15, 16, 17, 18, 19],\n",
       "       [20, 21, 22, 23, 24, 25, 26, 27, 28, 29],\n",
       "       [30, 31, 32, 33, 34, 35, 36, 37, 38, 39],\n",
       "       [40, 41, 42, 43, 44, 45, 46, 47, 48, 49],\n",
       "       [50, 51, 52, 53, 54, 55, 56, 57, 58, 59],\n",
       "       [60, 61, 62, 63, 64, 65, 66, 67, 68, 69],\n",
       "       [70, 71, 72, 73, 74, 75, 76, 77, 78, 79],\n",
       "       [80, 81, 82, 83, 84, 85, 86, 87, 88, 89],\n",
       "       [90, 91, 92, 93, 94, 95, 96, 97, 98, 99]])"
      ]
     },
     "execution_count": 177,
     "metadata": {},
     "output_type": "execute_result"
    }
   ],
   "source": [
    "mat = np.arange(0,100).reshape(10,10)\n",
    "mat"
   ]
  },
  {
   "cell_type": "code",
   "execution_count": 183,
   "id": "3184b4c8-bce2-43ab-84e7-c1d7cd00acd0",
   "metadata": {},
   "outputs": [
    {
     "data": {
      "text/plain": [
       "4"
      ]
     },
     "execution_count": 183,
     "metadata": {},
     "output_type": "execute_result"
    }
   ],
   "source": [
    "row=4\n",
    "col=5\n",
    "row"
   ]
  },
  {
   "cell_type": "code",
   "execution_count": 185,
   "id": "8aaae79b-48e3-477c-8dc1-7f5f74a6bbc5",
   "metadata": {},
   "outputs": [
    {
     "data": {
      "text/plain": [
       "5"
      ]
     },
     "execution_count": 185,
     "metadata": {},
     "output_type": "execute_result"
    }
   ],
   "source": [
    "col"
   ]
  },
  {
   "cell_type": "code",
   "execution_count": 187,
   "id": "a5383220-1ebe-484b-b522-41fd4ee1f8d7",
   "metadata": {},
   "outputs": [
    {
     "data": {
      "text/plain": [
       "array([[ 0,  1,  2,  3,  4,  5,  6,  7,  8,  9],\n",
       "       [10, 11, 12, 13, 14, 15, 16, 17, 18, 19],\n",
       "       [20, 21, 22, 23, 24, 25, 26, 27, 28, 29],\n",
       "       [30, 31, 32, 33, 34, 35, 36, 37, 38, 39],\n",
       "       [40, 41, 42, 43, 44, 45, 46, 47, 48, 49],\n",
       "       [50, 51, 52, 53, 54, 55, 56, 57, 58, 59],\n",
       "       [60, 61, 62, 63, 64, 65, 66, 67, 68, 69],\n",
       "       [70, 71, 72, 73, 74, 75, 76, 77, 78, 79],\n",
       "       [80, 81, 82, 83, 84, 85, 86, 87, 88, 89],\n",
       "       [90, 91, 92, 93, 94, 95, 96, 97, 98, 99]])"
      ]
     },
     "execution_count": 187,
     "metadata": {},
     "output_type": "execute_result"
    }
   ],
   "source": [
    "mat"
   ]
  },
  {
   "cell_type": "code",
   "execution_count": 189,
   "id": "f136bdb5-6710-4f30-9656-89f22f2fa094",
   "metadata": {},
   "outputs": [
    {
     "data": {
      "text/plain": [
       "45"
      ]
     },
     "execution_count": 189,
     "metadata": {},
     "output_type": "execute_result"
    }
   ],
   "source": [
    "mat[row,col]"
   ]
  },
  {
   "cell_type": "code",
   "execution_count": 191,
   "id": "bae7ad60-4940-44b7-bd7e-a3a28ffd0425",
   "metadata": {},
   "outputs": [
    {
     "data": {
      "text/plain": [
       "34"
      ]
     },
     "execution_count": 191,
     "metadata": {},
     "output_type": "execute_result"
    }
   ],
   "source": [
    "mat[3,4]   # means 3rd row ka 4th colum ka value..it will print 3rd row and 4th col value"
   ]
  },
  {
   "cell_type": "code",
   "execution_count": 193,
   "id": "0582f55c-cca5-4950-bf27-870f113a2aa7",
   "metadata": {},
   "outputs": [
    {
     "data": {
      "text/plain": [
       "array([60, 61, 62, 63, 64, 65, 66, 67, 68, 69])"
      ]
     },
     "execution_count": 193,
     "metadata": {},
     "output_type": "execute_result"
    }
   ],
   "source": [
    "mat[6]  # it will print 7 rows, start with 0 index"
   ]
  },
  {
   "cell_type": "code",
   "execution_count": 195,
   "id": "43c41f1a-8752-46de-9d1f-f4b4dd0467f7",
   "metadata": {},
   "outputs": [
    {
     "data": {
      "text/plain": [
       "array([[ 0,  1,  2,  3,  4,  5,  6,  7,  8,  9],\n",
       "       [10, 11, 12, 13, 14, 15, 16, 17, 18, 19],\n",
       "       [20, 21, 22, 23, 24, 25, 26, 27, 28, 29],\n",
       "       [30, 31, 32, 33, 34, 35, 36, 37, 38, 39],\n",
       "       [40, 41, 42, 43, 44, 45, 46, 47, 48, 49],\n",
       "       [50, 51, 52, 53, 54, 55, 56, 57, 58, 59],\n",
       "       [60, 61, 62, 63, 64, 65, 66, 67, 68, 69],\n",
       "       [70, 71, 72, 73, 74, 75, 76, 77, 78, 79],\n",
       "       [80, 81, 82, 83, 84, 85, 86, 87, 88, 89],\n",
       "       [90, 91, 92, 93, 94, 95, 96, 97, 98, 99]])"
      ]
     },
     "execution_count": 195,
     "metadata": {},
     "output_type": "execute_result"
    }
   ],
   "source": [
    "mat"
   ]
  },
  {
   "cell_type": "code",
   "execution_count": 201,
   "id": "9c1c2fe9-8662-4d0b-8b8b-ec12344abc6a",
   "metadata": {},
   "outputs": [
    {
     "data": {
      "text/plain": [
       "array([ 5, 15, 25, 35, 45, 55, 65, 75, 85, 95])"
      ]
     },
     "execution_count": 201,
     "metadata": {},
     "output_type": "execute_result"
    }
   ],
   "source": [
    "mat[:,col]"
   ]
  },
  {
   "cell_type": "code",
   "execution_count": 199,
   "id": "8d766f4c-af72-40ad-8d0f-4b7b66d390d2",
   "metadata": {},
   "outputs": [
    {
     "data": {
      "text/plain": [
       "array([ 4, 14, 24, 34, 44, 54, 64, 74, 84, 94])"
      ]
     },
     "execution_count": 199,
     "metadata": {},
     "output_type": "execute_result"
    }
   ],
   "source": [
    "mat[:,4]"
   ]
  },
  {
   "cell_type": "code",
   "execution_count": 203,
   "id": "643e2a0d-373e-4a6a-a055-01de4cbc8955",
   "metadata": {},
   "outputs": [
    {
     "data": {
      "text/plain": [
       "array([ 6, 16, 26, 36, 46, 56, 66, 76, 86, 96])"
      ]
     },
     "execution_count": 203,
     "metadata": {},
     "output_type": "execute_result"
    }
   ],
   "source": [
    "mat[:,6]"
   ]
  },
  {
   "cell_type": "code",
   "execution_count": null,
   "id": "98fea941-4e2d-4533-a60c-00e86492ef69",
   "metadata": {},
   "outputs": [],
   "source": [
    "In NumPy, mat[:, col] means selecting a specific column (col) from the entire matrix (mat).\n",
    "\n",
    ": (colon) is for rows → It means select all rows.\n",
    "    \n",
    "col (any integer value) is for columns → It means select only the specified column.\n",
    "    \n",
    "The output will be a 1D array (column vector) containing only the elements from that column.\n",
    "\n",
    "\n"
   ]
  },
  {
   "cell_type": "code",
   "execution_count": 205,
   "id": "8d162e43-1d70-49e6-8da1-264ccdd456af",
   "metadata": {},
   "outputs": [
    {
     "data": {
      "text/plain": [
       "array([[ 0,  1,  2,  3,  4,  5,  6,  7,  8,  9],\n",
       "       [10, 11, 12, 13, 14, 15, 16, 17, 18, 19],\n",
       "       [20, 21, 22, 23, 24, 25, 26, 27, 28, 29],\n",
       "       [30, 31, 32, 33, 34, 35, 36, 37, 38, 39],\n",
       "       [40, 41, 42, 43, 44, 45, 46, 47, 48, 49],\n",
       "       [50, 51, 52, 53, 54, 55, 56, 57, 58, 59],\n",
       "       [60, 61, 62, 63, 64, 65, 66, 67, 68, 69],\n",
       "       [70, 71, 72, 73, 74, 75, 76, 77, 78, 79],\n",
       "       [80, 81, 82, 83, 84, 85, 86, 87, 88, 89],\n",
       "       [90, 91, 92, 93, 94, 95, 96, 97, 98, 99]])"
      ]
     },
     "execution_count": 205,
     "metadata": {},
     "output_type": "execute_result"
    }
   ],
   "source": [
    "mat"
   ]
  },
  {
   "cell_type": "code",
   "execution_count": 207,
   "id": "2e9d5d72-ec78-4e2d-86cc-1aed195e57bf",
   "metadata": {},
   "outputs": [
    {
     "data": {
      "text/plain": [
       "array([40, 41, 42, 43, 44, 45, 46, 47, 48, 49])"
      ]
     },
     "execution_count": 207,
     "metadata": {},
     "output_type": "execute_result"
    }
   ],
   "source": [
    "mat[row,:]"
   ]
  },
  {
   "cell_type": "code",
   "execution_count": null,
   "id": "189c5252-2691-408b-b1fa-c1c8451069bf",
   "metadata": {},
   "outputs": [],
   "source": [
    "In NumPy, mat[row, :] means selecting a specific row (row) from the entire matrix (mat).\n",
    "\n",
    "Breakdown:\n",
    "\n",
    "row (any integer value) is for selecting a specific row.\n",
    "    \n",
    ": (colon) is for columns → It means select all columns from that row.\n",
    "\n",
    "The output will be a 1D array (row vector) containing all the elements from that row."
   ]
  },
  {
   "cell_type": "code",
   "execution_count": 209,
   "id": "38911ef7-4063-4f3c-94ed-e0700b8e1916",
   "metadata": {},
   "outputs": [
    {
     "data": {
      "text/plain": [
       "array([[ 0,  1,  2,  3,  4,  5,  6,  7,  8,  9],\n",
       "       [10, 11, 12, 13, 14, 15, 16, 17, 18, 19],\n",
       "       [20, 21, 22, 23, 24, 25, 26, 27, 28, 29],\n",
       "       [30, 31, 32, 33, 34, 35, 36, 37, 38, 39],\n",
       "       [40, 41, 42, 43, 44, 45, 46, 47, 48, 49],\n",
       "       [50, 51, 52, 53, 54, 55, 56, 57, 58, 59],\n",
       "       [60, 61, 62, 63, 64, 65, 66, 67, 68, 69],\n",
       "       [70, 71, 72, 73, 74, 75, 76, 77, 78, 79],\n",
       "       [80, 81, 82, 83, 84, 85, 86, 87, 88, 89],\n",
       "       [90, 91, 92, 93, 94, 95, 96, 97, 98, 99]])"
      ]
     },
     "execution_count": 209,
     "metadata": {},
     "output_type": "execute_result"
    }
   ],
   "source": [
    "mat"
   ]
  },
  {
   "cell_type": "code",
   "execution_count": 211,
   "id": "5fd07a2c-7a6d-4cc7-b0a6-6ab4518604f7",
   "metadata": {},
   "outputs": [
    {
     "data": {
      "text/plain": [
       "array([20, 21, 22, 23, 24, 25, 26, 27, 28, 29])"
      ]
     },
     "execution_count": 211,
     "metadata": {},
     "output_type": "execute_result"
    }
   ],
   "source": [
    "mat[2,:]   # Third row (0-based index)"
   ]
  },
  {
   "cell_type": "code",
   "execution_count": 213,
   "id": "35c00e83-9f4d-49ef-aa49-44bbd518452d",
   "metadata": {},
   "outputs": [
    {
     "data": {
      "text/plain": [
       "array([40, 41, 42, 43, 44, 45, 46, 47, 48, 49])"
      ]
     },
     "execution_count": 213,
     "metadata": {},
     "output_type": "execute_result"
    }
   ],
   "source": [
    "mat[4,:]   # 5th row (0-based index)"
   ]
  },
  {
   "cell_type": "code",
   "execution_count": 215,
   "id": "4dc4b0ac-aa62-4406-ac5b-f8808f6d3dd5",
   "metadata": {},
   "outputs": [
    {
     "data": {
      "text/plain": [
       "array([[ 0,  1,  2,  3,  4,  5,  6,  7,  8,  9],\n",
       "       [10, 11, 12, 13, 14, 15, 16, 17, 18, 19],\n",
       "       [20, 21, 22, 23, 24, 25, 26, 27, 28, 29],\n",
       "       [30, 31, 32, 33, 34, 35, 36, 37, 38, 39],\n",
       "       [40, 41, 42, 43, 44, 45, 46, 47, 48, 49],\n",
       "       [50, 51, 52, 53, 54, 55, 56, 57, 58, 59],\n",
       "       [60, 61, 62, 63, 64, 65, 66, 67, 68, 69],\n",
       "       [70, 71, 72, 73, 74, 75, 76, 77, 78, 79],\n",
       "       [80, 81, 82, 83, 84, 85, 86, 87, 88, 89],\n",
       "       [90, 91, 92, 93, 94, 95, 96, 97, 98, 99]])"
      ]
     },
     "execution_count": 215,
     "metadata": {},
     "output_type": "execute_result"
    }
   ],
   "source": [
    "mat"
   ]
  },
  {
   "cell_type": "code",
   "execution_count": 217,
   "id": "dbc8a647-9e95-4562-afe7-ac1c15c1f2e4",
   "metadata": {},
   "outputs": [
    {
     "data": {
      "text/plain": [
       "array([[22, 23],\n",
       "       [32, 33],\n",
       "       [42, 43],\n",
       "       [52, 53]])"
      ]
     },
     "execution_count": 217,
     "metadata": {},
     "output_type": "execute_result"
    }
   ],
   "source": [
    "mat[2:6,2:4]   ##This selects rows 2 to 5 and columns 2 to 3."
   ]
  },
  {
   "cell_type": "code",
   "execution_count": null,
   "id": "1037a51a-62bf-4af3-a169-02dc470eb05b",
   "metadata": {},
   "outputs": [],
   "source": [
    "2:6 → Selects rows from index 2 to 5 (because slicing excludes the last index 6).\n",
    "\n",
    "2:4 → Selects columns from index 2 to 3 (because slicing excludes the last index 4).\n",
    "\n",
    "The result will be a smaller matrix (submatrix) containing elements from the specified row and column range.\n"
   ]
  },
  {
   "cell_type": "code",
   "execution_count": 219,
   "id": "9ccb70eb-ac8b-4d6c-aa18-f1c42d1c5950",
   "metadata": {},
   "outputs": [
    {
     "data": {
      "text/plain": [
       "array([[ 0,  1,  2,  3,  4,  5,  6,  7,  8,  9],\n",
       "       [10, 11, 12, 13, 14, 15, 16, 17, 18, 19],\n",
       "       [20, 21, 22, 23, 24, 25, 26, 27, 28, 29],\n",
       "       [30, 31, 32, 33, 34, 35, 36, 37, 38, 39],\n",
       "       [40, 41, 42, 43, 44, 45, 46, 47, 48, 49],\n",
       "       [50, 51, 52, 53, 54, 55, 56, 57, 58, 59],\n",
       "       [60, 61, 62, 63, 64, 65, 66, 67, 68, 69],\n",
       "       [70, 71, 72, 73, 74, 75, 76, 77, 78, 79],\n",
       "       [80, 81, 82, 83, 84, 85, 86, 87, 88, 89],\n",
       "       [90, 91, 92, 93, 94, 95, 96, 97, 98, 99]])"
      ]
     },
     "execution_count": 219,
     "metadata": {},
     "output_type": "execute_result"
    }
   ],
   "source": [
    "mat"
   ]
  },
  {
   "cell_type": "code",
   "execution_count": 221,
   "id": "ef62769f-afa5-45cf-89f8-0a9b78f70eb1",
   "metadata": {},
   "outputs": [
    {
     "data": {
      "text/plain": [
       "array([[22, 23, 24],\n",
       "       [32, 33, 34],\n",
       "       [42, 43, 44],\n",
       "       [52, 53, 54],\n",
       "       [62, 63, 64]])"
      ]
     },
     "execution_count": 221,
     "metadata": {},
     "output_type": "execute_result"
    }
   ],
   "source": [
    "mat[2:7,2:5]"
   ]
  },
  {
   "cell_type": "code",
   "execution_count": 223,
   "id": "8ce39cf2-87ad-4c19-922d-280fa92519ef",
   "metadata": {},
   "outputs": [
    {
     "data": {
      "text/plain": [
       "array([[12, 13]])"
      ]
     },
     "execution_count": 223,
     "metadata": {},
     "output_type": "execute_result"
    }
   ],
   "source": [
    "mat[1:2,2:4]"
   ]
  },
  {
   "cell_type": "code",
   "execution_count": 225,
   "id": "868ba1d7-2ad3-48bf-9285-5b756eb2867b",
   "metadata": {},
   "outputs": [
    {
     "data": {
      "text/plain": [
       "array([[ 0,  1,  2,  3,  4,  5,  6,  7,  8,  9],\n",
       "       [10, 11, 12, 13, 14, 15, 16, 17, 18, 19],\n",
       "       [20, 21, 22, 23, 24, 25, 26, 27, 28, 29],\n",
       "       [30, 31, 32, 33, 34, 35, 36, 37, 38, 39],\n",
       "       [40, 41, 42, 43, 44, 45, 46, 47, 48, 49],\n",
       "       [50, 51, 52, 53, 54, 55, 56, 57, 58, 59],\n",
       "       [60, 61, 62, 63, 64, 65, 66, 67, 68, 69],\n",
       "       [70, 71, 72, 73, 74, 75, 76, 77, 78, 79],\n",
       "       [80, 81, 82, 83, 84, 85, 86, 87, 88, 89],\n",
       "       [90, 91, 92, 93, 94, 95, 96, 97, 98, 99]])"
      ]
     },
     "execution_count": 225,
     "metadata": {},
     "output_type": "execute_result"
    }
   ],
   "source": [
    "mat"
   ]
  },
  {
   "cell_type": "code",
   "execution_count": 227,
   "id": "9f2f2509-a0b7-4774-ac58-3b0749ff3c5d",
   "metadata": {},
   "outputs": [
    {
     "data": {
      "text/plain": [
       "array([[22]])"
      ]
     },
     "execution_count": 227,
     "metadata": {},
     "output_type": "execute_result"
    }
   ],
   "source": [
    "mat[2:3,2:3]"
   ]
  },
  {
   "cell_type": "code",
   "execution_count": 229,
   "id": "6df277f5-b897-4737-bfb2-6ed78cfbe1f6",
   "metadata": {},
   "outputs": [
    {
     "data": {
      "text/plain": [
       "array([[23, 24],\n",
       "       [33, 34]])"
      ]
     },
     "execution_count": 229,
     "metadata": {},
     "output_type": "execute_result"
    }
   ],
   "source": [
    "mat[2:4,3:5]"
   ]
  },
  {
   "cell_type": "markdown",
   "id": "a19e6d09-9681-47b9-bc52-ad2270509f6d",
   "metadata": {},
   "source": [
    "### Masking"
   ]
  },
  {
   "cell_type": "code",
   "execution_count": 232,
   "id": "b0bda9b6-5019-4a1d-abb9-227b52f007f0",
   "metadata": {},
   "outputs": [
    {
     "data": {
      "text/plain": [
       "array([[ 0,  1,  2,  3,  4,  5,  6,  7,  8,  9],\n",
       "       [10, 11, 12, 13, 14, 15, 16, 17, 18, 19],\n",
       "       [20, 21, 22, 23, 24, 25, 26, 27, 28, 29],\n",
       "       [30, 31, 32, 33, 34, 35, 36, 37, 38, 39],\n",
       "       [40, 41, 42, 43, 44, 45, 46, 47, 48, 49],\n",
       "       [50, 51, 52, 53, 54, 55, 56, 57, 58, 59],\n",
       "       [60, 61, 62, 63, 64, 65, 66, 67, 68, 69],\n",
       "       [70, 71, 72, 73, 74, 75, 76, 77, 78, 79],\n",
       "       [80, 81, 82, 83, 84, 85, 86, 87, 88, 89],\n",
       "       [90, 91, 92, 93, 94, 95, 96, 97, 98, 99]])"
      ]
     },
     "execution_count": 232,
     "metadata": {},
     "output_type": "execute_result"
    }
   ],
   "source": [
    "mat"
   ]
  },
  {
   "cell_type": "code",
   "execution_count": 234,
   "id": "f17d8716-983c-4f59-86ba-c2b724145784",
   "metadata": {},
   "outputs": [
    {
     "data": {
      "text/plain": [
       "2803910897040"
      ]
     },
     "execution_count": 234,
     "metadata": {},
     "output_type": "execute_result"
    }
   ],
   "source": [
    "id(mat)"
   ]
  },
  {
   "cell_type": "code",
   "execution_count": 236,
   "id": "e9380e07-7c8b-4d7a-a19e-e7414ae69d4d",
   "metadata": {},
   "outputs": [
    {
     "data": {
      "text/plain": [
       "array([ 0,  1,  2,  3,  4,  5,  6,  7,  8,  9, 10, 11, 12, 13, 14, 15, 16,\n",
       "       17, 18, 19, 20, 21, 22, 23, 24, 25, 26, 27, 28, 29, 30, 31, 32, 33,\n",
       "       34, 35, 36, 37, 38, 39, 40, 41, 42, 43, 44, 45, 46, 47, 48, 49])"
      ]
     },
     "execution_count": 236,
     "metadata": {},
     "output_type": "execute_result"
    }
   ],
   "source": [
    "mat[mat<50]"
   ]
  },
  {
   "cell_type": "code",
   "execution_count": 238,
   "id": "928fdf73-c01e-4ddd-be88-b49457a49498",
   "metadata": {},
   "outputs": [
    {
     "data": {
      "text/plain": [
       "array([[ True,  True,  True,  True,  True,  True,  True,  True,  True,\n",
       "         True],\n",
       "       [ True,  True,  True,  True,  True,  True,  True,  True,  True,\n",
       "         True],\n",
       "       [ True,  True,  True,  True,  True,  True,  True,  True,  True,\n",
       "         True],\n",
       "       [ True,  True,  True,  True,  True,  True,  True,  True,  True,\n",
       "         True],\n",
       "       [ True,  True,  True,  True,  True,  True,  True,  True,  True,\n",
       "         True],\n",
       "       [False, False, False, False, False, False, False, False, False,\n",
       "        False],\n",
       "       [False, False, False, False, False, False, False, False, False,\n",
       "        False],\n",
       "       [False, False, False, False, False, False, False, False, False,\n",
       "        False],\n",
       "       [False, False, False, False, False, False, False, False, False,\n",
       "        False],\n",
       "       [False, False, False, False, False, False, False, False, False,\n",
       "        False]])"
      ]
     },
     "execution_count": 238,
     "metadata": {},
     "output_type": "execute_result"
    }
   ],
   "source": [
    "mat<50"
   ]
  },
  {
   "cell_type": "code",
   "execution_count": 240,
   "id": "1353f61b-1854-40cf-820f-4208bc6ff870",
   "metadata": {},
   "outputs": [
    {
     "data": {
      "text/plain": [
       "array([[False, False, False, False, False, False, False, False, False,\n",
       "        False],\n",
       "       [False, False, False, False, False, False, False, False, False,\n",
       "        False],\n",
       "       [False, False, False, False, False, False, False, False, False,\n",
       "        False],\n",
       "       [False, False, False, False, False, False, False, False, False,\n",
       "        False],\n",
       "       [False, False, False, False, False, False, False, False, False,\n",
       "        False],\n",
       "       [False,  True,  True,  True,  True,  True,  True,  True,  True,\n",
       "         True],\n",
       "       [ True,  True,  True,  True,  True,  True,  True,  True,  True,\n",
       "         True],\n",
       "       [ True,  True,  True,  True,  True,  True,  True,  True,  True,\n",
       "         True],\n",
       "       [ True,  True,  True,  True,  True,  True,  True,  True,  True,\n",
       "         True],\n",
       "       [ True,  True,  True,  True,  True,  True,  True,  True,  True,\n",
       "         True]])"
      ]
     },
     "execution_count": 240,
     "metadata": {},
     "output_type": "execute_result"
    }
   ],
   "source": [
    "mat>50"
   ]
  },
  {
   "cell_type": "code",
   "execution_count": 242,
   "id": "d72c3446-24d8-41bb-8480-936956478cf8",
   "metadata": {},
   "outputs": [
    {
     "data": {
      "text/plain": [
       "array([51, 52, 53, 54, 55, 56, 57, 58, 59, 60, 61, 62, 63, 64, 65, 66, 67,\n",
       "       68, 69, 70, 71, 72, 73, 74, 75, 76, 77, 78, 79, 80, 81, 82, 83, 84,\n",
       "       85, 86, 87, 88, 89, 90, 91, 92, 93, 94, 95, 96, 97, 98, 99])"
      ]
     },
     "execution_count": 242,
     "metadata": {},
     "output_type": "execute_result"
    }
   ],
   "source": [
    "mat[mat>50]"
   ]
  },
  {
   "cell_type": "code",
   "execution_count": 244,
   "id": "66797a5d-1a84-4bd6-88a3-cef3495bc8ce",
   "metadata": {},
   "outputs": [
    {
     "data": {
      "text/plain": [
       "array([[ 0,  1,  2,  3,  4,  5,  6,  7,  8,  9],\n",
       "       [10, 11, 12, 13, 14, 15, 16, 17, 18, 19],\n",
       "       [20, 21, 22, 23, 24, 25, 26, 27, 28, 29],\n",
       "       [30, 31, 32, 33, 34, 35, 36, 37, 38, 39],\n",
       "       [40, 41, 42, 43, 44, 45, 46, 47, 48, 49],\n",
       "       [50, 51, 52, 53, 54, 55, 56, 57, 58, 59],\n",
       "       [60, 61, 62, 63, 64, 65, 66, 67, 68, 69],\n",
       "       [70, 71, 72, 73, 74, 75, 76, 77, 78, 79],\n",
       "       [80, 81, 82, 83, 84, 85, 86, 87, 88, 89],\n",
       "       [90, 91, 92, 93, 94, 95, 96, 97, 98, 99]])"
      ]
     },
     "execution_count": 244,
     "metadata": {},
     "output_type": "execute_result"
    }
   ],
   "source": [
    "mat"
   ]
  },
  {
   "cell_type": "code",
   "execution_count": 246,
   "id": "b7a3f094-1648-4aa5-b625-af2cf7d3cbf2",
   "metadata": {},
   "outputs": [
    {
     "data": {
      "text/plain": [
       "array([ 0,  1,  2,  3,  4,  5,  6,  7,  8,  9, 10, 11, 12, 13, 14, 15, 16,\n",
       "       17, 18, 19, 20, 21, 22, 23, 24, 25, 26, 27, 28, 29, 30, 31, 32, 33,\n",
       "       34, 35, 36, 37, 38, 39, 40, 41, 42, 43, 44, 45, 46, 47, 48, 49, 51,\n",
       "       52, 53, 54, 55, 56, 57, 58, 59, 60, 61, 62, 63, 64, 65, 66, 67, 68,\n",
       "       69, 70, 71, 72, 73, 74, 75, 76, 77, 78, 79, 80, 81, 82, 83, 84, 85,\n",
       "       86, 87, 88, 89, 90, 91, 92, 93, 94, 95, 96, 97, 98, 99])"
      ]
     },
     "execution_count": 246,
     "metadata": {},
     "output_type": "execute_result"
    }
   ],
   "source": [
    "mat[mat!=50]"
   ]
  },
  {
   "cell_type": "code",
   "execution_count": 248,
   "id": "d379f11f-e932-4513-9de9-02c125d0bf6a",
   "metadata": {},
   "outputs": [
    {
     "data": {
      "text/plain": [
       "array([[ True,  True,  True,  True,  True,  True,  True,  True,  True,\n",
       "         True],\n",
       "       [ True,  True,  True,  True,  True,  True,  True,  True,  True,\n",
       "         True],\n",
       "       [ True,  True,  True,  True,  True,  True,  True,  True,  True,\n",
       "         True],\n",
       "       [ True,  True,  True,  True,  True,  True,  True,  True,  True,\n",
       "         True],\n",
       "       [ True,  True,  True,  True,  True,  True,  True,  True,  True,\n",
       "         True],\n",
       "       [False,  True,  True,  True,  True,  True,  True,  True,  True,\n",
       "         True],\n",
       "       [ True,  True,  True,  True,  True,  True,  True,  True,  True,\n",
       "         True],\n",
       "       [ True,  True,  True,  True,  True,  True,  True,  True,  True,\n",
       "         True],\n",
       "       [ True,  True,  True,  True,  True,  True,  True,  True,  True,\n",
       "         True],\n",
       "       [ True,  True,  True,  True,  True,  True,  True,  True,  True,\n",
       "         True]])"
      ]
     },
     "execution_count": 248,
     "metadata": {},
     "output_type": "execute_result"
    }
   ],
   "source": [
    "mat!=50"
   ]
  },
  {
   "cell_type": "code",
   "execution_count": null,
   "id": "15e190e6-2d1f-4be7-884e-0151532b3572",
   "metadata": {},
   "outputs": [],
   "source": []
  },
  {
   "cell_type": "code",
   "execution_count": null,
   "id": "683211dc-f2bc-4836-a3a2-dd0b65462964",
   "metadata": {},
   "outputs": [],
   "source": []
  },
  {
   "cell_type": "code",
   "execution_count": null,
   "id": "d551660f-9dc7-4727-9b44-e60214079af3",
   "metadata": {},
   "outputs": [],
   "source": []
  },
  {
   "cell_type": "code",
   "execution_count": null,
   "id": "10378f79-fd95-4539-be1d-a409688b6916",
   "metadata": {},
   "outputs": [],
   "source": []
  }
 ],
 "metadata": {
  "kernelspec": {
   "display_name": "Python 3 (ipykernel)",
   "language": "python",
   "name": "python3"
  },
  "language_info": {
   "codemirror_mode": {
    "name": "ipython",
    "version": 3
   },
   "file_extension": ".py",
   "mimetype": "text/x-python",
   "name": "python",
   "nbconvert_exporter": "python",
   "pygments_lexer": "ipython3",
   "version": "3.12.7"
  }
 },
 "nbformat": 4,
 "nbformat_minor": 5
}

{
 "cells": [
  {
   "cell_type": "code",
   "execution_count": 17,
   "id": "7df42848-abf3-4fd8-9dc9-7383da890da7",
   "metadata": {},
   "outputs": [
    {
     "name": "stdout",
     "output_type": "stream",
     "text": [
      "Durga Pandey\n",
      "Hyderabad\n",
      "First name: Durga\n",
      "Last name: Pandey\n"
     ]
    }
   ],
   "source": [
    "first_name = 'Durga'\n",
    "last_name = 'Pandey'\n",
    "city = 'Hyderabad'\n",
    "print(first_name, last_name)\n",
    "\n",
    "print(city)\n",
    "\n",
    "print('First name:', first_name)\n",
    "\n",
    "print('Last name:', last_name)\n"
   ]
  },
  {
   "cell_type": "code",
   "execution_count": 38,
   "id": "30c4346e-38ed-4b96-9fd3-357e715b95fe",
   "metadata": {},
   "outputs": [
    {
     "name": "stdout",
     "output_type": "stream",
     "text": [
      "5\n"
     ]
    }
   ],
   "source": [
    "print(len(first_name))"
   ]
  },
  {
   "cell_type": "code",
   "execution_count": 46,
   "id": "ac425bda-953b-4e8b-b592-08547ed65ac6",
   "metadata": {},
   "outputs": [
    {
     "name": "stdout",
     "output_type": "stream",
     "text": [
      "First name length: 5\n"
     ]
    }
   ],
   "source": [
    "print('First name length:', len(first_name))"
   ]
  },
  {
   "cell_type": "code",
   "execution_count": 48,
   "id": "426913b2-9fb2-4d0b-ab6b-036278cce07a",
   "metadata": {},
   "outputs": [
    {
     "name": "stdout",
     "output_type": "stream",
     "text": [
      "Last name length: 6\n"
     ]
    }
   ],
   "source": [
    "print('Last name length:', len(last_name))"
   ]
  },
  {
   "cell_type": "code",
   "execution_count": 5,
   "id": "8bbfe90b-78a1-4300-a443-e8fa86ec6d4d",
   "metadata": {},
   "outputs": [
    {
     "name": "stdout",
     "output_type": "stream",
     "text": [
      "Last name: Pandey\n"
     ]
    }
   ],
   "source": [
    "print('Last name:', last_name)\n"
   ]
  },
  {
   "cell_type": "code",
   "execution_count": null,
   "id": "485ea9a5-5233-4f7e-90f9-58ec1bdc548c",
   "metadata": {},
   "outputs": [],
   "source": []
  },
  {
   "cell_type": "code",
   "execution_count": 3,
   "id": "7c53a2b7-d3d1-4bb5-8c6b-21e3965056fe",
   "metadata": {},
   "outputs": [
    {
     "name": "stdout",
     "output_type": "stream",
     "text": [
      "First name: Durga\n"
     ]
    }
   ],
   "source": [
    "print('First name:', first_name)"
   ]
  },
  {
   "cell_type": "code",
   "execution_count": 21,
   "id": "8af5a35e-86d7-4c5b-8f3d-ed48917f9556",
   "metadata": {},
   "outputs": [
    {
     "name": "stdout",
     "output_type": "stream",
     "text": [
      "Last name: Pandey  First name: Durga\n"
     ]
    }
   ],
   "source": [
    "print('Last name:', last_name, ' First name:', first_name)\n"
   ]
  },
  {
   "cell_type": "code",
   "execution_count": 23,
   "id": "9edcf9fc-16c1-49f2-8bd5-88c520499e11",
   "metadata": {},
   "outputs": [
    {
     "name": "stdout",
     "output_type": "stream",
     "text": [
      "{'firstname': 'Asabeneh', 'lastname': 'Yetayeh', 'country': 'Finland', 'city': 'Helsinki'}\n"
     ]
    }
   ],
   "source": [
    "person_info = {\n",
    "    'firstname':'Asabeneh', \n",
    "    'lastname':'Yetayeh', \n",
    "    'country':'Finland',\n",
    "    'city':'Helsinki'\n",
    "    }\n",
    "print(person_info)"
   ]
  },
  {
   "cell_type": "code",
   "execution_count": 36,
   "id": "46eb1764-e3e7-4a28-9443-ea219d4bb59a",
   "metadata": {},
   "outputs": [
    {
     "name": "stdout",
     "output_type": "stream",
     "text": [
      "{'firstname': 'abcd', 'lastname': 'efgh', 'country': 'ijkl', 'city': 'mnop'}\n"
     ]
    }
   ],
   "source": [
    "person_info = {\n",
    "    'firstname':'abcd',\n",
    "    'lastname':'efgh',\n",
    "    'country':'ijkl',\n",
    "    'city': 'mnop'\n",
    "}\n",
    "print(person_info)"
   ]
  },
  {
   "cell_type": "code",
   "execution_count": 50,
   "id": "7436f5a7-b589-4bcd-acd5-0d144268271f",
   "metadata": {},
   "outputs": [
    {
     "name": "stdout",
     "output_type": "stream",
     "text": [
      "Durga Pandey Hyderabad\n"
     ]
    }
   ],
   "source": [
    "print(first_name, last_name, city)"
   ]
  },
  {
   "cell_type": "code",
   "execution_count": 55,
   "id": "bca97d92-5089-418f-8db6-4c2d41a94028",
   "metadata": {},
   "outputs": [
    {
     "name": "stdout",
     "output_type": "stream",
     "text": [
      "Durga Pandey Hyderabad\n"
     ]
    }
   ],
   "source": [
    "first_name, last_name, city = 'Durga', 'Pandey', 'Hyderabad'\n",
    "print(first_name, last_name, city)"
   ]
  },
  {
   "cell_type": "code",
   "execution_count": 57,
   "id": "94273d82-22d1-40ea-b6c2-efff66919714",
   "metadata": {},
   "outputs": [
    {
     "name": "stdout",
     "output_type": "stream",
     "text": [
      "dine\n"
     ]
    }
   ],
   "source": [
    "a = 'fine'\n",
    "b = a.replace('f','d')\n",
    "print(b)"
   ]
  },
  {
   "cell_type": "code",
   "execution_count": 59,
   "id": "a365e12a-e809-4bd9-914b-5952ef8a5636",
   "metadata": {},
   "outputs": [
    {
     "name": "stdout",
     "output_type": "stream",
     "text": [
      "mongo\n"
     ]
    }
   ],
   "source": [
    "a = 'mango'\n",
    "b = a.replace('a','o')\n",
    "print(b)"
   ]
  },
  {
   "cell_type": "code",
   "execution_count": 1,
   "id": "ecdcc57a-fab1-4c0f-9e98-593dff81f8b7",
   "metadata": {},
   "outputs": [
    {
     "data": {
      "text/plain": [
       "'0b11001'"
      ]
     },
     "execution_count": 1,
     "metadata": {},
     "output_type": "execute_result"
    }
   ],
   "source": [
    "25\n",
    "bin(25)\n"
   ]
  },
  {
   "cell_type": "code",
   "execution_count": 3,
   "id": "e45045d6-e2bd-4b3d-8da3-246ab5b10b2e",
   "metadata": {},
   "outputs": [
    {
     "data": {
      "text/plain": [
       "25"
      ]
     },
     "execution_count": 3,
     "metadata": {},
     "output_type": "execute_result"
    }
   ],
   "source": [
    "int(0b11001)"
   ]
  },
  {
   "cell_type": "code",
   "execution_count": 5,
   "id": "cea831e9-cc32-4cff-81f1-0c23c4468549",
   "metadata": {},
   "outputs": [
    {
     "data": {
      "text/plain": [
       "'0b100011'"
      ]
     },
     "execution_count": 5,
     "metadata": {},
     "output_type": "execute_result"
    }
   ],
   "source": [
    "bin(35)"
   ]
  },
  {
   "cell_type": "code",
   "execution_count": 7,
   "id": "09210d12-d5fa-4df4-a389-f4103c43fc18",
   "metadata": {},
   "outputs": [
    {
     "data": {
      "text/plain": [
       "35"
      ]
     },
     "execution_count": 7,
     "metadata": {},
     "output_type": "execute_result"
    }
   ],
   "source": [
    "int(0b100011)"
   ]
  },
  {
   "cell_type": "code",
   "execution_count": 9,
   "id": "402e4c71-6c4f-4990-b897-c3f539a8c888",
   "metadata": {},
   "outputs": [
    {
     "data": {
      "text/plain": [
       "'0o31'"
      ]
     },
     "execution_count": 9,
     "metadata": {},
     "output_type": "execute_result"
    }
   ],
   "source": [
    "oct(25)"
   ]
  },
  {
   "cell_type": "code",
   "execution_count": 11,
   "id": "f0a1e884-8067-4818-8061-9e554ebe4f8d",
   "metadata": {},
   "outputs": [
    {
     "data": {
      "text/plain": [
       "25"
      ]
     },
     "execution_count": 11,
     "metadata": {},
     "output_type": "execute_result"
    }
   ],
   "source": [
    "int(0o31)"
   ]
  },
  {
   "cell_type": "code",
   "execution_count": 13,
   "id": "e9092d87-8149-4bcb-aa0b-8c213254d7b9",
   "metadata": {},
   "outputs": [
    {
     "data": {
      "text/plain": [
       "<function oct(number, /)>"
      ]
     },
     "execution_count": 13,
     "metadata": {},
     "output_type": "execute_result"
    }
   ],
   "source": [
    "oct"
   ]
  },
  {
   "cell_type": "code",
   "execution_count": 15,
   "id": "2d8a4439-55b6-4637-afb9-cb48afcec8c7",
   "metadata": {},
   "outputs": [
    {
     "data": {
      "text/plain": [
       "'0o43'"
      ]
     },
     "execution_count": 15,
     "metadata": {},
     "output_type": "execute_result"
    }
   ],
   "source": [
    "oct(35)"
   ]
  },
  {
   "cell_type": "code",
   "execution_count": 17,
   "id": "7984ebf4-4a6f-48f4-b0bc-1610f649ce0e",
   "metadata": {},
   "outputs": [
    {
     "data": {
      "text/plain": [
       "'0b111'"
      ]
     },
     "execution_count": 17,
     "metadata": {},
     "output_type": "execute_result"
    }
   ],
   "source": [
    "bin(7)"
   ]
  },
  {
   "cell_type": "code",
   "execution_count": 19,
   "id": "847eb998-c6ca-4d5b-a8cf-a515c8d17548",
   "metadata": {},
   "outputs": [
    {
     "data": {
      "text/plain": [
       "'0x100'"
      ]
     },
     "execution_count": 19,
     "metadata": {},
     "output_type": "execute_result"
    }
   ],
   "source": [
    "hex(256)"
   ]
  },
  {
   "cell_type": "code",
   "execution_count": 21,
   "id": "6ccb97a2-42de-4e1d-8302-b0747ba6b82c",
   "metadata": {},
   "outputs": [
    {
     "data": {
      "text/plain": [
       "'0b10000'"
      ]
     },
     "execution_count": 21,
     "metadata": {},
     "output_type": "execute_result"
    }
   ],
   "source": [
    "bin(16)"
   ]
  },
  {
   "cell_type": "code",
   "execution_count": 23,
   "id": "c5852cbc-74e8-4470-98da-69f524628a87",
   "metadata": {},
   "outputs": [
    {
     "data": {
      "text/plain": [
       "256"
      ]
     },
     "execution_count": 23,
     "metadata": {},
     "output_type": "execute_result"
    }
   ],
   "source": [
    "int(0x100)"
   ]
  },
  {
   "cell_type": "code",
   "execution_count": 25,
   "id": "507c0f87-e21b-4c14-864b-ae4164b0e585",
   "metadata": {},
   "outputs": [
    {
     "data": {
      "text/plain": [
       "10"
      ]
     },
     "execution_count": 25,
     "metadata": {},
     "output_type": "execute_result"
    }
   ],
   "source": [
    "0xa"
   ]
  },
  {
   "cell_type": "code",
   "execution_count": 27,
   "id": "db9eb8e9-fd7d-40a4-9051-a05f0b1ec202",
   "metadata": {},
   "outputs": [
    {
     "data": {
      "text/plain": [
       "11"
      ]
     },
     "execution_count": 27,
     "metadata": {},
     "output_type": "execute_result"
    }
   ],
   "source": [
    "0xb"
   ]
  },
  {
   "cell_type": "code",
   "execution_count": 29,
   "id": "df0afa82-20e3-4235-a777-8705d35e1e3f",
   "metadata": {},
   "outputs": [
    {
     "data": {
      "text/plain": [
       "15"
      ]
     },
     "execution_count": 29,
     "metadata": {},
     "output_type": "execute_result"
    }
   ],
   "source": [
    "0xf"
   ]
  },
  {
   "cell_type": "code",
   "execution_count": 31,
   "id": "681ec6ca-9132-4d13-86d1-714721949b40",
   "metadata": {},
   "outputs": [
    {
     "data": {
      "text/plain": [
       "256"
      ]
     },
     "execution_count": 31,
     "metadata": {},
     "output_type": "execute_result"
    }
   ],
   "source": [
    "int(0x100)"
   ]
  },
  {
   "cell_type": "code",
   "execution_count": 33,
   "id": "a4f7c4a7-c5c5-424a-a830-9d054939a352",
   "metadata": {},
   "outputs": [
    {
     "data": {
      "text/plain": [
       "'0x8'"
      ]
     },
     "execution_count": 33,
     "metadata": {},
     "output_type": "execute_result"
    }
   ],
   "source": [
    "hex(8)"
   ]
  },
  {
   "cell_type": "code",
   "execution_count": 35,
   "id": "19b0b33b-65e2-4f64-819c-dfb9d8288643",
   "metadata": {},
   "outputs": [
    {
     "data": {
      "text/plain": [
       "25"
      ]
     },
     "execution_count": 35,
     "metadata": {},
     "output_type": "execute_result"
    }
   ],
   "source": [
    "0x19"
   ]
  },
  {
   "cell_type": "markdown",
   "id": "9466c3bd-38dd-461f-90c3-9db232a5dace",
   "metadata": {},
   "source": [
    "### Swap 2 Variable in python"
   ]
  },
  {
   "cell_type": "code",
   "execution_count": null,
   "id": "feff90a4-4183-4a31-83e8-0f3960d27470",
   "metadata": {},
   "outputs": [],
   "source": [
    "a, b = (5, 6) after swap we should get output (a, b = 6, 5)"
   ]
  },
  {
   "cell_type": "code",
   "execution_count": 47,
   "id": "de20b7a7-b806-47a9-a56f-7e4a5fb661b1",
   "metadata": {},
   "outputs": [
    {
     "name": "stdout",
     "output_type": "stream",
     "text": [
      "6\n",
      "6\n"
     ]
    }
   ],
   "source": [
    "a = 5\n",
    "b = 6\n",
    "a = b\n",
    "b = a\n",
    "print(a)\n",
    "print(b)"
   ]
  },
  {
   "cell_type": "markdown",
   "id": "4cdac972-1562-408f-b012-4ccf30899181",
   "metadata": {},
   "source": [
    "#### Swap the two variabl...Using temp 3rd variable"
   ]
  },
  {
   "cell_type": "code",
   "execution_count": 49,
   "id": "5a23b521-6292-4263-956d-583e7380439e",
   "metadata": {},
   "outputs": [
    {
     "name": "stdout",
     "output_type": "stream",
     "text": [
      "8\n",
      "7\n"
     ]
    }
   ],
   "source": [
    "a1 = 7\n",
    "b1 = 8\n",
    "temp = a1\n",
    "a1 = b1\n",
    "b1 = temp\n",
    "print(a1)\n",
    "print(b1)"
   ]
  },
  {
   "cell_type": "markdown",
   "id": "e2941038-22dd-4037-a4a6-958fbe7ee2d3",
   "metadata": {},
   "source": [
    "### Using operator"
   ]
  },
  {
   "cell_type": "markdown",
   "id": "b16178b0-c0f1-435b-890e-30f25de63215",
   "metadata": {},
   "source": [
    "can u solve without using third variable"
   ]
  },
  {
   "cell_type": "code",
   "execution_count": 55,
   "id": "3f712c1c-461b-4b32-ab45-91f2b2f38696",
   "metadata": {},
   "outputs": [
    {
     "name": "stdout",
     "output_type": "stream",
     "text": [
      "6\n",
      "5\n"
     ]
    }
   ],
   "source": [
    "a2 = 5\n",
    "b2 = 6\n",
    "a2 = a2+b2\n",
    "b2 = a2-b2\n",
    "a2 = a2-b2\n",
    "print(a2)\n",
    "print(b2)\n"
   ]
  },
  {
   "cell_type": "code",
   "execution_count": 1,
   "id": "a761834f-2de2-4df3-a302-4a8fbe3d2ecd",
   "metadata": {},
   "outputs": [
    {
     "data": {
      "text/plain": [
       "'0b1000001'"
      ]
     },
     "execution_count": 1,
     "metadata": {},
     "output_type": "execute_result"
    }
   ],
   "source": [
    "bin(65)"
   ]
  },
  {
   "cell_type": "code",
   "execution_count": 3,
   "id": "1276171a-8498-4a7c-962d-301586fcc274",
   "metadata": {},
   "outputs": [
    {
     "data": {
      "text/plain": [
       "'0b111100'"
      ]
     },
     "execution_count": 3,
     "metadata": {},
     "output_type": "execute_result"
    }
   ],
   "source": [
    "bin(60)"
   ]
  },
  {
   "cell_type": "code",
   "execution_count": 5,
   "id": "5bda75cb-5e02-4a19-92cc-e6473ae1b967",
   "metadata": {},
   "outputs": [
    {
     "data": {
      "text/plain": [
       "65"
      ]
     },
     "execution_count": 5,
     "metadata": {},
     "output_type": "execute_result"
    }
   ],
   "source": [
    "int(0b1000001)"
   ]
  },
  {
   "cell_type": "code",
   "execution_count": 7,
   "id": "860978f7-c7ca-4346-b2b1-f45dd26990f0",
   "metadata": {},
   "outputs": [
    {
     "data": {
      "text/plain": [
       "60"
      ]
     },
     "execution_count": 7,
     "metadata": {},
     "output_type": "execute_result"
    }
   ],
   "source": [
    "int(0b111100)"
   ]
  },
  {
   "cell_type": "code",
   "execution_count": 9,
   "id": "c6c2d127-e7fb-4713-bc51-b5451da97d91",
   "metadata": {},
   "outputs": [
    {
     "name": "stdout",
     "output_type": "stream",
     "text": [
      "0b101\n",
      "0b110\n"
     ]
    }
   ],
   "source": [
    "print(bin(5))\n",
    "print(bin(6))"
   ]
  },
  {
   "cell_type": "code",
   "execution_count": null,
   "id": "7f0cb7ae-d044-470f-b020-36948315dc94",
   "metadata": {},
   "outputs": [],
   "source": [
    "can we swap using bit number (use print(0b101|0b 110)"
   ]
  },
  {
   "cell_type": "code",
   "execution_count": 11,
   "id": "4d11badc-2dd3-409f-82e5-b5a29169c95d",
   "metadata": {},
   "outputs": [
    {
     "name": "stdout",
     "output_type": "stream",
     "text": [
      "5\n",
      "6\n"
     ]
    }
   ],
   "source": [
    "print(int(0b101))\n",
    "print(int(0b110))"
   ]
  },
  {
   "cell_type": "code",
   "execution_count": 13,
   "id": "de51333b-11d0-4723-bf84-51785c1d2136",
   "metadata": {},
   "outputs": [
    {
     "name": "stdout",
     "output_type": "stream",
     "text": [
      "6\n",
      "5\n"
     ]
    }
   ],
   "source": [
    "print(int(0b110))\n",
    "print(int(0b101))"
   ]
  },
  {
   "cell_type": "code",
   "execution_count": 17,
   "id": "ca21bdb6-39d7-4c1a-847e-6b2f7dcce862",
   "metadata": {},
   "outputs": [
    {
     "name": "stdout",
     "output_type": "stream",
     "text": [
      "5\n",
      "6\n"
     ]
    }
   ],
   "source": [
    "a2, b2 = 6, 5\n",
    "\n",
    "a2, b2 = b2, a2\n",
    "print(a2)\n",
    "print(b2)"
   ]
  },
  {
   "cell_type": "code",
   "execution_count": 21,
   "id": "9c91c8d0-6a41-4d51-ab94-dd6032abb123",
   "metadata": {},
   "outputs": [
    {
     "data": {
      "text/plain": [
       "[1, 2, 3, 4, 5, 6]"
      ]
     },
     "execution_count": 21,
     "metadata": {},
     "output_type": "execute_result"
    }
   ],
   "source": [
    "l = [1, 2, 3, 4, 5, 6]\n",
    "l"
   ]
  },
  {
   "cell_type": "code",
   "execution_count": 12,
   "id": "3ead90a1-d904-4217-ad89-bc15b844906e",
   "metadata": {},
   "outputs": [
    {
     "ename": "NameError",
     "evalue": "name 'l' is not defined",
     "output_type": "error",
     "traceback": [
      "\u001b[1;31m---------------------------------------------------------------------------\u001b[0m",
      "\u001b[1;31mNameError\u001b[0m                                 Traceback (most recent call last)",
      "Cell \u001b[1;32mIn[12], line 1\u001b[0m\n\u001b[1;32m----> 1\u001b[0m l\n",
      "\u001b[1;31mNameError\u001b[0m: name 'l' is not defined"
     ]
    }
   ],
   "source": [
    "l"
   ]
  },
  {
   "cell_type": "code",
   "execution_count": 23,
   "id": "57426969-5760-4382-954a-2279a27c4f63",
   "metadata": {},
   "outputs": [
    {
     "data": {
      "text/plain": [
       "[7, 9.4, '4+6j', 'True', [9, 10, 11]]"
      ]
     },
     "execution_count": 23,
     "metadata": {},
     "output_type": "execute_result"
    }
   ],
   "source": [
    "l1 = [7, 9.4, '4+6j', 'True', [9, 10, 11]]\n",
    "l1"
   ]
  },
  {
   "cell_type": "code",
   "execution_count": 25,
   "id": "bf4bc7f1-7591-49de-a8ce-6e7caf928553",
   "metadata": {},
   "outputs": [
    {
     "data": {
      "text/plain": [
       "False"
      ]
     },
     "execution_count": 25,
     "metadata": {},
     "output_type": "execute_result"
    }
   ],
   "source": [
    "l==l1"
   ]
  },
  {
   "cell_type": "code",
   "execution_count": 29,
   "id": "1982d087-3266-464e-8cce-ef86a88262e6",
   "metadata": {},
   "outputs": [
    {
     "data": {
      "text/plain": [
       "0"
      ]
     },
     "execution_count": 29,
     "metadata": {},
     "output_type": "execute_result"
    }
   ],
   "source": [
    "l.count(9.4)"
   ]
  },
  {
   "cell_type": "code",
   "execution_count": 31,
   "id": "5305fb67-839b-42b7-8158-507ce6f061d7",
   "metadata": {},
   "outputs": [
    {
     "data": {
      "text/plain": [
       "[7, 9.4, '4+6j', 'True', [9, 10, 11]]"
      ]
     },
     "execution_count": 31,
     "metadata": {},
     "output_type": "execute_result"
    }
   ],
   "source": [
    "l1"
   ]
  },
  {
   "cell_type": "code",
   "execution_count": 33,
   "id": "75a1c8de-2e6d-4a4a-8e3e-4b98f4deab2c",
   "metadata": {},
   "outputs": [
    {
     "data": {
      "text/plain": [
       "1"
      ]
     },
     "execution_count": 33,
     "metadata": {},
     "output_type": "execute_result"
    }
   ],
   "source": [
    "l1.count(9.4)"
   ]
  },
  {
   "cell_type": "code",
   "execution_count": 37,
   "id": "217110f8-15c0-4dd6-a372-4f6b1242fbb7",
   "metadata": {},
   "outputs": [
    {
     "data": {
      "text/plain": [
       "1"
      ]
     },
     "execution_count": 37,
     "metadata": {},
     "output_type": "execute_result"
    }
   ],
   "source": [
    "l1.count('True')"
   ]
  },
  {
   "cell_type": "code",
   "execution_count": 41,
   "id": "b85c5b9b-278f-4671-8531-ca55ae493fe6",
   "metadata": {},
   "outputs": [
    {
     "data": {
      "text/plain": [
       "1"
      ]
     },
     "execution_count": 41,
     "metadata": {},
     "output_type": "execute_result"
    }
   ],
   "source": [
    "l1.count([9, 10, 11])"
   ]
  },
  {
   "cell_type": "code",
   "execution_count": 14,
   "id": "3972e197-d6e6-4b48-a66c-033dd4f8f7c9",
   "metadata": {},
   "outputs": [
    {
     "data": {
      "text/plain": [
       "5"
      ]
     },
     "execution_count": 14,
     "metadata": {},
     "output_type": "execute_result"
    }
   ],
   "source": [
    "a = 5\n",
    "a"
   ]
  },
  {
   "cell_type": "code",
   "execution_count": 18,
   "id": "86def38a-506a-4ef7-b7e0-84ed8891dd08",
   "metadata": {},
   "outputs": [
    {
     "data": {
      "text/plain": [
       "[]"
      ]
     },
     "execution_count": 18,
     "metadata": {},
     "output_type": "execute_result"
    }
   ],
   "source": [
    "l1 = []\n",
    "l1"
   ]
  },
  {
   "cell_type": "code",
   "execution_count": 20,
   "id": "dd2df752-eaf6-4b58-8f46-27259480417c",
   "metadata": {},
   "outputs": [
    {
     "data": {
      "text/plain": [
       "[1, 2, 3, 4, 5, 6, 7, 8, 9, 10]"
      ]
     },
     "execution_count": 20,
     "metadata": {},
     "output_type": "execute_result"
    }
   ],
   "source": [
    "l1 = [1, 2, 3, 4, 5, 6, 7, 8, 9, 10]\n",
    "l1     "
   ]
  },
  {
   "cell_type": "code",
   "execution_count": 22,
   "id": "982e3781-5f3b-4c74-bb36-099fccdb9bd5",
   "metadata": {},
   "outputs": [
    {
     "data": {
      "text/plain": [
       "[1, 2, 3, 4, 5, 6, 7, 8, 9, 10]"
      ]
     },
     "execution_count": 22,
     "metadata": {},
     "output_type": "execute_result"
    }
   ],
   "source": [
    "l1[:]"
   ]
  },
  {
   "cell_type": "code",
   "execution_count": 24,
   "id": "04693947-673a-4afd-ba0b-b69cf2d90dfd",
   "metadata": {},
   "outputs": [
    {
     "data": {
      "text/plain": [
       "[1, 2, 3, 4, 5]"
      ]
     },
     "execution_count": 24,
     "metadata": {},
     "output_type": "execute_result"
    }
   ],
   "source": [
    "l1[:5]"
   ]
  },
  {
   "cell_type": "code",
   "execution_count": 26,
   "id": "67c45df5-50ca-4399-b186-ca17f8e31c98",
   "metadata": {},
   "outputs": [
    {
     "data": {
      "text/plain": [
       "[1, 2, 3, 4, 5, 6]"
      ]
     },
     "execution_count": 26,
     "metadata": {},
     "output_type": "execute_result"
    }
   ],
   "source": [
    "l1[0:6]"
   ]
  },
  {
   "cell_type": "code",
   "execution_count": 28,
   "id": "b6b0c9ef-8de4-4fc3-ace8-6769b8486e8e",
   "metadata": {},
   "outputs": [
    {
     "data": {
      "text/plain": [
       "[5, 6]"
      ]
     },
     "execution_count": 28,
     "metadata": {},
     "output_type": "execute_result"
    }
   ],
   "source": [
    "l1[4:6]"
   ]
  },
  {
   "cell_type": "code",
   "execution_count": 30,
   "id": "fee79e22-3e7f-4761-93ab-d96c76760829",
   "metadata": {},
   "outputs": [
    {
     "data": {
      "text/plain": [
       "[1, 2, 3, 4, 5, 6, 7, 8, 9, 10]"
      ]
     },
     "execution_count": 30,
     "metadata": {},
     "output_type": "execute_result"
    }
   ],
   "source": [
    "l1"
   ]
  },
  {
   "cell_type": "code",
   "execution_count": 34,
   "id": "3a316355-5e4e-44fc-af52-f5bfec295d6b",
   "metadata": {},
   "outputs": [
    {
     "data": {
      "text/plain": [
       "[6, 7, 8, 9]"
      ]
     },
     "execution_count": 34,
     "metadata": {},
     "output_type": "execute_result"
    }
   ],
   "source": [
    "l1[5:-1]"
   ]
  },
  {
   "cell_type": "code",
   "execution_count": null,
   "id": "4be6163e-3dde-4595-9acd-696ec728f25c",
   "metadata": {},
   "outputs": [],
   "source": [
    "Slicing and Indexing Concept in String Datatype\n",
    "Slicing and Indexing Concept we understand in list DataStructure\n",
    "Slicing and Indexing we will used in Matrix "
   ]
  },
  {
   "cell_type": "code",
   "execution_count": 36,
   "id": "875973cd-7e6a-42cf-8daa-6be2c931750d",
   "metadata": {},
   "outputs": [
    {
     "data": {
      "text/plain": [
       "[1, 2, 3, 4, 5, 6, 7, 8, 9, 10]"
      ]
     },
     "execution_count": 36,
     "metadata": {},
     "output_type": "execute_result"
    }
   ],
   "source": [
    "l1"
   ]
  },
  {
   "cell_type": "code",
   "execution_count": 42,
   "id": "07af70fd-8848-492a-abaf-a5b0fc5656db",
   "metadata": {},
   "outputs": [
    {
     "data": {
      "text/plain": [
       "[6, 7, 8, 9, 10]"
      ]
     },
     "execution_count": 42,
     "metadata": {},
     "output_type": "execute_result"
    }
   ],
   "source": [
    "l1[5:]"
   ]
  },
  {
   "cell_type": "code",
   "execution_count": 44,
   "id": "9720094d-1ea4-42e9-bfc3-265459f09f5c",
   "metadata": {},
   "outputs": [
    {
     "data": {
      "text/plain": [
       "[1, 2, 3, 4, 5, 6, 7, 8, 9]"
      ]
     },
     "execution_count": 44,
     "metadata": {},
     "output_type": "execute_result"
    }
   ],
   "source": [
    "l1[:-1]"
   ]
  },
  {
   "cell_type": "code",
   "execution_count": 46,
   "id": "336f2da9-dd06-4019-995c-a4810797a870",
   "metadata": {},
   "outputs": [
    {
     "data": {
      "text/plain": [
       "[10, 9, 8, 7, 6, 5, 4, 3, 2, 1]"
      ]
     },
     "execution_count": 46,
     "metadata": {},
     "output_type": "execute_result"
    }
   ],
   "source": [
    "l1[::-1]  # Print the element reverse wise"
   ]
  },
  {
   "cell_type": "code",
   "execution_count": 48,
   "id": "e5462526-98d2-4eda-9bec-af0f4fa0fa47",
   "metadata": {},
   "outputs": [
    {
     "data": {
      "text/plain": [
       "[10, 8, 6, 4, 2]"
      ]
     },
     "execution_count": 48,
     "metadata": {},
     "output_type": "execute_result"
    }
   ],
   "source": [
    "l1[::-2] # print every 2nt step reverse wise"
   ]
  },
  {
   "cell_type": "code",
   "execution_count": 50,
   "id": "68780d61-8d69-4764-8c51-9e7401d7ae08",
   "metadata": {},
   "outputs": [
    {
     "data": {
      "text/plain": [
       "[10, 7, 4, 1]"
      ]
     },
     "execution_count": 50,
     "metadata": {},
     "output_type": "execute_result"
    }
   ],
   "source": [
    "l1[::-3]"
   ]
  },
  {
   "cell_type": "code",
   "execution_count": 52,
   "id": "bca2d3e3-b04c-4b64-9341-edbb39d04fe1",
   "metadata": {},
   "outputs": [
    {
     "data": {
      "text/plain": [
       "[1, 2, 3, 4, 5, 6, 7, 8, 9, 10]"
      ]
     },
     "execution_count": 52,
     "metadata": {},
     "output_type": "execute_result"
    }
   ],
   "source": [
    "l1"
   ]
  },
  {
   "cell_type": "code",
   "execution_count": 54,
   "id": "83f8a35d-996d-47e0-ae9b-9ff746e87718",
   "metadata": {},
   "outputs": [
    {
     "data": {
      "text/plain": [
       "[1, 3, 5, 7, 9]"
      ]
     },
     "execution_count": 54,
     "metadata": {},
     "output_type": "execute_result"
    }
   ],
   "source": [
    "l1[::2]  # This is advance slicing for every step count is 2"
   ]
  },
  {
   "cell_type": "code",
   "execution_count": 70,
   "id": "2150b635-eba8-415f-80a7-6eff370411ea",
   "metadata": {},
   "outputs": [
    {
     "data": {
      "text/plain": [
       "[1, 2, 3, 4, 5, 6, 7, 8, 9, 10]"
      ]
     },
     "execution_count": 70,
     "metadata": {},
     "output_type": "execute_result"
    }
   ],
   "source": [
    "l1"
   ]
  },
  {
   "cell_type": "code",
   "execution_count": 72,
   "id": "86958e21-3ba9-46b0-bc87-bb8397b11abe",
   "metadata": {},
   "outputs": [
    {
     "data": {
      "text/plain": [
       "1"
      ]
     },
     "execution_count": 72,
     "metadata": {},
     "output_type": "execute_result"
    }
   ],
   "source": [
    "l1.index(2)"
   ]
  },
  {
   "cell_type": "code",
   "execution_count": 74,
   "id": "ffbfc3da-85df-4760-8222-e84a5523f3fe",
   "metadata": {},
   "outputs": [
    {
     "data": {
      "text/plain": [
       "4"
      ]
     },
     "execution_count": 74,
     "metadata": {},
     "output_type": "execute_result"
    }
   ],
   "source": [
    "l1.index(5)"
   ]
  },
  {
   "cell_type": "code",
   "execution_count": 76,
   "id": "6548ae6c-c8e3-46b9-be84-9ed26941ddd6",
   "metadata": {},
   "outputs": [
    {
     "data": {
      "text/plain": [
       "6"
      ]
     },
     "execution_count": 76,
     "metadata": {},
     "output_type": "execute_result"
    }
   ],
   "source": [
    "l1.index(7)"
   ]
  },
  {
   "cell_type": "code",
   "execution_count": 82,
   "id": "0acc4495-b744-41b4-909a-ae4623b42cc8",
   "metadata": {},
   "outputs": [
    {
     "data": {
      "text/plain": [
       "8"
      ]
     },
     "execution_count": 82,
     "metadata": {},
     "output_type": "execute_result"
    }
   ],
   "source": [
    "l1.index(9)"
   ]
  },
  {
   "cell_type": "code",
   "execution_count": 88,
   "id": "9e47dcb4-79e0-4a19-9773-efc0700f1812",
   "metadata": {},
   "outputs": [
    {
     "data": {
      "text/plain": [
       "[1, 2, 3, 4, 5, 6, 7, 8, 9, 10]"
      ]
     },
     "execution_count": 88,
     "metadata": {},
     "output_type": "execute_result"
    }
   ],
   "source": [
    "l1"
   ]
  },
  {
   "cell_type": "code",
   "execution_count": 94,
   "id": "94e71330-0d65-4c57-a727-e757d9fd483c",
   "metadata": {},
   "outputs": [
    {
     "data": {
      "text/plain": [
       "4"
      ]
     },
     "execution_count": 94,
     "metadata": {},
     "output_type": "execute_result"
    }
   ],
   "source": [
    "l1.index(5)"
   ]
  },
  {
   "cell_type": "code",
   "execution_count": 96,
   "id": "11feb23d-83db-489b-9429-a50e268f0b88",
   "metadata": {},
   "outputs": [
    {
     "name": "stdout",
     "output_type": "stream",
     "text": [
      "1\n"
     ]
    }
   ],
   "source": [
    "print(l1[0])"
   ]
  },
  {
   "cell_type": "code",
   "execution_count": 98,
   "id": "250ec4db-b2e6-4fd8-bb13-cc5542d303e1",
   "metadata": {},
   "outputs": [
    {
     "name": "stdout",
     "output_type": "stream",
     "text": [
      "2\n"
     ]
    }
   ],
   "source": [
    "print(l1[1])"
   ]
  },
  {
   "cell_type": "code",
   "execution_count": 100,
   "id": "61b43ffb-9c23-4c66-ace7-aec7c6dd2c59",
   "metadata": {},
   "outputs": [
    {
     "data": {
      "text/plain": [
       "[1, 2, 3, 4, 5, 6, 7, 8, 9, 10]"
      ]
     },
     "execution_count": 100,
     "metadata": {},
     "output_type": "execute_result"
    }
   ],
   "source": [
    "l1"
   ]
  },
  {
   "cell_type": "code",
   "execution_count": 102,
   "id": "e4229b5f-e992-40b7-a209-5b6db8aadff6",
   "metadata": {},
   "outputs": [
    {
     "data": {
      "text/plain": [
       "2782915829696"
      ]
     },
     "execution_count": 102,
     "metadata": {},
     "output_type": "execute_result"
    }
   ],
   "source": [
    "id(l1)"
   ]
  },
  {
   "cell_type": "code",
   "execution_count": 106,
   "id": "4c5a20fd-497c-4682-a38f-2bd1cdb466fb",
   "metadata": {},
   "outputs": [
    {
     "data": {
      "text/plain": [
       "[]"
      ]
     },
     "execution_count": 106,
     "metadata": {},
     "output_type": "execute_result"
    }
   ],
   "source": [
    "l4 = []\n",
    "l4"
   ]
  },
  {
   "cell_type": "code",
   "execution_count": 111,
   "id": "4fa4777a-39e9-42c2-886c-28a9541ca76b",
   "metadata": {},
   "outputs": [
    {
     "data": {
      "text/plain": [
       "[4, 5, 4, 5]"
      ]
     },
     "execution_count": 111,
     "metadata": {},
     "output_type": "execute_result"
    }
   ],
   "source": [
    "l4.append(4)\n",
    "l4.append(5)\n",
    "l4"
   ]
  },
  {
   "cell_type": "code",
   "execution_count": 113,
   "id": "512bb4cf-e677-4e19-b666-7fd9f1a07156",
   "metadata": {},
   "outputs": [
    {
     "data": {
      "text/plain": [
       "2782916330112"
      ]
     },
     "execution_count": 113,
     "metadata": {},
     "output_type": "execute_result"
    }
   ],
   "source": [
    "id(l4)"
   ]
  },
  {
   "cell_type": "code",
   "execution_count": 115,
   "id": "4bf7dac9-9cd7-41eb-b4b4-d41087ecdba0",
   "metadata": {},
   "outputs": [
    {
     "data": {
      "text/plain": [
       "4"
      ]
     },
     "execution_count": 115,
     "metadata": {},
     "output_type": "execute_result"
    }
   ],
   "source": [
    "len(l4)"
   ]
  },
  {
   "cell_type": "code",
   "execution_count": 117,
   "id": "5f093a69-3849-4561-b84a-4cddbfba8876",
   "metadata": {},
   "outputs": [
    {
     "data": {
      "text/plain": [
       "[]"
      ]
     },
     "execution_count": 117,
     "metadata": {},
     "output_type": "execute_result"
    }
   ],
   "source": [
    "l4.clear()\n",
    "l4"
   ]
  },
  {
   "cell_type": "code",
   "execution_count": 119,
   "id": "177451e0-f6a7-447b-8166-0c2d7dd12bb8",
   "metadata": {},
   "outputs": [
    {
     "data": {
      "text/plain": [
       "2782916330112"
      ]
     },
     "execution_count": 119,
     "metadata": {},
     "output_type": "execute_result"
    }
   ],
   "source": [
    "id(l4)"
   ]
  },
  {
   "cell_type": "code",
   "execution_count": 123,
   "id": "31fd5edb-db4f-44e1-ad03-db93f9c1adc0",
   "metadata": {},
   "outputs": [
    {
     "ename": "NameError",
     "evalue": "name 'l4' is not defined",
     "output_type": "error",
     "traceback": [
      "\u001b[1;31m---------------------------------------------------------------------------\u001b[0m",
      "\u001b[1;31mNameError\u001b[0m                                 Traceback (most recent call last)",
      "Cell \u001b[1;32mIn[123], line 1\u001b[0m\n\u001b[1;32m----> 1\u001b[0m \u001b[38;5;28;01mdel\u001b[39;00m l4\n",
      "\u001b[1;31mNameError\u001b[0m: name 'l4' is not defined"
     ]
    }
   ],
   "source": [
    "del l4\n"
   ]
  },
  {
   "cell_type": "code",
   "execution_count": 139,
   "id": "948812b7-0f00-4763-93ca-bf3d7c863720",
   "metadata": {},
   "outputs": [
    {
     "data": {
      "text/plain": [
       "[1, 2, 3, 4, 5, 6, 7, 8, 9, 10]"
      ]
     },
     "execution_count": 139,
     "metadata": {},
     "output_type": "execute_result"
    }
   ],
   "source": [
    "l1"
   ]
  },
  {
   "cell_type": "code",
   "execution_count": 141,
   "id": "35ec7a83-abbb-41ee-9b97-5d432096fa74",
   "metadata": {},
   "outputs": [
    {
     "data": {
      "text/plain": [
       "10"
      ]
     },
     "execution_count": 141,
     "metadata": {},
     "output_type": "execute_result"
    }
   ],
   "source": [
    "l1.pop()  # pop function first remove last after that display"
   ]
  },
  {
   "cell_type": "code",
   "execution_count": 143,
   "id": "3acb4636-33f3-4ebc-b9f0-47fc1e3eeeaa",
   "metadata": {},
   "outputs": [
    {
     "data": {
      "text/plain": [
       "[1, 2, 3, 4, 5, 6, 7, 8, 9]"
      ]
     },
     "execution_count": 143,
     "metadata": {},
     "output_type": "execute_result"
    }
   ],
   "source": [
    "l1"
   ]
  },
  {
   "cell_type": "code",
   "execution_count": 145,
   "id": "3b333a76-66a7-40de-b8dd-ca69c7a86b0a",
   "metadata": {},
   "outputs": [
    {
     "data": {
      "text/plain": [
       "[1, 2, 3, 4, 5, 6, 7, 8, 9]"
      ]
     },
     "execution_count": 145,
     "metadata": {},
     "output_type": "execute_result"
    }
   ],
   "source": [
    "l1"
   ]
  },
  {
   "cell_type": "code",
   "execution_count": null,
   "id": "30cb7f41-0f1d-47e8-ab36-da08011a1b50",
   "metadata": {},
   "outputs": [],
   "source": [
    "Difference between pop and remove"
   ]
  },
  {
   "cell_type": "code",
   "execution_count": 152,
   "id": "6809a14c-5837-464b-852f-22690d21ab8a",
   "metadata": {},
   "outputs": [
    {
     "data": {
      "text/plain": [
       "[50, 60, 70, 80, 90]"
      ]
     },
     "execution_count": 152,
     "metadata": {},
     "output_type": "execute_result"
    }
   ],
   "source": [
    "l2 = [50, 60, 70, 80, 90]\n",
    "l2"
   ]
  },
  {
   "cell_type": "code",
   "execution_count": 154,
   "id": "186825de-8cc1-4167-b1b7-ca822a62cc5a",
   "metadata": {},
   "outputs": [
    {
     "data": {
      "text/plain": [
       "[50, 60, 70, 80, 90]"
      ]
     },
     "execution_count": 154,
     "metadata": {},
     "output_type": "execute_result"
    }
   ],
   "source": [
    "l3 = l2.copy()\n",
    "l3"
   ]
  },
  {
   "cell_type": "code",
   "execution_count": 163,
   "id": "79105707-4f52-46a9-aff8-591b26ecfa63",
   "metadata": {},
   "outputs": [
    {
     "data": {
      "text/plain": [
       "[60, 80, 90]"
      ]
     },
     "execution_count": 163,
     "metadata": {},
     "output_type": "execute_result"
    }
   ],
   "source": [
    "l3.remove(50)\n",
    "l3"
   ]
  },
  {
   "cell_type": "code",
   "execution_count": 165,
   "id": "4f9eabda-66df-4bcb-9090-d1a3818f9847",
   "metadata": {},
   "outputs": [
    {
     "data": {
      "text/plain": [
       "[1, 2, 3, 4, 5, 6, 7, 8, 9]"
      ]
     },
     "execution_count": 165,
     "metadata": {},
     "output_type": "execute_result"
    }
   ],
   "source": [
    "l1"
   ]
  },
  {
   "cell_type": "code",
   "execution_count": 167,
   "id": "d33867e9-4a50-401a-b90b-c22460697f7d",
   "metadata": {},
   "outputs": [
    {
     "data": {
      "text/plain": [
       "[1, 2, 3, 4, 6, 7, 8, 9]"
      ]
     },
     "execution_count": 167,
     "metadata": {},
     "output_type": "execute_result"
    }
   ],
   "source": [
    "l1.remove(5)   # remove we define value or element (value or element wise)\n",
    "l1"
   ]
  },
  {
   "cell_type": "code",
   "execution_count": 169,
   "id": "f9b2c6b8-2da4-48a1-9bca-4bac18a80bd7",
   "metadata": {},
   "outputs": [
    {
     "ename": "IndexError",
     "evalue": "pop index out of range",
     "output_type": "error",
     "traceback": [
      "\u001b[1;31m---------------------------------------------------------------------------\u001b[0m",
      "\u001b[1;31mIndexError\u001b[0m                                Traceback (most recent call last)",
      "Cell \u001b[1;32mIn[169], line 1\u001b[0m\n\u001b[1;32m----> 1\u001b[0m l1\u001b[38;5;241m.\u001b[39mpop(\u001b[38;5;241m8\u001b[39m)\n",
      "\u001b[1;31mIndexError\u001b[0m: pop index out of range"
     ]
    }
   ],
   "source": [
    "l1.pop(8)"
   ]
  },
  {
   "cell_type": "code",
   "execution_count": 171,
   "id": "d8ec0a69-4d8a-4314-a512-972f1eacd8a8",
   "metadata": {},
   "outputs": [
    {
     "data": {
      "text/plain": [
       "9"
      ]
     },
     "execution_count": 171,
     "metadata": {},
     "output_type": "execute_result"
    }
   ],
   "source": [
    "l1.pop() # pop remove index last value"
   ]
  },
  {
   "cell_type": "code",
   "execution_count": 173,
   "id": "8de87523-9ba8-4a3e-a593-5a58bcf0f13e",
   "metadata": {},
   "outputs": [
    {
     "data": {
      "text/plain": [
       "3"
      ]
     },
     "execution_count": 173,
     "metadata": {},
     "output_type": "execute_result"
    }
   ],
   "source": [
    "l1.pop(2)  # pop index wise remove"
   ]
  },
  {
   "cell_type": "code",
   "execution_count": 175,
   "id": "b63c0658-0a3f-4911-8f0b-0cec8ab09414",
   "metadata": {},
   "outputs": [
    {
     "data": {
      "text/plain": [
       "[1, 2, 4, 6, 7, 8]"
      ]
     },
     "execution_count": 175,
     "metadata": {},
     "output_type": "execute_result"
    }
   ],
   "source": [
    "l1"
   ]
  },
  {
   "cell_type": "code",
   "execution_count": 177,
   "id": "e85a4432-9e61-486d-9800-372164ea797d",
   "metadata": {},
   "outputs": [
    {
     "data": {
      "text/plain": [
       "8"
      ]
     },
     "execution_count": 177,
     "metadata": {},
     "output_type": "execute_result"
    }
   ],
   "source": [
    "l1.pop(-1)\n"
   ]
  },
  {
   "cell_type": "code",
   "execution_count": 179,
   "id": "fca92d9c-15a8-46de-8636-ecf3a7100b62",
   "metadata": {},
   "outputs": [
    {
     "data": {
      "text/plain": [
       "[1, 2, 4, 6, 7]"
      ]
     },
     "execution_count": 179,
     "metadata": {},
     "output_type": "execute_result"
    }
   ],
   "source": [
    "l1"
   ]
  },
  {
   "cell_type": "code",
   "execution_count": 189,
   "id": "cebbf7c1-40bb-4d8a-ae9b-fd33061c86f1",
   "metadata": {},
   "outputs": [
    {
     "data": {
      "text/plain": [
       "[1, 2, 30, 30, 30, 30, 4, 6, 7]"
      ]
     },
     "execution_count": 189,
     "metadata": {},
     "output_type": "execute_result"
    }
   ],
   "source": [
    "l1.insert(2,30)  # first argument is index postion and second argument is value (2 is index position),\n",
    "l1                                                                               (30 is value)"
   ]
  },
  {
   "cell_type": "code",
   "execution_count": 194,
   "id": "91121e59-74ed-45e9-ae6b-b0ab71d38326",
   "metadata": {},
   "outputs": [
    {
     "data": {
      "text/plain": [
       "[1, 2, 30, 30, 30, 5, 5, 30, 4, 6, 7]"
      ]
     },
     "execution_count": 194,
     "metadata": {},
     "output_type": "execute_result"
    }
   ],
   "source": [
    "l1.insert(5,5)\n",
    "l1"
   ]
  },
  {
   "cell_type": "code",
   "execution_count": 196,
   "id": "4315aa77-bd9a-4f64-8620-bcf55e44f391",
   "metadata": {},
   "outputs": [
    {
     "data": {
      "text/plain": [
       "[1, 2, 30, 30, 30, 5, 5, 30, 4, 6, 7]"
      ]
     },
     "execution_count": 196,
     "metadata": {},
     "output_type": "execute_result"
    }
   ],
   "source": [
    "l1"
   ]
  },
  {
   "cell_type": "code",
   "execution_count": 198,
   "id": "dd22e23b-8eb8-4ba3-9bf5-8860abec4b48",
   "metadata": {},
   "outputs": [
    {
     "data": {
      "text/plain": [
       "1"
      ]
     },
     "execution_count": 198,
     "metadata": {},
     "output_type": "execute_result"
    }
   ],
   "source": [
    "l1[0]"
   ]
  },
  {
   "cell_type": "code",
   "execution_count": 200,
   "id": "71503f8e-818d-4001-b94a-65ea8b070912",
   "metadata": {},
   "outputs": [
    {
     "data": {
      "text/plain": [
       "[200, 2, 30, 30, 30, 5, 5, 30, 4, 6, 7]"
      ]
     },
     "execution_count": 200,
     "metadata": {},
     "output_type": "execute_result"
    }
   ],
   "source": [
    "l1[0] = 200   # i want change 1 to 200 \n",
    "l1"
   ]
  },
  {
   "cell_type": "code",
   "execution_count": null,
   "id": "f3384c64-0644-4007-81ab-5a4080d373f4",
   "metadata": {},
   "outputs": [],
   "source": [
    "append()- append the element or value at last\n",
    "remove()- remove the value from the list\n",
    "pop()- pop the value or element by index (by defalt is at last) if no assign any value\n",
    "pop(1) - 1st index value will eliminated\n",
    "copy()- copy the list\n",
    "insert()- insert the value before index \n",
    "make sure index required bydefalt 2 argument\n",
    "1st argu - index position\n",
    "2nd argu - value\n",
    "value will add before index\n",
    "clear()- clear the elment from list\n",
    "del the use del key word\n",
    "reverse()- reverse the list\n",
    "list is mutable (changaable) hashable"
   ]
  },
  {
   "cell_type": "code",
   "execution_count": 202,
   "id": "07535a46-5e63-4806-8936-55da72c1e420",
   "metadata": {},
   "outputs": [
    {
     "data": {
      "text/plain": [
       "[200, 2, 30, 30, 30, 5, 5, 30, 4, 6, 7]"
      ]
     },
     "execution_count": 202,
     "metadata": {},
     "output_type": "execute_result"
    }
   ],
   "source": [
    "l1"
   ]
  },
  {
   "cell_type": "code",
   "execution_count": 204,
   "id": "a9aa1eb5-0e3e-495d-8f9a-1227c1b291b6",
   "metadata": {},
   "outputs": [
    {
     "data": {
      "text/plain": [
       "11"
      ]
     },
     "execution_count": 204,
     "metadata": {},
     "output_type": "execute_result"
    }
   ],
   "source": [
    "len(l1)"
   ]
  },
  {
   "cell_type": "code",
   "execution_count": 206,
   "id": "4a778f98-3dfc-4c27-ab2c-8e5fbd751123",
   "metadata": {},
   "outputs": [
    {
     "data": {
      "text/plain": [
       "[50, 60, 70, 80, 90]"
      ]
     },
     "execution_count": 206,
     "metadata": {},
     "output_type": "execute_result"
    }
   ],
   "source": [
    "l2"
   ]
  },
  {
   "cell_type": "code",
   "execution_count": 208,
   "id": "6fefedd6-9402-40ea-87e7-6c2711355ac7",
   "metadata": {},
   "outputs": [
    {
     "data": {
      "text/plain": [
       "5"
      ]
     },
     "execution_count": 208,
     "metadata": {},
     "output_type": "execute_result"
    }
   ],
   "source": [
    "len(l2)"
   ]
  },
  {
   "cell_type": "code",
   "execution_count": 212,
   "id": "779b40a7-1e8c-4ccb-975f-b265e786be8c",
   "metadata": {},
   "outputs": [
    {
     "data": {
      "text/plain": [
       "[50,\n",
       " 60,\n",
       " 70,\n",
       " 80,\n",
       " 90,\n",
       " 200,\n",
       " 2,\n",
       " 30,\n",
       " 30,\n",
       " 30,\n",
       " 5,\n",
       " 5,\n",
       " 30,\n",
       " 4,\n",
       " 6,\n",
       " 7,\n",
       " 200,\n",
       " 2,\n",
       " 30,\n",
       " 30,\n",
       " 30,\n",
       " 5,\n",
       " 5,\n",
       " 30,\n",
       " 4,\n",
       " 6,\n",
       " 7]"
      ]
     },
     "execution_count": 212,
     "metadata": {},
     "output_type": "execute_result"
    }
   ],
   "source": [
    "l2.extend(l1)\n",
    "l2"
   ]
  },
  {
   "cell_type": "code",
   "execution_count": 214,
   "id": "949532ec-986e-48b8-a96b-55b0432595c9",
   "metadata": {},
   "outputs": [
    {
     "data": {
      "text/plain": [
       "27"
      ]
     },
     "execution_count": 214,
     "metadata": {},
     "output_type": "execute_result"
    }
   ],
   "source": [
    "len(l2)"
   ]
  },
  {
   "cell_type": "code",
   "execution_count": 216,
   "id": "725026e7-d567-4aaf-9f98-a54f31f69358",
   "metadata": {},
   "outputs": [
    {
     "data": {
      "text/plain": [
       "[1, 2, 3, 4]"
      ]
     },
     "execution_count": 216,
     "metadata": {},
     "output_type": "execute_result"
    }
   ],
   "source": [
    "l7 = [1, 2, 3, 4]\n",
    "l7"
   ]
  },
  {
   "cell_type": "code",
   "execution_count": 218,
   "id": "0251dd77-179b-4ed7-acfa-3c5abbb30029",
   "metadata": {},
   "outputs": [
    {
     "data": {
      "text/plain": [
       "[5, 6, 7, 8]"
      ]
     },
     "execution_count": 218,
     "metadata": {},
     "output_type": "execute_result"
    }
   ],
   "source": [
    "l8 = [5, 6, 7, 8]\n",
    "l8"
   ]
  },
  {
   "cell_type": "code",
   "execution_count": 220,
   "id": "4504f46b-c291-4c99-970c-ab364027faaf",
   "metadata": {},
   "outputs": [
    {
     "data": {
      "text/plain": [
       "[1, 2, 3, 4, 5, 6, 7, 8]"
      ]
     },
     "execution_count": 220,
     "metadata": {},
     "output_type": "execute_result"
    }
   ],
   "source": [
    "l7.extend(l8)\n",
    "l7"
   ]
  },
  {
   "cell_type": "code",
   "execution_count": 222,
   "id": "c25f1fab-26c7-4f18-a1e3-7caf0c7d2d0a",
   "metadata": {},
   "outputs": [
    {
     "data": {
      "text/plain": [
       "8"
      ]
     },
     "execution_count": 222,
     "metadata": {},
     "output_type": "execute_result"
    }
   ],
   "source": [
    "len(l7)"
   ]
  },
  {
   "cell_type": "code",
   "execution_count": 226,
   "id": "96a32147-c6aa-4ad3-b34d-c5b929d897f9",
   "metadata": {},
   "outputs": [
    {
     "data": {
      "text/plain": [
       "[5, 6, 7, 8, 1, 2, 3, 4, 5, 6, 7, 8, 1, 2, 3, 4, 5, 6, 7, 8]"
      ]
     },
     "execution_count": 226,
     "metadata": {},
     "output_type": "execute_result"
    }
   ],
   "source": [
    "l8.extend(l7)\n",
    "l8"
   ]
  },
  {
   "cell_type": "code",
   "execution_count": 228,
   "id": "b63c52ac-4c7c-4684-abea-a91192838410",
   "metadata": {},
   "outputs": [
    {
     "name": "stdout",
     "output_type": "stream",
     "text": [
      "1\n",
      "2\n",
      "3\n",
      "4\n",
      "5\n",
      "6\n",
      "7\n",
      "8\n"
     ]
    }
   ],
   "source": [
    "for i in l7:\n",
    "    print(i)\n"
   ]
  },
  {
   "cell_type": "code",
   "execution_count": 230,
   "id": "95c6bf2b-f037-4f4a-aee5-198b2a674a03",
   "metadata": {},
   "outputs": [
    {
     "name": "stdout",
     "output_type": "stream",
     "text": [
      "(0, 1)\n",
      "(1, 2)\n",
      "(2, 3)\n",
      "(3, 4)\n",
      "(4, 5)\n",
      "(5, 6)\n",
      "(6, 7)\n",
      "(7, 8)\n"
     ]
    }
   ],
   "source": [
    "for i in enumerate(l7):  # enumerate() print index wise\n",
    "    print(i)"
   ]
  },
  {
   "cell_type": "code",
   "execution_count": 232,
   "id": "676836a8-5380-4583-adde-81e5759e3051",
   "metadata": {},
   "outputs": [
    {
     "data": {
      "text/plain": [
       "[1, 2, 3, 4, 5, 6, 7, 8]"
      ]
     },
     "execution_count": 232,
     "metadata": {},
     "output_type": "execute_result"
    }
   ],
   "source": [
    "l7"
   ]
  },
  {
   "cell_type": "code",
   "execution_count": null,
   "id": "4580a6f6-8253-4987-bc88-0dc8296152ec",
   "metadata": {},
   "outputs": [],
   "source": []
  },
  {
   "cell_type": "code",
   "execution_count": null,
   "id": "97d77e73-efb8-49c3-8f45-962c6b398acc",
   "metadata": {},
   "outputs": [],
   "source": []
  },
  {
   "cell_type": "code",
   "execution_count": null,
   "id": "3cbc3d6b-5edc-47d4-994d-367263610860",
   "metadata": {},
   "outputs": [],
   "source": []
  },
  {
   "cell_type": "code",
   "execution_count": null,
   "id": "dc048fa3-caf3-46f1-9a16-5d13f11f4f24",
   "metadata": {},
   "outputs": [],
   "source": []
  },
  {
   "cell_type": "code",
   "execution_count": null,
   "id": "a07b0df1-abd2-423f-8350-8b3da06fb374",
   "metadata": {},
   "outputs": [],
   "source": []
  },
  {
   "cell_type": "code",
   "execution_count": null,
   "id": "8511f231-904d-4756-8c08-b9291e728cac",
   "metadata": {},
   "outputs": [],
   "source": []
  },
  {
   "cell_type": "code",
   "execution_count": null,
   "id": "1d7eac3f-ad87-454c-b1fe-d5a8e2ec33a7",
   "metadata": {},
   "outputs": [],
   "source": []
  },
  {
   "cell_type": "code",
   "execution_count": null,
   "id": "684d2ff8-9b1f-4fc2-a94e-f0d77f116bfc",
   "metadata": {},
   "outputs": [],
   "source": []
  },
  {
   "cell_type": "code",
   "execution_count": null,
   "id": "80a65636-f75a-4e32-b842-8014d938f089",
   "metadata": {},
   "outputs": [],
   "source": []
  },
  {
   "cell_type": "code",
   "execution_count": null,
   "id": "721144de-5f00-48d6-a215-17fde95f2257",
   "metadata": {},
   "outputs": [],
   "source": []
  },
  {
   "cell_type": "code",
   "execution_count": null,
   "id": "2edd224a-d6c2-41da-acd7-edc1c4db8b72",
   "metadata": {},
   "outputs": [],
   "source": []
  },
  {
   "cell_type": "code",
   "execution_count": null,
   "id": "8d3599fe-c075-4802-b7db-c890cdb1412e",
   "metadata": {},
   "outputs": [],
   "source": []
  },
  {
   "cell_type": "code",
   "execution_count": null,
   "id": "c55c7a55-70e7-425e-a6c7-2de065ae3c31",
   "metadata": {},
   "outputs": [],
   "source": []
  },
  {
   "cell_type": "code",
   "execution_count": null,
   "id": "64ad1c00-ae45-4fe3-ba7d-4cb34965efb0",
   "metadata": {},
   "outputs": [],
   "source": []
  },
  {
   "cell_type": "code",
   "execution_count": null,
   "id": "369c7798-77d2-4780-98a1-f72ab59ede1b",
   "metadata": {},
   "outputs": [],
   "source": []
  },
  {
   "cell_type": "code",
   "execution_count": null,
   "id": "0d1c6e73-bcc2-4926-a939-4048fc7c9a64",
   "metadata": {},
   "outputs": [],
   "source": []
  },
  {
   "cell_type": "code",
   "execution_count": null,
   "id": "5d21841e-9808-43d3-9b5c-66d75deaec60",
   "metadata": {},
   "outputs": [],
   "source": []
  },
  {
   "cell_type": "code",
   "execution_count": null,
   "id": "8691d19c-ad02-436e-8de0-c781db11d7db",
   "metadata": {},
   "outputs": [],
   "source": []
  },
  {
   "cell_type": "code",
   "execution_count": null,
   "id": "315038bc-b432-417e-bcd4-5093a1825149",
   "metadata": {},
   "outputs": [],
   "source": []
  }
 ],
 "metadata": {
  "kernelspec": {
   "display_name": "Python 3 (ipykernel)",
   "language": "python",
   "name": "python3"
  },
  "language_info": {
   "codemirror_mode": {
    "name": "ipython",
    "version": 3
   },
   "file_extension": ".py",
   "mimetype": "text/x-python",
   "name": "python",
   "nbconvert_exporter": "python",
   "pygments_lexer": "ipython3",
   "version": "3.12.7"
  }
 },
 "nbformat": 4,
 "nbformat_minor": 5
}

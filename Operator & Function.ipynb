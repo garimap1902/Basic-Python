{
 "cells": [
  {
   "cell_type": "markdown",
   "id": "fb537210-2658-4559-bced-bc9a9c0e93c5",
   "metadata": {},
   "source": [
    "### 30th"
   ]
  },
  {
   "cell_type": "code",
   "execution_count": 1,
   "id": "58ea23bc-e6c8-4c12-90e4-0694cc115121",
   "metadata": {},
   "outputs": [
    {
     "ename": "NameError",
     "evalue": "name 'np' is not defined",
     "output_type": "error",
     "traceback": [
      "\u001b[1;31m---------------------------------------------------------------------------\u001b[0m",
      "\u001b[1;31mNameError\u001b[0m                                 Traceback (most recent call last)",
      "Cell \u001b[1;32mIn[1], line 1\u001b[0m\n\u001b[1;32m----> 1\u001b[0m np\u001b[38;5;241m.\u001b[39mnan\n",
      "\u001b[1;31mNameError\u001b[0m: name 'np' is not defined"
     ]
    }
   ],
   "source": [
    "np.nan"
   ]
  },
  {
   "cell_type": "code",
   "execution_count": 3,
   "id": "896a21d8-b2d1-4e26-9f53-2e3b3a4bfee5",
   "metadata": {},
   "outputs": [
    {
     "data": {
      "text/plain": [
       "nan"
      ]
     },
     "execution_count": 3,
     "metadata": {},
     "output_type": "execute_result"
    }
   ],
   "source": [
    "import numpy as np\n",
    "np.nan"
   ]
  },
  {
   "cell_type": "code",
   "execution_count": 5,
   "id": "9262b8bd-7491-4de2-a926-a13a3babf553",
   "metadata": {},
   "outputs": [
    {
     "data": {
      "text/plain": [
       "nan"
      ]
     },
     "execution_count": 5,
     "metadata": {},
     "output_type": "execute_result"
    }
   ],
   "source": [
    "npp = np.nan\n",
    "npp"
   ]
  },
  {
   "cell_type": "code",
   "execution_count": 7,
   "id": "52fa3d10-bb70-4e56-9ce9-5dffffd8f6c4",
   "metadata": {},
   "outputs": [
    {
     "data": {
      "text/plain": [
       "float"
      ]
     },
     "execution_count": 7,
     "metadata": {},
     "output_type": "execute_result"
    }
   ],
   "source": [
    "type(npp)"
   ]
  },
  {
   "cell_type": "code",
   "execution_count": 11,
   "id": "b39ef9cd-dd09-47c4-94f2-95407594f081",
   "metadata": {},
   "outputs": [
    {
     "data": {
      "text/plain": [
       "[]"
      ]
     },
     "execution_count": 11,
     "metadata": {},
     "output_type": "execute_result"
    }
   ],
   "source": [
    "l1 = []\n",
    "l1"
   ]
  },
  {
   "cell_type": "code",
   "execution_count": 13,
   "id": "c4e8c591-5d16-4e47-8117-641543a09322",
   "metadata": {},
   "outputs": [
    {
     "data": {
      "text/plain": [
       "[10, 20, 30, 40, 50, 60, 0]"
      ]
     },
     "execution_count": 13,
     "metadata": {},
     "output_type": "execute_result"
    }
   ],
   "source": [
    "l1 = [10, 20, 30, 40, 50, 60, 0]\n",
    "l1"
   ]
  },
  {
   "cell_type": "code",
   "execution_count": 20,
   "id": "487ccd83-79b8-48ff-aa27-2574a5a15cd1",
   "metadata": {},
   "outputs": [
    {
     "data": {
      "text/plain": [
       "[0, 10, 20, 30, 40, 50, 60]"
      ]
     },
     "execution_count": 20,
     "metadata": {},
     "output_type": "execute_result"
    }
   ],
   "source": [
    "l1.sort() # Sort function means assending order (parameter tuning)\n",
    "l1"
   ]
  },
  {
   "cell_type": "code",
   "execution_count": 22,
   "id": "02ccb1d7-3992-4650-8f55-d85423ffa523",
   "metadata": {},
   "outputs": [
    {
     "data": {
      "text/plain": [
       "[60, 50, 40, 30, 20, 10, 0]"
      ]
     },
     "execution_count": 22,
     "metadata": {},
     "output_type": "execute_result"
    }
   ],
   "source": [
    "l1.sort(reverse = True) # This is decending order (hyper parameter tuning)\n",
    "l1"
   ]
  },
  {
   "cell_type": "code",
   "execution_count": 26,
   "id": "09d871da-65f2-4dc4-8e3d-494294ddc8d9",
   "metadata": {},
   "outputs": [
    {
     "data": {
      "text/plain": [
       "['a', 'm', 'z']"
      ]
     },
     "execution_count": 26,
     "metadata": {},
     "output_type": "execute_result"
    }
   ],
   "source": [
    "l5 = ['z', 'a', 'm']\n",
    "l5.sort()\n",
    "l5"
   ]
  },
  {
   "cell_type": "code",
   "execution_count": 28,
   "id": "610370b4-ae8e-4f1d-9996-34f5f4715e05",
   "metadata": {},
   "outputs": [
    {
     "data": {
      "text/plain": [
       "['a', 'm', 'z']"
      ]
     },
     "execution_count": 28,
     "metadata": {},
     "output_type": "execute_result"
    }
   ],
   "source": [
    "l5.sort(reverse= False) # Ascending order\n",
    "l5"
   ]
  },
  {
   "cell_type": "code",
   "execution_count": 30,
   "id": "5fcb5143-3f01-4b9d-a413-3513fbaebb76",
   "metadata": {},
   "outputs": [
    {
     "data": {
      "text/plain": [
       "['z', 'm', 'a']"
      ]
     },
     "execution_count": 30,
     "metadata": {},
     "output_type": "execute_result"
    }
   ],
   "source": [
    "l5.sort(reverse= True) # Decending order\n",
    "l5"
   ]
  },
  {
   "cell_type": "code",
   "execution_count": 32,
   "id": "7a482c35-fb56-4412-95ca-fd940a73f999",
   "metadata": {},
   "outputs": [
    {
     "data": {
      "text/plain": [
       "[]"
      ]
     },
     "execution_count": 32,
     "metadata": {},
     "output_type": "execute_result"
    }
   ],
   "source": [
    "l1 = []\n",
    "l1"
   ]
  },
  {
   "cell_type": "code",
   "execution_count": 34,
   "id": "11bf37b9-b680-433e-8e74-92eb6255da27",
   "metadata": {},
   "outputs": [
    {
     "data": {
      "text/plain": [
       "[10, 20, 30, 40]"
      ]
     },
     "execution_count": 34,
     "metadata": {},
     "output_type": "execute_result"
    }
   ],
   "source": [
    "l1 = [10, 30, 20,40]\n",
    "l1.sort()\n",
    "l1"
   ]
  },
  {
   "cell_type": "code",
   "execution_count": 36,
   "id": "d38410c5-e3dd-4d8d-ba54-2ba3083851d2",
   "metadata": {},
   "outputs": [
    {
     "data": {
      "text/plain": [
       "[10, 20, 30, 40, (1+2j)]"
      ]
     },
     "execution_count": 36,
     "metadata": {},
     "output_type": "execute_result"
    }
   ],
   "source": [
    "l1.append(1+2j)\n",
    "l1"
   ]
  },
  {
   "cell_type": "code",
   "execution_count": 38,
   "id": "510826fe-a72a-4899-a8d0-34edb9b66f57",
   "metadata": {},
   "outputs": [
    {
     "data": {
      "text/plain": [
       "[10, 20, 30, 40, (1+2j), True]"
      ]
     },
     "execution_count": 38,
     "metadata": {},
     "output_type": "execute_result"
    }
   ],
   "source": [
    "l1.append(True)\n",
    "l1"
   ]
  },
  {
   "cell_type": "code",
   "execution_count": 40,
   "id": "94961566-9fb6-4748-a17d-64666d416d08",
   "metadata": {},
   "outputs": [
    {
     "ename": "TypeError",
     "evalue": "'<' not supported between instances of 'complex' and 'int'",
     "output_type": "error",
     "traceback": [
      "\u001b[1;31m---------------------------------------------------------------------------\u001b[0m",
      "\u001b[1;31mTypeError\u001b[0m                                 Traceback (most recent call last)",
      "Cell \u001b[1;32mIn[40], line 1\u001b[0m\n\u001b[1;32m----> 1\u001b[0m l1\u001b[38;5;241m.\u001b[39msort()\n",
      "\u001b[1;31mTypeError\u001b[0m: '<' not supported between instances of 'complex' and 'int'"
     ]
    }
   ],
   "source": [
    "l1.sort()"
   ]
  },
  {
   "cell_type": "code",
   "execution_count": 42,
   "id": "03e65427-30e7-42b6-8b26-7d3510fff2cc",
   "metadata": {},
   "outputs": [
    {
     "data": {
      "text/plain": [
       "6"
      ]
     },
     "execution_count": 42,
     "metadata": {},
     "output_type": "execute_result"
    }
   ],
   "source": [
    "a = 2\n",
    "b = 4\n",
    "a+b"
   ]
  },
  {
   "cell_type": "code",
   "execution_count": 46,
   "id": "f8ee8543-0974-454f-99ea-0e980e0397d3",
   "metadata": {},
   "outputs": [
    {
     "data": {
      "text/plain": [
       "6"
      ]
     },
     "execution_count": 46,
     "metadata": {},
     "output_type": "execute_result"
    }
   ],
   "source": [
    "int.__add__(2,4)  # This is magic method"
   ]
  },
  {
   "cell_type": "code",
   "execution_count": 48,
   "id": "6ed28c00-286a-4ca3-8737-172e7d60bc48",
   "metadata": {},
   "outputs": [
    {
     "data": {
      "text/plain": [
       "1"
      ]
     },
     "execution_count": 48,
     "metadata": {},
     "output_type": "execute_result"
    }
   ],
   "source": [
    "int.__sub__(4,3)"
   ]
  },
  {
   "cell_type": "code",
   "execution_count": 50,
   "id": "cb58c0ac-835d-4dbd-aa04-d69b6b3f751a",
   "metadata": {},
   "outputs": [
    {
     "data": {
      "text/plain": [
       "12"
      ]
     },
     "execution_count": 50,
     "metadata": {},
     "output_type": "execute_result"
    }
   ],
   "source": [
    "int.__mul__(4,3)"
   ]
  },
  {
   "cell_type": "code",
   "execution_count": 56,
   "id": "f3021073-9a62-4d4c-af3e-5a3c8c300fee",
   "metadata": {},
   "outputs": [
    {
     "data": {
      "text/plain": [
       "1.0999999999999996"
      ]
     },
     "execution_count": 56,
     "metadata": {},
     "output_type": "execute_result"
    }
   ],
   "source": [
    "float.__sub__(3.3, 2.2)"
   ]
  },
  {
   "cell_type": "code",
   "execution_count": 58,
   "id": "7da27cc4-8a20-440e-b281-07bcca2c3a36",
   "metadata": {},
   "outputs": [
    {
     "data": {
      "text/plain": [
       "()"
      ]
     },
     "execution_count": 58,
     "metadata": {},
     "output_type": "execute_result"
    }
   ],
   "source": [
    "t = ()\n",
    "t"
   ]
  },
  {
   "cell_type": "code",
   "execution_count": 60,
   "id": "2176ecf2-83a5-494c-bc2d-b8429c33aaff",
   "metadata": {},
   "outputs": [
    {
     "data": {
      "text/plain": [
       "tuple"
      ]
     },
     "execution_count": 60,
     "metadata": {},
     "output_type": "execute_result"
    }
   ],
   "source": [
    "type(t)"
   ]
  },
  {
   "cell_type": "code",
   "execution_count": 62,
   "id": "4e727fdb-fc79-4f17-89e2-ebc3990d4358",
   "metadata": {},
   "outputs": [
    {
     "data": {
      "text/plain": [
       "int"
      ]
     },
     "execution_count": 62,
     "metadata": {},
     "output_type": "execute_result"
    }
   ],
   "source": [
    "a2 = 10\n",
    "type(a)"
   ]
  },
  {
   "cell_type": "code",
   "execution_count": 64,
   "id": "a96b9159-a9a2-4b8b-934c-7c0d128e2978",
   "metadata": {},
   "outputs": [
    {
     "data": {
      "text/plain": [
       "(3, 4, 5, 6)"
      ]
     },
     "execution_count": 64,
     "metadata": {},
     "output_type": "execute_result"
    }
   ],
   "source": [
    "t = 3, 4, 5, 6\n",
    "t"
   ]
  },
  {
   "cell_type": "code",
   "execution_count": 66,
   "id": "b05ac1d3-59ba-4f88-b688-75f8ab315be3",
   "metadata": {},
   "outputs": [
    {
     "data": {
      "text/plain": [
       "tuple"
      ]
     },
     "execution_count": 66,
     "metadata": {},
     "output_type": "execute_result"
    }
   ],
   "source": [
    "type(t)"
   ]
  },
  {
   "cell_type": "code",
   "execution_count": 68,
   "id": "6f40dffc-d41b-449d-ab05-8782435be4c3",
   "metadata": {},
   "outputs": [
    {
     "data": {
      "text/plain": [
       "(50, 40, 10, 80)"
      ]
     },
     "execution_count": 68,
     "metadata": {},
     "output_type": "execute_result"
    }
   ],
   "source": [
    "t2 = 50, 40, 10, 80\n",
    "t2"
   ]
  },
  {
   "cell_type": "code",
   "execution_count": 70,
   "id": "99715c4f-63d0-432d-a4e9-f417a2b5f954",
   "metadata": {},
   "outputs": [
    {
     "data": {
      "text/plain": [
       "tuple"
      ]
     },
     "execution_count": 70,
     "metadata": {},
     "output_type": "execute_result"
    }
   ],
   "source": [
    "type(t2)"
   ]
  },
  {
   "cell_type": "code",
   "execution_count": null,
   "id": "a202a289-421e-48e2-b82f-5cbd3a052860",
   "metadata": {},
   "outputs": [],
   "source": [
    "t2.count"
   ]
  },
  {
   "cell_type": "code",
   "execution_count": 72,
   "id": "30c1637d-e925-4191-86ea-2f9c0903b726",
   "metadata": {},
   "outputs": [
    {
     "data": {
      "text/plain": [
       "(1, 2, 'True', (2+40j))"
      ]
     },
     "execution_count": 72,
     "metadata": {},
     "output_type": "execute_result"
    }
   ],
   "source": [
    "t = 1, 2, 'True', 2+40j\n",
    "t"
   ]
  },
  {
   "cell_type": "code",
   "execution_count": 74,
   "id": "46b1a251-beb8-4a23-b5f5-13c593e26ac1",
   "metadata": {},
   "outputs": [
    {
     "data": {
      "text/plain": [
       "(1, 2, 'True', (2+40j))"
      ]
     },
     "execution_count": 74,
     "metadata": {},
     "output_type": "execute_result"
    }
   ],
   "source": [
    "var = 1, 2, 'True', 2+40j\n",
    "var"
   ]
  },
  {
   "cell_type": "code",
   "execution_count": 76,
   "id": "51570b91-d007-4043-91ab-17138e5393fc",
   "metadata": {},
   "outputs": [
    {
     "data": {
      "text/plain": [
       "tuple"
      ]
     },
     "execution_count": 76,
     "metadata": {},
     "output_type": "execute_result"
    }
   ],
   "source": [
    "type(var)"
   ]
  },
  {
   "cell_type": "code",
   "execution_count": 78,
   "id": "70ab17bf-4d70-4cb9-8543-4f76a9598af4",
   "metadata": {},
   "outputs": [
    {
     "data": {
      "text/plain": [
       "4"
      ]
     },
     "execution_count": 78,
     "metadata": {},
     "output_type": "execute_result"
    }
   ],
   "source": [
    "len(var)"
   ]
  },
  {
   "cell_type": "code",
   "execution_count": 80,
   "id": "9ccea1a1-3c9f-4f85-aec0-f7b4a23f2f2b",
   "metadata": {},
   "outputs": [
    {
     "data": {
      "text/plain": [
       "(1, 2, 'True', (2+40j))"
      ]
     },
     "execution_count": 80,
     "metadata": {},
     "output_type": "execute_result"
    }
   ],
   "source": [
    "var"
   ]
  },
  {
   "cell_type": "code",
   "execution_count": 82,
   "id": "a80a9666-c50b-42ec-9cbd-e0e242665c2f",
   "metadata": {},
   "outputs": [
    {
     "data": {
      "text/plain": [
       "1"
      ]
     },
     "execution_count": 82,
     "metadata": {},
     "output_type": "execute_result"
    }
   ],
   "source": [
    "var[0]"
   ]
  },
  {
   "cell_type": "code",
   "execution_count": 84,
   "id": "766760db-9c4b-4564-8495-f36592351596",
   "metadata": {},
   "outputs": [
    {
     "ename": "TypeError",
     "evalue": "'tuple' object does not support item assignment",
     "output_type": "error",
     "traceback": [
      "\u001b[1;31m---------------------------------------------------------------------------\u001b[0m",
      "\u001b[1;31mTypeError\u001b[0m                                 Traceback (most recent call last)",
      "Cell \u001b[1;32mIn[84], line 1\u001b[0m\n\u001b[1;32m----> 1\u001b[0m var[\u001b[38;5;241m0\u001b[39m] \u001b[38;5;241m=\u001b[39m \u001b[38;5;241m35\u001b[39m\n",
      "\u001b[1;31mTypeError\u001b[0m: 'tuple' object does not support item assignment"
     ]
    }
   ],
   "source": [
    "var[0] = 35 # cant change value. this is imutable.."
   ]
  },
  {
   "cell_type": "code",
   "execution_count": 86,
   "id": "2b1dab86-c214-4b10-9c93-169aaba69865",
   "metadata": {},
   "outputs": [
    {
     "ename": "NameError",
     "evalue": "name 'l' is not defined",
     "output_type": "error",
     "traceback": [
      "\u001b[1;31m---------------------------------------------------------------------------\u001b[0m",
      "\u001b[1;31mNameError\u001b[0m                                 Traceback (most recent call last)",
      "Cell \u001b[1;32mIn[86], line 1\u001b[0m\n\u001b[1;32m----> 1\u001b[0m l\n",
      "\u001b[1;31mNameError\u001b[0m: name 'l' is not defined"
     ]
    }
   ],
   "source": [
    "l"
   ]
  },
  {
   "cell_type": "code",
   "execution_count": 88,
   "id": "f56d1c1b-fbdb-4cba-b725-dd6db1f5957d",
   "metadata": {},
   "outputs": [
    {
     "data": {
      "text/plain": [
       "[10, 20, 30, 40, (1+2j), True]"
      ]
     },
     "execution_count": 88,
     "metadata": {},
     "output_type": "execute_result"
    }
   ],
   "source": [
    "l1"
   ]
  },
  {
   "cell_type": "code",
   "execution_count": 90,
   "id": "4451c92f-a8f7-42dc-8a18-53ad7104749b",
   "metadata": {},
   "outputs": [
    {
     "data": {
      "text/plain": [
       "10"
      ]
     },
     "execution_count": 90,
     "metadata": {},
     "output_type": "execute_result"
    }
   ],
   "source": [
    "l1[0]"
   ]
  },
  {
   "cell_type": "code",
   "execution_count": 94,
   "id": "cdb03790-3f22-460e-8169-6b2b68495b1f",
   "metadata": {},
   "outputs": [
    {
     "data": {
      "text/plain": [
       "[30, 20, 30, 40, (1+2j), True]"
      ]
     },
     "execution_count": 94,
     "metadata": {},
     "output_type": "execute_result"
    }
   ],
   "source": [
    "l1[0] = 30 # this is change value. this is mutable\n",
    "l1"
   ]
  },
  {
   "cell_type": "code",
   "execution_count": 96,
   "id": "3d7977f4-57b3-41aa-b05f-6456deefc30f",
   "metadata": {},
   "outputs": [
    {
     "data": {
      "text/plain": [
       "(234, 'cizp654', 4567)"
      ]
     },
     "execution_count": 96,
     "metadata": {},
     "output_type": "execute_result"
    }
   ],
   "source": [
    "icici = (234, 'cizp654', 4567) # credential in tuple because of no one change\n",
    "icici"
   ]
  },
  {
   "cell_type": "code",
   "execution_count": 98,
   "id": "c8184a77-6235-4d96-a33f-b049f134fc22",
   "metadata": {},
   "outputs": [
    {
     "data": {
      "text/plain": [
       "(1, 2, 'True', (2+40j))"
      ]
     },
     "execution_count": 98,
     "metadata": {},
     "output_type": "execute_result"
    }
   ],
   "source": [
    "var"
   ]
  },
  {
   "cell_type": "code",
   "execution_count": 100,
   "id": "f72304ad-c3f3-4821-a6ba-84993ff8da5a",
   "metadata": {},
   "outputs": [
    {
     "data": {
      "text/plain": [
       "(50, 40, 10, 80)"
      ]
     },
     "execution_count": 100,
     "metadata": {},
     "output_type": "execute_result"
    }
   ],
   "source": [
    "t2"
   ]
  },
  {
   "cell_type": "code",
   "execution_count": 102,
   "id": "242c9f7f-bf6c-43b5-a039-6591a4ff638a",
   "metadata": {},
   "outputs": [
    {
     "data": {
      "text/plain": [
       "(50, 40, 10, 80, 50, 40, 10, 80, 50, 40, 10, 80)"
      ]
     },
     "execution_count": 102,
     "metadata": {},
     "output_type": "execute_result"
    }
   ],
   "source": [
    "t2*3 # this is repeat 3 times"
   ]
  },
  {
   "cell_type": "code",
   "execution_count": 104,
   "id": "0b54bc47-fa45-474c-86a2-9d2280e057e9",
   "metadata": {},
   "outputs": [
    {
     "ename": "ValueError",
     "evalue": "tuple.index(x): x not in tuple",
     "output_type": "error",
     "traceback": [
      "\u001b[1;31m---------------------------------------------------------------------------\u001b[0m",
      "\u001b[1;31mValueError\u001b[0m                                Traceback (most recent call last)",
      "Cell \u001b[1;32mIn[104], line 1\u001b[0m\n\u001b[1;32m----> 1\u001b[0m t2\u001b[38;5;241m.\u001b[39mindex(\u001b[38;5;241m4\u001b[39m)\n",
      "\u001b[1;31mValueError\u001b[0m: tuple.index(x): x not in tuple"
     ]
    }
   ],
   "source": [
    "t2.index(4)"
   ]
  },
  {
   "cell_type": "code",
   "execution_count": 107,
   "id": "936deb14-2285-4ef4-9235-b0d28857c578",
   "metadata": {},
   "outputs": [
    {
     "data": {
      "text/plain": [
       "(50, 40, 10, 80)"
      ]
     },
     "execution_count": 107,
     "metadata": {},
     "output_type": "execute_result"
    }
   ],
   "source": [
    "t2"
   ]
  },
  {
   "cell_type": "code",
   "execution_count": 125,
   "id": "2c1e3737-aade-46f9-b8cf-3517b174873c",
   "metadata": {},
   "outputs": [
    {
     "data": {
      "text/plain": [
       "3"
      ]
     },
     "execution_count": 125,
     "metadata": {},
     "output_type": "execute_result"
    }
   ],
   "source": [
    "t2.index(80)"
   ]
  },
  {
   "cell_type": "code",
   "execution_count": 121,
   "id": "6af608f6-ef3d-4cec-9062-1d34af50887c",
   "metadata": {},
   "outputs": [
    {
     "data": {
      "text/plain": [
       "1"
      ]
     },
     "execution_count": 121,
     "metadata": {},
     "output_type": "execute_result"
    }
   ],
   "source": [
    "t2.index(40)\n"
   ]
  },
  {
   "cell_type": "code",
   "execution_count": 119,
   "id": "138d9337-d382-4104-a8e5-2a9909b06964",
   "metadata": {},
   "outputs": [
    {
     "data": {
      "text/plain": [
       "(50, 40, 10, 80)"
      ]
     },
     "execution_count": 119,
     "metadata": {},
     "output_type": "execute_result"
    }
   ],
   "source": [
    "t2"
   ]
  },
  {
   "cell_type": "code",
   "execution_count": 115,
   "id": "0d92039a-19f6-419a-b9cb-6898558dc245",
   "metadata": {},
   "outputs": [
    {
     "data": {
      "text/plain": [
       "(10, 80)"
      ]
     },
     "execution_count": 115,
     "metadata": {},
     "output_type": "execute_result"
    }
   ],
   "source": [
    "t2[2:]"
   ]
  },
  {
   "cell_type": "code",
   "execution_count": 127,
   "id": "f6c4e4d2-21ad-4f13-851f-fb9864c9fad5",
   "metadata": {},
   "outputs": [
    {
     "data": {
      "text/plain": [
       "(50, 40, 10, 80)"
      ]
     },
     "execution_count": 127,
     "metadata": {},
     "output_type": "execute_result"
    }
   ],
   "source": [
    "t2"
   ]
  },
  {
   "cell_type": "code",
   "execution_count": 129,
   "id": "6f32c52e-c6ec-4555-84a2-42ded7095bba",
   "metadata": {},
   "outputs": [
    {
     "data": {
      "text/plain": [
       "(50, 40, 10, 80)"
      ]
     },
     "execution_count": 129,
     "metadata": {},
     "output_type": "execute_result"
    }
   ],
   "source": [
    "t2[:5]"
   ]
  },
  {
   "cell_type": "code",
   "execution_count": 131,
   "id": "14b540bb-f024-4822-90a8-abcfdf5cc3de",
   "metadata": {},
   "outputs": [
    {
     "ename": "IndexError",
     "evalue": "tuple index out of range",
     "output_type": "error",
     "traceback": [
      "\u001b[1;31m---------------------------------------------------------------------------\u001b[0m",
      "\u001b[1;31mIndexError\u001b[0m                                Traceback (most recent call last)",
      "Cell \u001b[1;32mIn[131], line 1\u001b[0m\n\u001b[1;32m----> 1\u001b[0m t2[\u001b[38;5;241m10\u001b[39m]\n",
      "\u001b[1;31mIndexError\u001b[0m: tuple index out of range"
     ]
    }
   ],
   "source": [
    "t2[10]"
   ]
  },
  {
   "cell_type": "code",
   "execution_count": 133,
   "id": "48514e13-2907-48ce-870a-e5ca30bc2c18",
   "metadata": {},
   "outputs": [
    {
     "name": "stdout",
     "output_type": "stream",
     "text": [
      "50\n",
      "40\n",
      "10\n",
      "80\n"
     ]
    }
   ],
   "source": [
    "for i in t2:\n",
    "    print(i)"
   ]
  },
  {
   "cell_type": "code",
   "execution_count": 135,
   "id": "91ed0831-00d8-47c5-87fd-e6d68d7e2a42",
   "metadata": {},
   "outputs": [
    {
     "name": "stdout",
     "output_type": "stream",
     "text": [
      "(0, 50)\n",
      "(1, 40)\n",
      "(2, 10)\n",
      "(3, 80)\n"
     ]
    }
   ],
   "source": [
    "for i in enumerate(t2):\n",
    "    print(i)"
   ]
  },
  {
   "cell_type": "code",
   "execution_count": 139,
   "id": "bcb84e29-539b-4d17-8eff-3f41da472803",
   "metadata": {},
   "outputs": [
    {
     "data": {
      "text/plain": [
       "(10, 10)"
      ]
     },
     "execution_count": 139,
     "metadata": {},
     "output_type": "execute_result"
    }
   ],
   "source": [
    "t2 = (10, 10) # dublicate value is allowed... tuple completed\n",
    "t2"
   ]
  },
  {
   "cell_type": "code",
   "execution_count": 141,
   "id": "e4031a42-d86b-4315-a99b-546d958ec300",
   "metadata": {},
   "outputs": [
    {
     "data": {
      "text/plain": [
       "('nit', 5)"
      ]
     },
     "execution_count": 141,
     "metadata": {},
     "output_type": "execute_result"
    }
   ],
   "source": [
    "t5 = ('nit', 5)\n",
    "t5"
   ]
  },
  {
   "cell_type": "code",
   "execution_count": 143,
   "id": "7e93d28d-591a-4cb9-912f-346827fae78d",
   "metadata": {},
   "outputs": [
    {
     "data": {
      "text/plain": [
       "tuple"
      ]
     },
     "execution_count": 143,
     "metadata": {},
     "output_type": "execute_result"
    }
   ],
   "source": [
    "type(t5)"
   ]
  },
  {
   "cell_type": "code",
   "execution_count": 145,
   "id": "7ad22cfd-1ac4-40e5-af08-074e38e98ea3",
   "metadata": {},
   "outputs": [
    {
     "data": {
      "text/plain": [
       "'nit'"
      ]
     },
     "execution_count": 145,
     "metadata": {},
     "output_type": "execute_result"
    }
   ],
   "source": [
    "t5[0]"
   ]
  },
  {
   "cell_type": "code",
   "execution_count": 147,
   "id": "6e3a2951-2598-4c26-bed0-905fe154687b",
   "metadata": {},
   "outputs": [
    {
     "data": {
      "text/plain": [
       "'n'"
      ]
     },
     "execution_count": 147,
     "metadata": {},
     "output_type": "execute_result"
    }
   ],
   "source": [
    "t5[0][0]"
   ]
  },
  {
   "cell_type": "code",
   "execution_count": 153,
   "id": "92d7c90b-c3b9-4944-aea1-0a4596af54f9",
   "metadata": {},
   "outputs": [
    {
     "name": "stdout",
     "output_type": "stream",
     "text": [
      "n\n",
      "i\n",
      "t\n"
     ]
    }
   ],
   "source": [
    "print(t5[0][0])\n",
    "print(t5[0][1])\n",
    "print(t5[0][2])\n",
    "      "
   ]
  },
  {
   "cell_type": "code",
   "execution_count": 155,
   "id": "e24da530-5536-4f77-8983-54f36b994477",
   "metadata": {
    "scrolled": true
   },
   "outputs": [
    {
     "name": "stdout",
     "output_type": "stream",
     "text": [
      "n\n",
      "i\n",
      "t\n"
     ]
    },
    {
     "ename": "IndexError",
     "evalue": "string index out of range",
     "output_type": "error",
     "traceback": [
      "\u001b[1;31m---------------------------------------------------------------------------\u001b[0m",
      "\u001b[1;31mIndexError\u001b[0m                                Traceback (most recent call last)",
      "Cell \u001b[1;32mIn[155], line 4\u001b[0m\n\u001b[0;32m      2\u001b[0m \u001b[38;5;28mprint\u001b[39m(t5[\u001b[38;5;241m0\u001b[39m][\u001b[38;5;241m1\u001b[39m])\n\u001b[0;32m      3\u001b[0m \u001b[38;5;28mprint\u001b[39m(t5[\u001b[38;5;241m0\u001b[39m][\u001b[38;5;241m2\u001b[39m])\n\u001b[1;32m----> 4\u001b[0m \u001b[38;5;28mprint\u001b[39m(t5[\u001b[38;5;241m0\u001b[39m][\u001b[38;5;241m3\u001b[39m])\n",
      "\u001b[1;31mIndexError\u001b[0m: string index out of range"
     ]
    }
   ],
   "source": [
    "print(t5[0][0])\n",
    "print(t5[0][1])\n",
    "print(t5[0][2])\n",
    "print(t5[0][3])"
   ]
  },
  {
   "cell_type": "markdown",
   "id": "1978c9a5-d1bc-4520-bcb7-9089375e3a50",
   "metadata": {},
   "source": [
    "### Bitwise operator"
   ]
  },
  {
   "cell_type": "code",
   "execution_count": 158,
   "id": "a498b64c-c13d-4b1b-8f4d-212d40428709",
   "metadata": {},
   "outputs": [
    {
     "data": {
      "text/plain": [
       "-4"
      ]
     },
     "execution_count": 158,
     "metadata": {},
     "output_type": "execute_result"
    }
   ],
   "source": [
    "~3  # Complement operator ,  Formula: ~x = - (x + 1)"
   ]
  },
  {
   "cell_type": "code",
   "execution_count": 160,
   "id": "7e7ac069-a181-42fb-a0dd-7aecf1d45938",
   "metadata": {},
   "outputs": [
    {
     "data": {
      "text/plain": [
       "4"
      ]
     },
     "execution_count": 160,
     "metadata": {},
     "output_type": "execute_result"
    }
   ],
   "source": [
    "~-5"
   ]
  },
  {
   "cell_type": "code",
   "execution_count": 162,
   "id": "89346129-74f4-4a26-8f66-5b709017ea35",
   "metadata": {},
   "outputs": [
    {
     "data": {
      "text/plain": [
       "-1"
      ]
     },
     "execution_count": 162,
     "metadata": {},
     "output_type": "execute_result"
    }
   ],
   "source": [
    "~0"
   ]
  },
  {
   "cell_type": "code",
   "execution_count": 164,
   "id": "6ad4816a-dbef-4a85-a7b0-4a43cdba5512",
   "metadata": {},
   "outputs": [
    {
     "data": {
      "text/plain": [
       "-2"
      ]
     },
     "execution_count": 164,
     "metadata": {},
     "output_type": "execute_result"
    }
   ],
   "source": [
    "~1"
   ]
  },
  {
   "cell_type": "code",
   "execution_count": 166,
   "id": "e5e34530-7595-46f3-9dba-e5fd997d1f8a",
   "metadata": {},
   "outputs": [
    {
     "data": {
      "text/plain": [
       "-47"
      ]
     },
     "execution_count": 166,
     "metadata": {},
     "output_type": "execute_result"
    }
   ],
   "source": [
    "~46"
   ]
  },
  {
   "cell_type": "code",
   "execution_count": 168,
   "id": "4ebd4b5a-bd9c-487d-884a-cbb1067a862c",
   "metadata": {},
   "outputs": [
    {
     "data": {
      "text/plain": [
       "-51"
      ]
     },
     "execution_count": 168,
     "metadata": {},
     "output_type": "execute_result"
    }
   ],
   "source": [
    "~50"
   ]
  },
  {
   "cell_type": "code",
   "execution_count": 170,
   "id": "abf57380-9506-45ba-ad83-d57d8a898a42",
   "metadata": {},
   "outputs": [
    {
     "data": {
      "text/plain": [
       "-57"
      ]
     },
     "execution_count": 170,
     "metadata": {},
     "output_type": "execute_result"
    }
   ],
   "source": [
    "~56 # complement 56 get output -57"
   ]
  },
  {
   "cell_type": "code",
   "execution_count": 172,
   "id": "7c4188f3-ef5e-49f9-bad4-1abcbeb7ebe2",
   "metadata": {},
   "outputs": [
    {
     "data": {
      "text/plain": [
       "'0b1100'"
      ]
     },
     "execution_count": 172,
     "metadata": {},
     "output_type": "execute_result"
    }
   ],
   "source": [
    "bin(12)"
   ]
  },
  {
   "cell_type": "code",
   "execution_count": 174,
   "id": "d6b5ff3f-6fcb-40a3-9fd1-d03a0c9fa7c7",
   "metadata": {},
   "outputs": [
    {
     "data": {
      "text/plain": [
       "'0b1101'"
      ]
     },
     "execution_count": 174,
     "metadata": {},
     "output_type": "execute_result"
    }
   ],
   "source": [
    "bin(13)"
   ]
  },
  {
   "cell_type": "code",
   "execution_count": 179,
   "id": "a28a3a5c-707c-4d0a-ba65-4b21ae8e1d20",
   "metadata": {},
   "outputs": [
    {
     "data": {
      "text/plain": [
       "1100"
      ]
     },
     "execution_count": 179,
     "metadata": {},
     "output_type": "execute_result"
    }
   ],
   "source": [
    "1100 & 1101  (1100) mutiplication"
   ]
  },
  {
   "cell_type": "code",
   "execution_count": 181,
   "id": "b260f784-b81a-4ae1-bacb-3aed4859e6f0",
   "metadata": {},
   "outputs": [
    {
     "data": {
      "text/plain": [
       "12"
      ]
     },
     "execution_count": 181,
     "metadata": {},
     "output_type": "execute_result"
    }
   ],
   "source": [
    "12&13"
   ]
  },
  {
   "cell_type": "code",
   "execution_count": 183,
   "id": "ed0df261-08fa-42fd-98ca-1dde3ca3c43c",
   "metadata": {},
   "outputs": [
    {
     "data": {
      "text/plain": [
       "13"
      ]
     },
     "execution_count": 183,
     "metadata": {},
     "output_type": "execute_result"
    }
   ],
   "source": [
    "12 and 13 # if first is true get o\\p second value"
   ]
  },
  {
   "cell_type": "code",
   "execution_count": 199,
   "id": "b78f1179-284e-4067-abee-83b03c77f3c9",
   "metadata": {},
   "outputs": [
    {
     "data": {
      "text/plain": [
       "0"
      ]
     },
     "execution_count": 199,
     "metadata": {},
     "output_type": "execute_result"
    }
   ],
   "source": [
    "0 and 1 # if first value is false then return first value"
   ]
  },
  {
   "cell_type": "code",
   "execution_count": 201,
   "id": "549cb3a5-c9e2-4fa9-b8cd-e3ea0f41d46c",
   "metadata": {},
   "outputs": [
    {
     "data": {
      "text/plain": [
       "0"
      ]
     },
     "execution_count": 201,
     "metadata": {},
     "output_type": "execute_result"
    }
   ],
   "source": [
    "12 and 0 # if first value is true then return second value"
   ]
  },
  {
   "cell_type": "code",
   "execution_count": 185,
   "id": "98010f26-fce1-46c9-ab1f-f81409431f62",
   "metadata": {},
   "outputs": [
    {
     "data": {
      "text/plain": [
       "13"
      ]
     },
     "execution_count": 185,
     "metadata": {},
     "output_type": "execute_result"
    }
   ],
   "source": [
    "12 | 13"
   ]
  },
  {
   "cell_type": "code",
   "execution_count": 189,
   "id": "eeef6cfe-2219-44d3-a6c2-fd63638124a4",
   "metadata": {},
   "outputs": [
    {
     "data": {
      "text/plain": [
       "31"
      ]
     },
     "execution_count": 189,
     "metadata": {},
     "output_type": "execute_result"
    }
   ],
   "source": [
    "15 | 16"
   ]
  },
  {
   "cell_type": "code",
   "execution_count": 191,
   "id": "b9a0b25b-8614-4091-8458-d988eba682b8",
   "metadata": {},
   "outputs": [
    {
     "data": {
      "text/plain": [
       "'0b1111'"
      ]
     },
     "execution_count": 191,
     "metadata": {},
     "output_type": "execute_result"
    }
   ],
   "source": [
    "bin(15)"
   ]
  },
  {
   "cell_type": "code",
   "execution_count": 193,
   "id": "43b6976e-f143-4762-8253-2af3d8241230",
   "metadata": {},
   "outputs": [
    {
     "data": {
      "text/plain": [
       "'0b10000'"
      ]
     },
     "execution_count": 193,
     "metadata": {},
     "output_type": "execute_result"
    }
   ],
   "source": [
    "bin(16)"
   ]
  },
  {
   "cell_type": "code",
   "execution_count": 197,
   "id": "a001a376-8044-42ab-9f6d-4f3c2ce80aed",
   "metadata": {},
   "outputs": [
    {
     "data": {
      "text/plain": [
       "31"
      ]
     },
     "execution_count": 197,
     "metadata": {},
     "output_type": "execute_result"
    }
   ],
   "source": [
    "int(0b11111)"
   ]
  },
  {
   "cell_type": "code",
   "execution_count": 203,
   "id": "34a2056a-f215-499a-91ec-d9323606436a",
   "metadata": {},
   "outputs": [
    {
     "data": {
      "text/plain": [
       "32"
      ]
     },
     "execution_count": 203,
     "metadata": {},
     "output_type": "execute_result"
    }
   ],
   "source": [
    "35 & 40"
   ]
  },
  {
   "cell_type": "code",
   "execution_count": 205,
   "id": "2b4679a1-a4af-4a3e-9c58-dd27041a8baf",
   "metadata": {},
   "outputs": [
    {
     "data": {
      "text/plain": [
       "43"
      ]
     },
     "execution_count": 205,
     "metadata": {},
     "output_type": "execute_result"
    }
   ],
   "source": [
    "35 | 40"
   ]
  },
  {
   "cell_type": "code",
   "execution_count": 207,
   "id": "3fab3c6b-7c6e-4fda-bdf4-4acb543a6baa",
   "metadata": {},
   "outputs": [
    {
     "data": {
      "text/plain": [
       "'0b1100'"
      ]
     },
     "execution_count": 207,
     "metadata": {},
     "output_type": "execute_result"
    }
   ],
   "source": [
    "bin(12)"
   ]
  },
  {
   "cell_type": "code",
   "execution_count": 209,
   "id": "dea1d0b1-2956-45ef-80f4-8158a488d43c",
   "metadata": {},
   "outputs": [
    {
     "data": {
      "text/plain": [
       "'0b1101'"
      ]
     },
     "execution_count": 209,
     "metadata": {},
     "output_type": "execute_result"
    }
   ],
   "source": [
    "bin(13)"
   ]
  },
  {
   "cell_type": "code",
   "execution_count": 211,
   "id": "fefe4095-4b5e-4cc3-9dee-ce90b5f4cc0f",
   "metadata": {},
   "outputs": [
    {
     "data": {
      "text/plain": [
       "1"
      ]
     },
     "execution_count": 211,
     "metadata": {},
     "output_type": "execute_result"
    }
   ],
   "source": [
    "12 ^ 13"
   ]
  },
  {
   "cell_type": "code",
   "execution_count": 213,
   "id": "27d30ae9-681e-4ed8-8f42-2087279b67f1",
   "metadata": {},
   "outputs": [
    {
     "data": {
      "text/plain": [
       "7"
      ]
     },
     "execution_count": 213,
     "metadata": {},
     "output_type": "execute_result"
    }
   ],
   "source": [
    "25 ^ 30   #(Xor gate) # First convert in binary after that multiply the get output"
   ]
  },
  {
   "cell_type": "code",
   "execution_count": null,
   "id": "3448cebf-01d8-4495-a0b1-0cc58654a7ce",
   "metadata": {},
   "outputs": [],
   "source": [
    "Input A\t  Input B\t Output (A ⊕ B)     (XOR GATE)\n",
    "0\t        0\t         0\n",
    "0\t        1\t         1\n",
    "1\t        0\t         1\n",
    "1\t        1\t         0\n"
   ]
  },
  {
   "cell_type": "code",
   "execution_count": 215,
   "id": "c94881c3-e432-4e08-88f1-b6b089f62118",
   "metadata": {},
   "outputs": [
    {
     "name": "stdout",
     "output_type": "stream",
     "text": [
      "0b11001\n",
      "0b11110\n"
     ]
    }
   ],
   "source": [
    "print(bin(25))\n",
    "print(bin(30))"
   ]
  },
  {
   "cell_type": "code",
   "execution_count": null,
   "id": "1d860dab-17a6-4ded-bacd-3de7b40b6971",
   "metadata": {},
   "outputs": [],
   "source": [
    " 00111"
   ]
  },
  {
   "cell_type": "code",
   "execution_count": 224,
   "id": "94e03239-985a-4155-8713-30b480b63716",
   "metadata": {},
   "outputs": [
    {
     "data": {
      "text/plain": [
       "7"
      ]
     },
     "execution_count": 224,
     "metadata": {},
     "output_type": "execute_result"
    }
   ],
   "source": [
    "int(0b00111)"
   ]
  },
  {
   "cell_type": "code",
   "execution_count": 219,
   "id": "a06c76be-417e-4ac9-afb7-3352385178a0",
   "metadata": {},
   "outputs": [
    {
     "data": {
      "text/plain": [
       "7"
      ]
     },
     "execution_count": 219,
     "metadata": {},
     "output_type": "execute_result"
    }
   ],
   "source": [
    "25^30"
   ]
  },
  {
   "cell_type": "code",
   "execution_count": 222,
   "id": "eea6dd0b-f0c0-45db-99ae-892cae056651",
   "metadata": {},
   "outputs": [
    {
     "data": {
      "text/plain": [
       "'0b111'"
      ]
     },
     "execution_count": 222,
     "metadata": {},
     "output_type": "execute_result"
    }
   ],
   "source": [
    "bin(7)"
   ]
  },
  {
   "cell_type": "code",
   "execution_count": null,
   "id": "e3ea014a-e6dd-48ec-a068-2bea0dc1fce9",
   "metadata": {},
   "outputs": [],
   "source": [
    "AND, OR, NOT, XOR, LEFT SHIFT, RIGHT SHIFT"
   ]
  },
  {
   "cell_type": "code",
   "execution_count": null,
   "id": "1360ef2c-94d1-488b-809d-e0432e857365",
   "metadata": {},
   "outputs": [],
   "source": [
    "Right SHIFT Assign With >>      right shift means we loose the bit\n",
    "LEFT SHIFT Assign With <<       left shift means we gain the bit"
   ]
  },
  {
   "cell_type": "code",
   "execution_count": 226,
   "id": "fd8fbc00-7d4f-4882-8603-c6e4c8bafc06",
   "metadata": {},
   "outputs": [
    {
     "data": {
      "text/plain": [
       "20"
      ]
     },
     "execution_count": 226,
     "metadata": {},
     "output_type": "execute_result"
    }
   ],
   "source": [
    "10<<1   # left shift means gain one bit"
   ]
  },
  {
   "cell_type": "code",
   "execution_count": 228,
   "id": "034c4e34-2b58-4955-9c28-97eeefd8c83a",
   "metadata": {},
   "outputs": [
    {
     "data": {
      "text/plain": [
       "'0b1010'"
      ]
     },
     "execution_count": 228,
     "metadata": {},
     "output_type": "execute_result"
    }
   ],
   "source": [
    "bin(10)  # gain one bit 0(zero) 10100 like add extra 0(zero)"
   ]
  },
  {
   "cell_type": "code",
   "execution_count": 232,
   "id": "15d889c3-c501-4d62-9283-8b7ef58daf02",
   "metadata": {},
   "outputs": [
    {
     "data": {
      "text/plain": [
       "20"
      ]
     },
     "execution_count": 232,
     "metadata": {},
     "output_type": "execute_result"
    }
   ],
   "source": [
    "int(0b10100)"
   ]
  },
  {
   "cell_type": "code",
   "execution_count": 238,
   "id": "bd970d5a-f19b-4b00-8d1f-239a95e1bd6e",
   "metadata": {},
   "outputs": [
    {
     "data": {
      "text/plain": [
       "40"
      ]
     },
     "execution_count": 238,
     "metadata": {},
     "output_type": "execute_result"
    }
   ],
   "source": [
    "10<<2"
   ]
  },
  {
   "cell_type": "code",
   "execution_count": 234,
   "id": "e7aa635d-73eb-418d-b126-b66812b2e404",
   "metadata": {},
   "outputs": [
    {
     "data": {
      "text/plain": [
       "'0b1010'"
      ]
     },
     "execution_count": 234,
     "metadata": {},
     "output_type": "execute_result"
    }
   ],
   "source": [
    "bin(10)"
   ]
  },
  {
   "cell_type": "code",
   "execution_count": 236,
   "id": "095d8d78-2550-4b57-a78d-02d7a235bbca",
   "metadata": {},
   "outputs": [
    {
     "data": {
      "text/plain": [
       "40"
      ]
     },
     "execution_count": 236,
     "metadata": {},
     "output_type": "execute_result"
    }
   ],
   "source": [
    "int(0b101000)  #add two bit like 2 times zero"
   ]
  },
  {
   "cell_type": "code",
   "execution_count": 240,
   "id": "33fa80f3-45ed-4369-8c6c-9bbc2fe1f776",
   "metadata": {},
   "outputs": [
    {
     "data": {
      "text/plain": [
       "5"
      ]
     },
     "execution_count": 240,
     "metadata": {},
     "output_type": "execute_result"
    }
   ],
   "source": [
    "10>>1 # Right shift means we loose one bit like (0)"
   ]
  },
  {
   "cell_type": "code",
   "execution_count": 242,
   "id": "4cc04afa-e8dd-4731-83fd-bef15b0f7797",
   "metadata": {},
   "outputs": [
    {
     "data": {
      "text/plain": [
       "'0b1010'"
      ]
     },
     "execution_count": 242,
     "metadata": {},
     "output_type": "execute_result"
    }
   ],
   "source": [
    "bin(10)"
   ]
  },
  {
   "cell_type": "code",
   "execution_count": 244,
   "id": "e39065b4-c7a6-4be1-b6e4-a57e4b428e07",
   "metadata": {},
   "outputs": [
    {
     "data": {
      "text/plain": [
       "5"
      ]
     },
     "execution_count": 244,
     "metadata": {},
     "output_type": "execute_result"
    }
   ],
   "source": [
    "int(0b101)"
   ]
  },
  {
   "cell_type": "code",
   "execution_count": 246,
   "id": "0cd4bd84-1471-4b6e-84e8-b60599de27aa",
   "metadata": {},
   "outputs": [
    {
     "data": {
      "text/plain": [
       "2"
      ]
     },
     "execution_count": 246,
     "metadata": {},
     "output_type": "execute_result"
    }
   ],
   "source": [
    "10>>2  # loose 2 bit like 1 0"
   ]
  },
  {
   "cell_type": "code",
   "execution_count": 248,
   "id": "677ce6ca-9a02-42a7-bb00-303afb3e9046",
   "metadata": {},
   "outputs": [
    {
     "data": {
      "text/plain": [
       "2"
      ]
     },
     "execution_count": 248,
     "metadata": {},
     "output_type": "execute_result"
    }
   ],
   "source": [
    "int(0b10)"
   ]
  },
  {
   "cell_type": "code",
   "execution_count": 250,
   "id": "14a75d16-5fa2-4409-96f6-b80f0ed02bfb",
   "metadata": {},
   "outputs": [
    {
     "data": {
      "text/plain": [
       "1"
      ]
     },
     "execution_count": 250,
     "metadata": {},
     "output_type": "execute_result"
    }
   ],
   "source": [
    "20>>4  # loose the 4 bit"
   ]
  },
  {
   "cell_type": "code",
   "execution_count": 252,
   "id": "7e9d69d1-45cc-422b-84d2-75e73d94e26b",
   "metadata": {},
   "outputs": [
    {
     "data": {
      "text/plain": [
       "'0b10100'"
      ]
     },
     "execution_count": 252,
     "metadata": {},
     "output_type": "execute_result"
    }
   ],
   "source": [
    "bin(20)"
   ]
  },
  {
   "cell_type": "code",
   "execution_count": 254,
   "id": "00eea803-4b45-4be2-9801-d594bf66a88f",
   "metadata": {},
   "outputs": [
    {
     "data": {
      "text/plain": [
       "['False',\n",
       " 'None',\n",
       " 'True',\n",
       " 'and',\n",
       " 'as',\n",
       " 'assert',\n",
       " 'async',\n",
       " 'await',\n",
       " 'break',\n",
       " 'class',\n",
       " 'continue',\n",
       " 'def',\n",
       " 'del',\n",
       " 'elif',\n",
       " 'else',\n",
       " 'except',\n",
       " 'finally',\n",
       " 'for',\n",
       " 'from',\n",
       " 'global',\n",
       " 'if',\n",
       " 'import',\n",
       " 'in',\n",
       " 'is',\n",
       " 'lambda',\n",
       " 'nonlocal',\n",
       " 'not',\n",
       " 'or',\n",
       " 'pass',\n",
       " 'raise',\n",
       " 'return',\n",
       " 'try',\n",
       " 'while',\n",
       " 'with',\n",
       " 'yield']"
      ]
     },
     "execution_count": 254,
     "metadata": {},
     "output_type": "execute_result"
    }
   ],
   "source": [
    "import keyword\n",
    "keyword.kwlist"
   ]
  },
  {
   "cell_type": "code",
   "execution_count": 256,
   "id": "a74f4c64-9b82-4eb9-88ed-48eed5356086",
   "metadata": {},
   "outputs": [
    {
     "ename": "NameError",
     "evalue": "name 'sqrt' is not defined",
     "output_type": "error",
     "traceback": [
      "\u001b[1;31m---------------------------------------------------------------------------\u001b[0m",
      "\u001b[1;31mNameError\u001b[0m                                 Traceback (most recent call last)",
      "Cell \u001b[1;32mIn[256], line 1\u001b[0m\n\u001b[1;32m----> 1\u001b[0m x \u001b[38;5;241m=\u001b[39m sqrt(\u001b[38;5;241m25\u001b[39m)\n",
      "\u001b[1;31mNameError\u001b[0m: name 'sqrt' is not defined"
     ]
    }
   ],
   "source": [
    "x = sqrt(25)"
   ]
  },
  {
   "cell_type": "code",
   "execution_count": 266,
   "id": "696783a9-d1a0-497c-9e92-0ff1fdeb38d4",
   "metadata": {},
   "outputs": [],
   "source": [
    "import math  # math is module"
   ]
  },
  {
   "cell_type": "code",
   "execution_count": 268,
   "id": "64f02de1-58af-44bf-8f10-a9d78a679ecb",
   "metadata": {},
   "outputs": [
    {
     "data": {
      "text/plain": [
       "5.0"
      ]
     },
     "execution_count": 268,
     "metadata": {},
     "output_type": "execute_result"
    }
   ],
   "source": [
    "x1 = math.sqrt(25)\n",
    "x1"
   ]
  },
  {
   "cell_type": "code",
   "execution_count": 270,
   "id": "aadb8ea1-cd3a-481a-8089-536c4c3b8ef3",
   "metadata": {},
   "outputs": [
    {
     "data": {
      "text/plain": [
       "6.0"
      ]
     },
     "execution_count": 270,
     "metadata": {},
     "output_type": "execute_result"
    }
   ],
   "source": [
    "x1 = math.sqrt(36)\n",
    "x1"
   ]
  },
  {
   "cell_type": "code",
   "execution_count": 272,
   "id": "55ed5ac4-4498-40e9-9a30-444172f6da04",
   "metadata": {},
   "outputs": [
    {
     "name": "stdout",
     "output_type": "stream",
     "text": [
      "3\n"
     ]
    }
   ],
   "source": [
    "print(math.floor(3.87))  #this is function of math module. floor function gives output  smallest value"
   ]
  },
  {
   "cell_type": "code",
   "execution_count": 274,
   "id": "1efb24a1-b79e-4c1a-879a-2ea5664b2d08",
   "metadata": {},
   "outputs": [
    {
     "name": "stdout",
     "output_type": "stream",
     "text": [
      "2\n"
     ]
    }
   ],
   "source": [
    "print(math.floor(2.5)) # minimum or least value"
   ]
  },
  {
   "cell_type": "code",
   "execution_count": 276,
   "id": "93cedb36-5500-40af-8851-8756e1b36775",
   "metadata": {},
   "outputs": [
    {
     "name": "stdout",
     "output_type": "stream",
     "text": [
      "4\n"
     ]
    }
   ],
   "source": [
    "print(math.ceil(3.67)) # this is ceil function of math module. floor function gives output highest value"
   ]
  },
  {
   "cell_type": "code",
   "execution_count": 278,
   "id": "66075647-d484-468e-bd83-7a622fc48b3f",
   "metadata": {},
   "outputs": [
    {
     "name": "stdout",
     "output_type": "stream",
     "text": [
      "6\n"
     ]
    }
   ],
   "source": [
    "print(math.ceil(5.89)) # maximum or highest value"
   ]
  },
  {
   "cell_type": "code",
   "execution_count": 280,
   "id": "06bd6ac1-1541-4e47-a301-fbf1605b2cb9",
   "metadata": {},
   "outputs": [
    {
     "data": {
      "text/plain": [
       "'0b101'"
      ]
     },
     "execution_count": 280,
     "metadata": {},
     "output_type": "execute_result"
    }
   ],
   "source": [
    "bin(5)"
   ]
  },
  {
   "cell_type": "code",
   "execution_count": 282,
   "id": "f9bd7e9a-ac9d-45de-8f8f-2350695cf516",
   "metadata": {},
   "outputs": [
    {
     "data": {
      "text/plain": [
       "250"
      ]
     },
     "execution_count": 282,
     "metadata": {},
     "output_type": "execute_result"
    }
   ],
   "source": [
    "int(0b11111010)"
   ]
  },
  {
   "cell_type": "code",
   "execution_count": null,
   "id": "9eb5c98f-0fe8-40e9-8a4c-e5f711988022",
   "metadata": {},
   "outputs": [],
   "source": []
  },
  {
   "cell_type": "code",
   "execution_count": null,
   "id": "60dc8e65-e71d-4a3e-bc96-e2c1cbd5f8c5",
   "metadata": {},
   "outputs": [],
   "source": []
  }
 ],
 "metadata": {
  "kernelspec": {
   "display_name": "Python 3 (ipykernel)",
   "language": "python",
   "name": "python3"
  },
  "language_info": {
   "codemirror_mode": {
    "name": "ipython",
    "version": 3
   },
   "file_extension": ".py",
   "mimetype": "text/x-python",
   "name": "python",
   "nbconvert_exporter": "python",
   "pygments_lexer": "ipython3",
   "version": "3.12.7"
  }
 },
 "nbformat": 4,
 "nbformat_minor": 5
}

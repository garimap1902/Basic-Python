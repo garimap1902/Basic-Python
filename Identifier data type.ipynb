{
 "cells": [
  {
   "cell_type": "code",
   "execution_count": 10,
   "id": "e64c27e7-5c31-4377-ae24-3a88bf1161a0",
   "metadata": {},
   "outputs": [
    {
     "data": {
      "text/plain": [
       "20"
      ]
     },
     "execution_count": 10,
     "metadata": {},
     "output_type": "execute_result"
    }
   ],
   "source": [
    "val1 = 20\n",
    "val1"
   ]
  },
  {
   "cell_type": "code",
   "execution_count": 12,
   "id": "f481967d-b5bc-4434-b4ac-c7d0ac56073f",
   "metadata": {},
   "outputs": [
    {
     "data": {
      "text/plain": [
       "(20, int, '0x7ff83b232c18')"
      ]
     },
     "execution_count": 12,
     "metadata": {},
     "output_type": "execute_result"
    }
   ],
   "source": [
    "p = 20\n",
    "q = 20\n",
    "r = q\n",
    "p, type(p), hex(id(p))"
   ]
  },
  {
   "cell_type": "code",
   "execution_count": 14,
   "id": "c362192f-ad9a-413f-bae6-8f17a5e2767f",
   "metadata": {},
   "outputs": [
    {
     "data": {
      "text/plain": [
       "(20, int, '0x7ff83b232c18')"
      ]
     },
     "execution_count": 14,
     "metadata": {},
     "output_type": "execute_result"
    }
   ],
   "source": [
    "q, type(q), hex(id(q))"
   ]
  },
  {
   "cell_type": "code",
   "execution_count": 16,
   "id": "2972c6f7-d255-4e30-b779-731bc4c42d3a",
   "metadata": {},
   "outputs": [
    {
     "data": {
      "text/plain": [
       "(20, int, '0x7ff83b232c18')"
      ]
     },
     "execution_count": 16,
     "metadata": {},
     "output_type": "execute_result"
    }
   ],
   "source": [
    "r, type(r), hex(id(r))"
   ]
  },
  {
   "cell_type": "code",
   "execution_count": 18,
   "id": "a11d5df7-e030-40bb-a0dc-61c770b22952",
   "metadata": {},
   "outputs": [
    {
     "data": {
      "text/plain": [
       "40"
      ]
     },
     "execution_count": 18,
     "metadata": {},
     "output_type": "execute_result"
    }
   ],
   "source": [
    "p = 20\n",
    "p = p+20  #variable overwriting\n",
    "p"
   ]
  },
  {
   "cell_type": "markdown",
   "id": "74450167-57d6-449c-977a-ecd7a86abd6a",
   "metadata": {},
   "source": [
    "### Variable Assigment"
   ]
  },
  {
   "cell_type": "code",
   "execution_count": 21,
   "id": "10e470c5-2f7f-406d-8c7d-d4ecf3e07602",
   "metadata": {},
   "outputs": [
    {
     "name": "stdout",
     "output_type": "stream",
     "text": [
      "60\n",
      "50.98\n",
      "Hello how r u\n"
     ]
    }
   ],
   "source": [
    "intvar = 60\n",
    "floatvar = 50.98\n",
    "strvar = 'Hello how r u'\n",
    "print(intvar)\n",
    "print(floatvar)\n",
    "print(strvar)"
   ]
  },
  {
   "cell_type": "markdown",
   "id": "7b74751c-b3ea-4483-912d-8229be332782",
   "metadata": {},
   "source": [
    "### Multiple Assigment"
   ]
  },
  {
   "cell_type": "code",
   "execution_count": 24,
   "id": "07d06bb1-aa49-4276-ad44-0fa8185ebd6f",
   "metadata": {},
   "outputs": [
    {
     "name": "stdout",
     "output_type": "stream",
     "text": [
      "60\n",
      "60.98\n",
      "hello\n"
     ]
    }
   ],
   "source": [
    "intvar, floatvar, strvar = 60, 60.98, 'hello'\n",
    "print(intvar)\n",
    "print(floatvar)\n",
    "print(strvar)"
   ]
  },
  {
   "cell_type": "code",
   "execution_count": 33,
   "id": "054ab494-6d03-4ba6-8899-3561049ff15e",
   "metadata": {},
   "outputs": [
    {
     "name": "stdout",
     "output_type": "stream",
     "text": [
      "70 70 70 70\n"
     ]
    }
   ],
   "source": [
    "p1 = p2=p3=p4 = 70\n",
    "print(p1,p2,p3,p4)"
   ]
  },
  {
   "cell_type": "code",
   "execution_count": 35,
   "id": "165829bb-b3dc-4c45-ae5c-b9ecc2775b3b",
   "metadata": {},
   "outputs": [
    {
     "name": "stdout",
     "output_type": "stream",
     "text": [
      "90 90 90 90\n"
     ]
    }
   ],
   "source": [
    "m1=m2=m3=m4=90\n",
    "print(m1,m2,m3,m4)"
   ]
  },
  {
   "cell_type": "code",
   "execution_count": 43,
   "id": "a814dfb1-6dbc-430b-945f-cd30c29c1830",
   "metadata": {},
   "outputs": [
    {
     "data": {
      "text/plain": [
       "10"
      ]
     },
     "execution_count": 43,
     "metadata": {},
     "output_type": "execute_result"
    }
   ],
   "source": [
    "int('10')"
   ]
  },
  {
   "cell_type": "code",
   "execution_count": 45,
   "id": "df4dd83b-4975-4a63-a5c0-edfac93bc0dc",
   "metadata": {},
   "outputs": [
    {
     "data": {
      "text/plain": [
       "30"
      ]
     },
     "execution_count": 45,
     "metadata": {},
     "output_type": "execute_result"
    }
   ],
   "source": [
    "Int_1 = 30\n",
    "Int_1"
   ]
  },
  {
   "cell_type": "markdown",
   "id": "e95eeeff-c6d7-4c78-8c18-dac008823833",
   "metadata": {},
   "source": [
    "### Data Type"
   ]
  },
  {
   "cell_type": "markdown",
   "id": "cef46850-9167-4975-b095-612f4b7c9074",
   "metadata": {},
   "source": [
    "#### Numeric"
   ]
  },
  {
   "cell_type": "code",
   "execution_count": 9,
   "id": "866b3764-b1c8-4a22-90c4-08e91c9d67d6",
   "metadata": {},
   "outputs": [],
   "source": [
    "import sys\n",
    "import keyword\n",
    "import operator\n",
    "from datetime import datetime\n",
    "import os"
   ]
  },
  {
   "cell_type": "code",
   "execution_count": 12,
   "id": "1abc41f0-2781-4a7a-991d-8eebda91c4f4",
   "metadata": {},
   "outputs": [
    {
     "name": "stdout",
     "output_type": "stream",
     "text": [
      "10\n",
      "<class 'int'>\n",
      "28\n",
      "10 is integer? True\n"
     ]
    }
   ],
   "source": [
    "val1 = 10   # Integer data type\n",
    "print(val1)     \n",
    "print(type(val1)) # Type of object                                 \n",
    "print(sys.getsizeof(val1))  # Size of int object in byte\n",
    "print(val1, \"is integer?\", isinstance(val1, int)) # val1 isinstance of int"
   ]
  },
  {
   "cell_type": "code",
   "execution_count": 16,
   "id": "d5549ff0-c589-4add-afa9-e43615b94e13",
   "metadata": {},
   "outputs": [
    {
     "name": "stdout",
     "output_type": "stream",
     "text": [
      "80.95\n",
      "<class 'float'>\n",
      "24\n",
      "80.95 is flot? True\n"
     ]
    }
   ],
   "source": [
    "val2 = 80.95 # Float Integer\n",
    "print(val2)\n",
    "print(type(val2)) # Type of object\n",
    "print(sys.getsizeof(val2)) # size of float object in byte\n",
    "print(val2, 'is flot?', isinstance(val2, float)) # val2 isinstance of float"
   ]
  },
  {
   "cell_type": "code",
   "execution_count": 20,
   "id": "f4d41d4e-b610-47a4-a82a-52d5e6028482",
   "metadata": {},
   "outputs": [
    {
     "name": "stdout",
     "output_type": "stream",
     "text": [
      "(30+20j)\n",
      "<class 'complex'>\n",
      "32\n",
      "(30+20j) is complex? True\n"
     ]
    }
   ],
   "source": [
    "val3 = 30+20j\n",
    "print(val3)\n",
    "print(type(val3))\n",
    "print(sys.getsizeof(val3))\n",
    "print(val3, 'is complex?', isinstance(val3,complex))"
   ]
  },
  {
   "cell_type": "code",
   "execution_count": 30,
   "id": "239a2216-6dbe-4d12-b3af-91fed9bf147c",
   "metadata": {},
   "outputs": [
    {
     "name": "stdout",
     "output_type": "stream",
     "text": [
      "28\n"
     ]
    }
   ],
   "source": [
    "print(sys.getsizeof(10))  # size of integer object in bytes"
   ]
  },
  {
   "cell_type": "code",
   "execution_count": 32,
   "id": "b686f988-a388-48a2-8f13-9d46e0286a03",
   "metadata": {},
   "outputs": [
    {
     "name": "stdout",
     "output_type": "stream",
     "text": [
      "24\n"
     ]
    }
   ],
   "source": [
    "print(sys.getsizeof(80.95)) # size of float object in bytes"
   ]
  },
  {
   "cell_type": "code",
   "execution_count": 34,
   "id": "cc54e1a2-6c8d-4009-b9ef-e3ea900bcf4b",
   "metadata": {},
   "outputs": [
    {
     "name": "stdout",
     "output_type": "stream",
     "text": [
      "32\n"
     ]
    }
   ],
   "source": [
    "print(sys.getsizeof(30+20j))  # size of complex object in bytes "
   ]
  },
  {
   "cell_type": "markdown",
   "id": "45ba7d80-e07f-4bec-b924-f7bdad1a3528",
   "metadata": {},
   "source": [
    "### Boolean"
   ]
  },
  {
   "cell_type": "markdown",
   "id": "f1136ab2-bdd1-48f9-9e41-239ec8b80799",
   "metadata": {},
   "source": [
    "#### Boolean data type can have only two possible values True or False"
   ]
  },
  {
   "cell_type": "code",
   "execution_count": 38,
   "id": "a5c6e5e7-b48d-41c8-b943-6c2f182ddce3",
   "metadata": {},
   "outputs": [
    {
     "data": {
      "text/plain": [
       "True"
      ]
     },
     "execution_count": 38,
     "metadata": {},
     "output_type": "execute_result"
    }
   ],
   "source": [
    "bool1 = True\n",
    "bool1"
   ]
  },
  {
   "cell_type": "code",
   "execution_count": 40,
   "id": "93c2dc25-42a4-4b1e-916f-15e1c23a7295",
   "metadata": {},
   "outputs": [
    {
     "data": {
      "text/plain": [
       "False"
      ]
     },
     "execution_count": 40,
     "metadata": {},
     "output_type": "execute_result"
    }
   ],
   "source": [
    "bool2 = False\n",
    "bool2"
   ]
  },
  {
   "cell_type": "code",
   "execution_count": 46,
   "id": "d308a95b-cc52-4719-89ca-d2122adc51cc",
   "metadata": {},
   "outputs": [
    {
     "name": "stdout",
     "output_type": "stream",
     "text": [
      "<class 'bool'>\n"
     ]
    }
   ],
   "source": [
    "print(type(bool1))\n",
    "    "
   ]
  },
  {
   "cell_type": "code",
   "execution_count": 48,
   "id": "a2a3eeb6-bcd9-4b65-a894-fd58c42a5330",
   "metadata": {},
   "outputs": [
    {
     "name": "stdout",
     "output_type": "stream",
     "text": [
      "<class 'bool'>\n"
     ]
    }
   ],
   "source": [
    "print(type(bool2))"
   ]
  },
  {
   "cell_type": "code",
   "execution_count": 52,
   "id": "8cb60d6e-2f10-41f7-bfc6-0ff28f1ecaa6",
   "metadata": {},
   "outputs": [
    {
     "data": {
      "text/plain": [
       "True"
      ]
     },
     "execution_count": 52,
     "metadata": {},
     "output_type": "execute_result"
    }
   ],
   "source": [
    "isinstance(bool1, bool)"
   ]
  },
  {
   "cell_type": "code",
   "execution_count": 54,
   "id": "a202a07d-1ae2-42d4-a8de-a5e3d6d92b1b",
   "metadata": {},
   "outputs": [
    {
     "data": {
      "text/plain": [
       "True"
      ]
     },
     "execution_count": 54,
     "metadata": {},
     "output_type": "execute_result"
    }
   ],
   "source": [
    "isinstance(bool2, bool)"
   ]
  },
  {
   "cell_type": "code",
   "execution_count": 56,
   "id": "3b2e4931-0359-444c-b3ed-d413e3802ac3",
   "metadata": {},
   "outputs": [
    {
     "data": {
      "text/plain": [
       "False"
      ]
     },
     "execution_count": 56,
     "metadata": {},
     "output_type": "execute_result"
    }
   ],
   "source": [
    "bool(0)"
   ]
  },
  {
   "cell_type": "code",
   "execution_count": 58,
   "id": "f82e076a-c32b-4141-b15e-549d9e81b0f1",
   "metadata": {},
   "outputs": [
    {
     "data": {
      "text/plain": [
       "True"
      ]
     },
     "execution_count": 58,
     "metadata": {},
     "output_type": "execute_result"
    }
   ],
   "source": [
    "bool(1)"
   ]
  },
  {
   "cell_type": "code",
   "execution_count": 60,
   "id": "85f89f9a-659d-48de-87f6-13e7894106fc",
   "metadata": {},
   "outputs": [
    {
     "data": {
      "text/plain": [
       "False"
      ]
     },
     "execution_count": 60,
     "metadata": {},
     "output_type": "execute_result"
    }
   ],
   "source": [
    "bool(None)"
   ]
  },
  {
   "cell_type": "markdown",
   "id": "e89bba8b-eb7f-4e6f-9666-5f4848203d3a",
   "metadata": {},
   "source": [
    "### String"
   ]
  },
  {
   "cell_type": "code",
   "execution_count": 62,
   "id": "63d2fe84-5226-4c0d-888e-cb4ec51d5e4f",
   "metadata": {},
   "outputs": [
    {
     "name": "stdout",
     "output_type": "stream",
     "text": [
      "Hello Python\n"
     ]
    }
   ],
   "source": [
    "str1 = \"Hello Python\"\n",
    "print(str1)"
   ]
  },
  {
   "cell_type": "code",
   "execution_count": 65,
   "id": "8b0015bb-a67f-4a9c-badb-7a9eb0276558",
   "metadata": {},
   "outputs": [
    {
     "name": "stdout",
     "output_type": "stream",
     "text": [
      "Hello world\n"
     ]
    }
   ],
   "source": [
    "mystr = 'Hello world'\n",
    "print(mystr)"
   ]
  },
  {
   "cell_type": "code",
   "execution_count": 67,
   "id": "aa6d6fa3-2d5d-4c25-9828-45a5840de5e3",
   "metadata": {},
   "outputs": [
    {
     "name": "stdout",
     "output_type": "stream",
     "text": [
      "Hello\n",
      "            world\n"
     ]
    }
   ],
   "source": [
    "mystr = '''Hello\n",
    "            world'''\n",
    "print(mystr)"
   ]
  },
  {
   "cell_type": "code",
   "execution_count": 69,
   "id": "d8258752-47df-42a9-9c4d-a66df8ba2e5c",
   "metadata": {},
   "outputs": [
    {
     "name": "stdout",
     "output_type": "stream",
     "text": [
      "Hello\n",
      "           world\n"
     ]
    }
   ],
   "source": [
    "mystr = \"\"\"Hello\n",
    "           world\"\"\"\n",
    "print(mystr)"
   ]
  },
  {
   "cell_type": "code",
   "execution_count": 77,
   "id": "89bb0d77-8a6c-42d7-ba8a-84b556d846c2",
   "metadata": {},
   "outputs": [
    {
     "name": "stdout",
     "output_type": "stream",
     "text": [
      "Happy Sunday Everyone\n"
     ]
    }
   ],
   "source": [
    "mystr = ('Happy'\n",
    "          ' Sunday '\n",
    "         'Everyone')\n",
    "print(mystr)"
   ]
  },
  {
   "cell_type": "code",
   "execution_count": 89,
   "id": "e3e1a440-f888-44ca-a45d-9b83cf3447d2",
   "metadata": {},
   "outputs": [
    {
     "name": "stdout",
     "output_type": "stream",
     "text": [
      " Happy  Happy  Happy  Happy \n"
     ]
    }
   ],
   "source": [
    "mystr2 = ' Happy '\n",
    "mystr2 = mystr2*4\n",
    "print (mystr2)"
   ]
  },
  {
   "cell_type": "code",
   "execution_count": 91,
   "id": "dd176505-5dd5-462e-bb2d-1ef5556e53c6",
   "metadata": {},
   "outputs": [
    {
     "data": {
      "text/plain": [
       "28"
      ]
     },
     "execution_count": 91,
     "metadata": {},
     "output_type": "execute_result"
    }
   ],
   "source": [
    "len(mystr2)"
   ]
  },
  {
   "cell_type": "code",
   "execution_count": 93,
   "id": "0703b6f6-8107-4818-a212-9d4d56464017",
   "metadata": {},
   "outputs": [
    {
     "name": "stdout",
     "output_type": "stream",
     "text": [
      "HappyHappyHappyHappy\n"
     ]
    }
   ],
   "source": [
    "mystr2 = 'Happy'\n",
    "mystr2 = mystr2*4\n",
    "print (mystr2)"
   ]
  },
  {
   "cell_type": "code",
   "execution_count": 95,
   "id": "24432abd-eea3-4500-8281-9a24b97fb708",
   "metadata": {},
   "outputs": [
    {
     "data": {
      "text/plain": [
       "20"
      ]
     },
     "execution_count": 95,
     "metadata": {},
     "output_type": "execute_result"
    }
   ],
   "source": [
    "len(mystr2)"
   ]
  },
  {
   "cell_type": "markdown",
   "id": "ddb0f6c9-d868-4969-bc78-3a5e82994ca9",
   "metadata": {},
   "source": [
    "### String Concatenation"
   ]
  },
  {
   "cell_type": "code",
   "execution_count": 98,
   "id": "30f45125-47cb-4f4b-9026-879b3489d2e5",
   "metadata": {},
   "outputs": [
    {
     "name": "stdout",
     "output_type": "stream",
     "text": [
      "HelloHow r u\n"
     ]
    }
   ],
   "source": [
    "s1 = 'Hello'\n",
    "s2 = 'How r u'\n",
    "s3 = s1+s2\n",
    "print(s3)"
   ]
  },
  {
   "cell_type": "code",
   "execution_count": null,
   "id": "7024f7e2-ca1c-4a65-a6ee-66d17987fb25",
   "metadata": {},
   "outputs": [],
   "source": []
  },
  {
   "cell_type": "code",
   "execution_count": null,
   "id": "ad5b1db4-5465-45c1-b599-8e335fc73c5b",
   "metadata": {},
   "outputs": [],
   "source": []
  },
  {
   "cell_type": "code",
   "execution_count": null,
   "id": "f26fae91-6a7f-4e8b-a966-e36e5d096f6b",
   "metadata": {},
   "outputs": [],
   "source": []
  },
  {
   "cell_type": "code",
   "execution_count": null,
   "id": "0fc13074-528b-4f42-9db6-3d58f4298009",
   "metadata": {},
   "outputs": [],
   "source": []
  },
  {
   "cell_type": "code",
   "execution_count": null,
   "id": "1f0de19f-d83e-4a04-b788-ac4f62ffc793",
   "metadata": {},
   "outputs": [],
   "source": []
  },
  {
   "cell_type": "code",
   "execution_count": null,
   "id": "5eb0355a-e7d8-4d32-81aa-57278a9a8f16",
   "metadata": {},
   "outputs": [],
   "source": []
  },
  {
   "cell_type": "code",
   "execution_count": null,
   "id": "e8ea5fd2-bfa8-40f2-94e3-224832cccf8a",
   "metadata": {},
   "outputs": [],
   "source": []
  },
  {
   "cell_type": "code",
   "execution_count": null,
   "id": "b0ff6fc3-0b63-4351-a02a-0944018db78f",
   "metadata": {},
   "outputs": [],
   "source": []
  },
  {
   "cell_type": "code",
   "execution_count": null,
   "id": "21d4eeb9-5d6b-4521-b260-a6ae4c9808d0",
   "metadata": {},
   "outputs": [],
   "source": []
  },
  {
   "cell_type": "code",
   "execution_count": null,
   "id": "ae4bb488-19b8-47fb-8c13-75387e7f2fd7",
   "metadata": {},
   "outputs": [],
   "source": []
  },
  {
   "cell_type": "code",
   "execution_count": null,
   "id": "82335cd2-2164-4ade-a456-139cd12d4841",
   "metadata": {},
   "outputs": [],
   "source": []
  },
  {
   "cell_type": "code",
   "execution_count": null,
   "id": "75d1d960-f5cc-4941-a5bf-6cbc32140cee",
   "metadata": {},
   "outputs": [],
   "source": []
  },
  {
   "cell_type": "code",
   "execution_count": null,
   "id": "fc901592-60b6-414a-900a-aafcc652c5ec",
   "metadata": {},
   "outputs": [],
   "source": []
  },
  {
   "cell_type": "code",
   "execution_count": null,
   "id": "276ccf58-8e02-49b7-a7bf-dee08e9e7773",
   "metadata": {},
   "outputs": [],
   "source": []
  },
  {
   "cell_type": "code",
   "execution_count": null,
   "id": "8e944741-05a0-43bb-bb0b-9750aec304cd",
   "metadata": {},
   "outputs": [],
   "source": []
  },
  {
   "cell_type": "code",
   "execution_count": null,
   "id": "3a75c905-ed8d-4b25-96d7-c6ecfcd44fcb",
   "metadata": {},
   "outputs": [],
   "source": []
  }
 ],
 "metadata": {
  "kernelspec": {
   "display_name": "Python 3 (ipykernel)",
   "language": "python",
   "name": "python3"
  },
  "language_info": {
   "codemirror_mode": {
    "name": "ipython",
    "version": 3
   },
   "file_extension": ".py",
   "mimetype": "text/x-python",
   "name": "python",
   "nbconvert_exporter": "python",
   "pygments_lexer": "ipython3",
   "version": "3.12.7"
  }
 },
 "nbformat": 4,
 "nbformat_minor": 5
}

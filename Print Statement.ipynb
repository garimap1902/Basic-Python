{
 "cells": [
  {
   "cell_type": "markdown",
   "id": "44879c0d-4514-452e-8314-724c53308c86",
   "metadata": {},
   "source": [
    "## Variable_Name = Value"
   ]
  },
  {
   "cell_type": "markdown",
   "id": "fb6cce53-06d5-4ff8-a1b6-ad62b592674e",
   "metadata": {},
   "source": [
    "#### Integer Variable"
   ]
  },
  {
   "cell_type": "code",
   "execution_count": 3,
   "id": "8b756fa3-972f-4a01-83e7-c27a0d2f50dc",
   "metadata": {},
   "outputs": [
    {
     "data": {
      "text/plain": [
       "25"
      ]
     },
     "execution_count": 3,
     "metadata": {},
     "output_type": "execute_result"
    }
   ],
   "source": [
    "age = 25\n",
    "age"
   ]
  },
  {
   "cell_type": "code",
   "execution_count": 5,
   "id": "b96963a5-516b-4866-9909-164c18bb6afc",
   "metadata": {},
   "outputs": [
    {
     "name": "stdout",
     "output_type": "stream",
     "text": [
      "12\n"
     ]
    }
   ],
   "source": [
    "age = 12\n",
    "print(age)"
   ]
  },
  {
   "cell_type": "code",
   "execution_count": 7,
   "id": "d20709fa-9bcf-4e05-9918-dce07c254adb",
   "metadata": {},
   "outputs": [
    {
     "name": "stdout",
     "output_type": "stream",
     "text": [
      "80\n"
     ]
    }
   ],
   "source": [
    "abc = 80      # abc is variable store the int value 80\n",
    "print(abc)"
   ]
  },
  {
   "cell_type": "code",
   "execution_count": 9,
   "id": "df0c9854-2b10-460c-ab50-583ef58cd18e",
   "metadata": {},
   "outputs": [
    {
     "name": "stdout",
     "output_type": "stream",
     "text": [
      "66\n"
     ]
    }
   ],
   "source": [
    "ABC = 66\n",
    "print(ABC)"
   ]
  },
  {
   "cell_type": "markdown",
   "id": "514490cb-61db-4373-acaa-9f243f606c7d",
   "metadata": {},
   "source": [
    "### String Variable"
   ]
  },
  {
   "cell_type": "code",
   "execution_count": 13,
   "id": "76dd34e2-968d-446a-98c2-280f29271044",
   "metadata": {},
   "outputs": [
    {
     "data": {
      "text/plain": [
       "'ALICE'"
      ]
     },
     "execution_count": 13,
     "metadata": {},
     "output_type": "execute_result"
    }
   ],
   "source": [
    "name = \"ALICE\"  # name is variable store the string value\n",
    "name"
   ]
  },
  {
   "cell_type": "code",
   "execution_count": 17,
   "id": "bac842e9-425c-47f2-8a7b-54c4d1816034",
   "metadata": {},
   "outputs": [
    {
     "name": "stdout",
     "output_type": "stream",
     "text": [
      "Mohan\n"
     ]
    }
   ],
   "source": [
    "name = \"Mohan\"\n",
    "print(name)"
   ]
  },
  {
   "cell_type": "code",
   "execution_count": 21,
   "id": "4be4e6a5-cc4f-416d-b82b-585a0313642c",
   "metadata": {},
   "outputs": [
    {
     "name": "stdout",
     "output_type": "stream",
     "text": [
      "Hanuman\n"
     ]
    }
   ],
   "source": [
    "klmi = \"Hanuman\"\n",
    "print(klmi)"
   ]
  },
  {
   "cell_type": "markdown",
   "id": "6161d163-befe-4053-b5f7-c06c08d137f0",
   "metadata": {},
   "source": [
    "### Float Variable"
   ]
  },
  {
   "cell_type": "code",
   "execution_count": 24,
   "id": "3f1c94dc-0be5-466e-a9a8-421df526f366",
   "metadata": {},
   "outputs": [
    {
     "name": "stdout",
     "output_type": "stream",
     "text": [
      "20.89\n"
     ]
    }
   ],
   "source": [
    "price = 20.89   # price is variable store the float value\n",
    "print(price)"
   ]
  },
  {
   "cell_type": "code",
   "execution_count": 26,
   "id": "acb99516-ae74-4f82-8853-b67026109da8",
   "metadata": {},
   "outputs": [
    {
     "data": {
      "text/plain": [
       "100.65"
      ]
     },
     "execution_count": 26,
     "metadata": {},
     "output_type": "execute_result"
    }
   ],
   "source": [
    "price = 100.65\n",
    "price"
   ]
  },
  {
   "cell_type": "markdown",
   "id": "4d3d4e00-ec9f-4b0a-bf54-3822397fd786",
   "metadata": {},
   "source": [
    "### Boolean Variable"
   ]
  },
  {
   "cell_type": "code",
   "execution_count": 29,
   "id": "4f78d76d-3644-47d4-a734-61c125b1e20a",
   "metadata": {},
   "outputs": [
    {
     "name": "stdout",
     "output_type": "stream",
     "text": [
      "True\n"
     ]
    }
   ],
   "source": [
    "is_active = True  # is_active is variable store the boolean \n",
    "print(is_active)"
   ]
  },
  {
   "cell_type": "code",
   "execution_count": 31,
   "id": "3fd54f8a-9c64-4b27-8323-3ef4891e2e5b",
   "metadata": {},
   "outputs": [
    {
     "name": "stdout",
     "output_type": "stream",
     "text": [
      "False\n"
     ]
    }
   ],
   "source": [
    "this_active = False\n",
    "print(this_active)"
   ]
  },
  {
   "cell_type": "markdown",
   "id": "0b9906dc-0208-4e2d-be8e-00fd39a53722",
   "metadata": {},
   "source": [
    "### Storing and printing a value"
   ]
  },
  {
   "cell_type": "code",
   "execution_count": 34,
   "id": "a2c77742-87a7-41e0-badd-e80d950ae7f6",
   "metadata": {},
   "outputs": [
    {
     "name": "stdout",
     "output_type": "stream",
     "text": [
      "10\n"
     ]
    }
   ],
   "source": [
    "X = 10\n",
    "print(X)"
   ]
  },
  {
   "cell_type": "code",
   "execution_count": 36,
   "id": "ae8c87f4-524c-43cf-a737-fcb9b2414f57",
   "metadata": {},
   "outputs": [
    {
     "data": {
      "text/plain": [
       "20"
      ]
     },
     "execution_count": 36,
     "metadata": {},
     "output_type": "execute_result"
    }
   ],
   "source": [
    "y = 20\n",
    "y"
   ]
  },
  {
   "cell_type": "code",
   "execution_count": 38,
   "id": "905743a8-4cf0-4a14-ba0f-9bea3c00aaa7",
   "metadata": {},
   "outputs": [
    {
     "name": "stdout",
     "output_type": "stream",
     "text": [
      "19.2\n"
     ]
    }
   ],
   "source": [
    "c = 19.20\n",
    "print(c)"
   ]
  },
  {
   "cell_type": "markdown",
   "id": "4f816c59-890b-4922-bf60-00d39ae71a6a",
   "metadata": {},
   "source": [
    "### Using Variable in Expression"
   ]
  },
  {
   "cell_type": "code",
   "execution_count": 41,
   "id": "d1f72cf5-9e1b-4428-b490-902a67a883d9",
   "metadata": {},
   "outputs": [
    {
     "name": "stdout",
     "output_type": "stream",
     "text": [
      "30\n"
     ]
    }
   ],
   "source": [
    "a = 10\n",
    "b = 20\n",
    "Result = a+b\n",
    "print(Result)"
   ]
  },
  {
   "cell_type": "code",
   "execution_count": 43,
   "id": "e483bdae-2f0d-4549-a9ae-405b94d49632",
   "metadata": {},
   "outputs": [
    {
     "name": "stdout",
     "output_type": "stream",
     "text": [
      "10\n"
     ]
    }
   ],
   "source": [
    "c = 40\n",
    "d = 30\n",
    "result = c-d\n",
    "print(result)"
   ]
  },
  {
   "cell_type": "markdown",
   "id": "7b99ad32-1a69-40e5-bd6d-83d9a0cead2c",
   "metadata": {},
   "source": [
    "### Changing the value a Variable"
   ]
  },
  {
   "cell_type": "code",
   "execution_count": 46,
   "id": "ddcaf927-4416-4d23-bfda-1166fd206603",
   "metadata": {},
   "outputs": [
    {
     "name": "stdout",
     "output_type": "stream",
     "text": [
      "50\n"
     ]
    }
   ],
   "source": [
    "score = 50\n",
    "print(score)"
   ]
  },
  {
   "cell_type": "code",
   "execution_count": 48,
   "id": "26418087-ad83-48d6-ba5c-951616dd87df",
   "metadata": {},
   "outputs": [
    {
     "name": "stdout",
     "output_type": "stream",
     "text": [
      "100\n"
     ]
    }
   ],
   "source": [
    "score = 100   # change the value of variable, (change the value of score)\n",
    "print(score)"
   ]
  },
  {
   "cell_type": "code",
   "execution_count": 50,
   "id": "f3cb519d-86a8-465a-94e7-4246ffda2103",
   "metadata": {},
   "outputs": [
    {
     "data": {
      "text/plain": [
       "40"
      ]
     },
     "execution_count": 50,
     "metadata": {},
     "output_type": "execute_result"
    }
   ],
   "source": [
    "bcb = 40\n",
    "bcb"
   ]
  },
  {
   "cell_type": "code",
   "execution_count": 52,
   "id": "4537bde7-ec27-41e7-add3-a19827fcc3a5",
   "metadata": {},
   "outputs": [
    {
     "name": "stdout",
     "output_type": "stream",
     "text": [
      "70\n"
     ]
    }
   ],
   "source": [
    "bcb = 70\n",
    "print(bcb)"
   ]
  },
  {
   "cell_type": "markdown",
   "id": "023e51c0-1ec1-4f01-bf50-4631c58470b3",
   "metadata": {},
   "source": [
    "### Concanating Strings"
   ]
  },
  {
   "cell_type": "code",
   "execution_count": 55,
   "id": "6d03ca40-8b1d-46e3-bd1e-4628a6a33bca",
   "metadata": {},
   "outputs": [
    {
     "name": "stdout",
     "output_type": "stream",
     "text": [
      "JohnDoe\n"
     ]
    }
   ],
   "source": [
    "first_name = \"John\"  \n",
    "last_name = \"Doe\"\n",
    "full_name = first_name + last_name\n",
    "print(full_name)"
   ]
  },
  {
   "cell_type": "code",
   "execution_count": 59,
   "id": "11e4143e-c9db-4e08-8774-5de7b70fef8f",
   "metadata": {},
   "outputs": [
    {
     "name": "stdout",
     "output_type": "stream",
     "text": [
      "John Doe\n"
     ]
    }
   ],
   "source": [
    "first_name = \"John\"\n",
    "last_name = \"Doe\"\n",
    "full_name = first_name + \" \" + last_name\n",
    "print(full_name)"
   ]
  },
  {
   "cell_type": "markdown",
   "id": "88e6424a-04ef-4287-b893-7e27152c2c0e",
   "metadata": {},
   "source": [
    "### Using Variables in a Calculation"
   ]
  },
  {
   "cell_type": "code",
   "execution_count": 64,
   "id": "4078a670-3ab7-44ff-8744-b004a3289a1c",
   "metadata": {},
   "outputs": [
    {
     "name": "stdout",
     "output_type": "stream",
     "text": [
      "200\n"
     ]
    }
   ],
   "source": [
    "length = 10\n",
    "width = 20\n",
    "area = length*width\n",
    "print(area)"
   ]
  },
  {
   "cell_type": "markdown",
   "id": "82257acb-fb06-4c32-82f5-4a0370726fea",
   "metadata": {},
   "source": [
    "### Reassigning Values to Variables"
   ]
  },
  {
   "cell_type": "code",
   "execution_count": 68,
   "id": "91b577d4-b020-457d-b554-2382bd017ad4",
   "metadata": {},
   "outputs": [
    {
     "name": "stdout",
     "output_type": "stream",
     "text": [
      "10\n"
     ]
    }
   ],
   "source": [
    "x = 10 \n",
    "print(x)"
   ]
  },
  {
   "cell_type": "code",
   "execution_count": 70,
   "id": "62bcdd27-6efa-4e70-bccf-fb863911cd3a",
   "metadata": {},
   "outputs": [
    {
     "name": "stdout",
     "output_type": "stream",
     "text": [
      "20\n"
     ]
    }
   ],
   "source": [
    "x = 20\n",
    "print(x)"
   ]
  },
  {
   "cell_type": "code",
   "execution_count": 72,
   "id": "ec823f4d-bf94-4268-8f02-b4da2b673eb2",
   "metadata": {},
   "outputs": [
    {
     "data": {
      "text/plain": [
       "60"
      ]
     },
     "execution_count": 72,
     "metadata": {},
     "output_type": "execute_result"
    }
   ],
   "source": [
    "a = 50\n",
    "b = 60\n",
    "a\n",
    "b"
   ]
  },
  {
   "cell_type": "code",
   "execution_count": 74,
   "id": "fcd9f744-6bb5-45f9-a192-75aabf7ffc42",
   "metadata": {},
   "outputs": [
    {
     "name": "stdout",
     "output_type": "stream",
     "text": [
      "10\n",
      "20\n"
     ]
    }
   ],
   "source": [
    "a = 10\n",
    "b = 20\n",
    "print(a)\n",
    "print(b)"
   ]
  },
  {
   "cell_type": "code",
   "execution_count": 76,
   "id": "f427ece4-675a-4ff3-9283-6bae1de4579e",
   "metadata": {},
   "outputs": [
    {
     "name": "stdout",
     "output_type": "stream",
     "text": [
      "40\n",
      "10 20 30\n",
      "40 60 1.6 number\n"
     ]
    }
   ],
   "source": [
    "print(40)\n",
    "print(10, 20, 30)\n",
    "print(40, 60, 1.6, \"number\")"
   ]
  },
  {
   "cell_type": "code",
   "execution_count": 78,
   "id": "86581242-625d-4c99-8894-4adf1ef5021a",
   "metadata": {},
   "outputs": [
    {
     "name": "stdout",
     "output_type": "stream",
     "text": [
      "40\n"
     ]
    }
   ],
   "source": [
    "num1 = 10\n",
    "num2 = 30\n",
    "add = num1+num2\n",
    "print(add)"
   ]
  },
  {
   "cell_type": "markdown",
   "id": "74cb079c-bcc0-4af2-be99-8c3edc3d51f0",
   "metadata": {},
   "source": [
    "### Print result with String"
   ]
  },
  {
   "cell_type": "code",
   "execution_count": 85,
   "id": "76692326-4512-4f97-8310-e523819965a1",
   "metadata": {},
   "outputs": [
    {
     "name": "stdout",
     "output_type": "stream",
     "text": [
      "The addition of 60 and 50 is= 110\n"
     ]
    }
   ],
   "source": [
    "num1 = 60\n",
    "num2 = 50\n",
    "add = num1+num2\n",
    "print(\"The addition of\", num1, \"and\", num2, \"is=\", add)"
   ]
  },
  {
   "cell_type": "code",
   "execution_count": 87,
   "id": "cb25d536-d01a-4e36-8d73-c1dda5268354",
   "metadata": {},
   "outputs": [
    {
     "name": "stdout",
     "output_type": "stream",
     "text": [
      "The mul of 80 and 50 is= 4000\n"
     ]
    }
   ],
   "source": [
    "num3 = 80\n",
    "num4 = 50\n",
    "mul = num3*num4\n",
    "print(\"The mul of\", num3, \"and\", num4, \"is=\", mul)"
   ]
  },
  {
   "cell_type": "markdown",
   "id": "9bccb439-daa6-4d53-8d3d-3c00fd644480",
   "metadata": {},
   "source": [
    "### Print format method"
   ]
  },
  {
   "cell_type": "code",
   "execution_count": 12,
   "id": "d5abae00-329a-48bf-9966-63aaeb67a186",
   "metadata": {},
   "outputs": [
    {
     "name": "stdout",
     "output_type": "stream",
     "text": [
      "The addition of 30 and 60 is = 90\n"
     ]
    }
   ],
   "source": [
    "num1 = 30\n",
    "num2 = 60\n",
    "add = num1+num2\n",
    "print('The addition of {} and {} is = {}'.format(num1,num2,add))"
   ]
  },
  {
   "cell_type": "code",
   "execution_count": 14,
   "id": "39ae5c0f-90e1-4294-bdb2-2eca3fe713c1",
   "metadata": {},
   "outputs": [
    {
     "name": "stdout",
     "output_type": "stream",
     "text": [
      "The sub of 100 and 50 is = 50\n"
     ]
    }
   ],
   "source": [
    "num1 = 100\n",
    "num2 = 50\n",
    "sub = num1-num2\n",
    "print('The sub of {} and {} is = {}'.format(num1,num2,sub))"
   ]
  },
  {
   "cell_type": "code",
   "execution_count": 16,
   "id": "062d4f7e-a099-4677-b315-4a31db8b8613",
   "metadata": {},
   "outputs": [
    {
     "name": "stdout",
     "output_type": "stream",
     "text": [
      "Hellow I am Python, and My age is 20 and I am from Hyderabad\n"
     ]
    }
   ],
   "source": [
    "name = 'Python'\n",
    "age = 20\n",
    "city = 'Hyderabad'\n",
    "print('Hellow I am {}, and My age is {} and I am from {}'.format(name,age,city))"
   ]
  },
  {
   "cell_type": "code",
   "execution_count": 37,
   "id": "ea60300b-dd34-4525-b246-749005ba8cb8",
   "metadata": {},
   "outputs": [
    {
     "name": "stdout",
     "output_type": "stream",
     "text": [
      "The avrage of 100, 25,and 333 is= 152.66666666666666 or 152.67\n"
     ]
    }
   ],
   "source": [
    "num1 = 100\n",
    "num2 = 25\n",
    "num3 = 333\n",
    "avg = (num1+num2+num3)/3\n",
    "avg1 = round((num1+num2+num3)/3,2)\n",
    "print('The avrage of {}, {},and {} is= {} or {}'.format(num1,num2,num3,avg,avg1))"
   ]
  },
  {
   "cell_type": "code",
   "execution_count": 35,
   "id": "56cb3dce-7e4b-4246-81d3-41e20f39026b",
   "metadata": {},
   "outputs": [
    {
     "name": "stdout",
     "output_type": "stream",
     "text": [
      "The addition of 60 and 70 is = 130\n"
     ]
    }
   ],
   "source": [
    "num1 = 60\n",
    "num2 = 70\n",
    "add = num1+num2\n",
    "print(f'The addition of {num1} and {num2} is = {add}')"
   ]
  },
  {
   "cell_type": "code",
   "execution_count": 39,
   "id": "9425a726-8095-4b17-8a7b-bb3ac70d8a80",
   "metadata": {},
   "outputs": [
    {
     "name": "stdout",
     "output_type": "stream",
     "text": [
      "The avrage of 200, 50,and 333 is= 194.33333333333334 or 194.33\n"
     ]
    }
   ],
   "source": [
    "num1 = 200\n",
    "num2 = 50\n",
    "num3 = 333\n",
    "avg = (num1+num2+num3)/3\n",
    "avg1 = round((num1+num2+num3)/3,2)\n",
    "print(f'The avrage of {num1}, {num2},and {num3} is= {avg} or {avg1}')"
   ]
  },
  {
   "cell_type": "code",
   "execution_count": 43,
   "id": "3637a985-2526-4cef-87b0-28f42de64827",
   "metadata": {},
   "outputs": [
    {
     "name": "stdout",
     "output_type": "stream",
     "text": [
      "Hellow I am Python, and My age is 20 and I am from Hyderabad\n"
     ]
    }
   ],
   "source": [
    "name = 'Python'\n",
    "age = 20\n",
    "city = 'Hyderabad'\n",
    "print(f'Hellow I am {'Python'}, and My age is {20} and I am from {'Hyderabad'}')"
   ]
  },
  {
   "cell_type": "code",
   "execution_count": 55,
   "id": "805d904c-c77b-435c-aaf8-496cf1ff3d9b",
   "metadata": {},
   "outputs": [
    {
     "name": "stdout",
     "output_type": "stream",
     "text": [
      "The addition of 60 and 50 is= 110\n",
      "The addition of 60 and 50 is= 110\n",
      "The addition of 60 and 50 is= 110\n"
     ]
    }
   ],
   "source": [
    "num1 = 60\n",
    "num2 = 50\n",
    "add = num1+num2\n",
    "print('The addition of', num1, 'and', num2,'is=', add)\n",
    "print(f'The addition of {num1} and {num2} is= {add}')\n",
    "print('The addition of {} and {} is= {}'.format(num1,num2,add))"
   ]
  },
  {
   "cell_type": "markdown",
   "id": "84e9e389-86b8-4f02-9a1e-7ce2990e2669",
   "metadata": {},
   "source": [
    "### end statement"
   ]
  },
  {
   "cell_type": "code",
   "execution_count": 58,
   "id": "2439ee4a-db12-4f16-95dd-f56fde9f8eb3",
   "metadata": {},
   "outputs": [
    {
     "name": "stdout",
     "output_type": "stream",
     "text": [
      "Hello\n",
      "Good Morning\n"
     ]
    }
   ],
   "source": [
    "print('Hello')\n",
    "print('Good Morning')"
   ]
  },
  {
   "cell_type": "markdown",
   "id": "7f425107-d33d-4c82-8874-f633cd7eb2e4",
   "metadata": {},
   "source": [
    "#### Here usig end statement"
   ]
  },
  {
   "cell_type": "code",
   "execution_count": 72,
   "id": "d803825a-c558-4683-bbec-282f41bfe699",
   "metadata": {},
   "outputs": [
    {
     "name": "stdout",
     "output_type": "stream",
     "text": [
      "Hello Good Morning\n"
     ]
    }
   ],
   "source": [
    "print('Hello', end=  ' ') \n",
    "print('Good Morning')"
   ]
  },
  {
   "cell_type": "markdown",
   "id": "b1fa2fe2-5cbb-427d-925a-1167a064bae4",
   "metadata": {},
   "source": [
    "### Seprator"
   ]
  },
  {
   "cell_type": "code",
   "execution_count": 76,
   "id": "5b9627f6-ac13-48ee-b516-5b0027cf2a6e",
   "metadata": {},
   "outputs": [
    {
     "name": "stdout",
     "output_type": "stream",
     "text": [
      "Hello--->How r you--->What are you doing\n"
     ]
    }
   ],
   "source": [
    "print('Hello', 'How r you', 'What are you doing', sep='--->')"
   ]
  },
  {
   "cell_type": "code",
   "execution_count": 78,
   "id": "dfa4f6a5-4ff2-49c7-8228-1cfd94873fa3",
   "metadata": {},
   "outputs": [
    {
     "name": "stdout",
     "output_type": "stream",
     "text": [
      "Hello&How r you&What are you doing\n"
     ]
    }
   ],
   "source": [
    "print('Hello', 'How r you', 'What are you doing', sep='&')"
   ]
  },
  {
   "cell_type": "code",
   "execution_count": 80,
   "id": "e8296ab0-7f2e-4e14-9906-836dab9c4b3e",
   "metadata": {},
   "outputs": [
    {
     "name": "stdout",
     "output_type": "stream",
     "text": [
      "hello&hi&how r u\n"
     ]
    }
   ],
   "source": [
    "print('hello', 'hi', 'how r u', sep='&')"
   ]
  },
  {
   "cell_type": "code",
   "execution_count": 1,
   "id": "270b1dd9-e50b-4920-babe-97c97984ce57",
   "metadata": {},
   "outputs": [
    {
     "name": "stdout",
     "output_type": "stream",
     "text": [
      "hello@hi@how r u\n"
     ]
    }
   ],
   "source": [
    "print('hello', 'hi', 'how r u', sep='@')"
   ]
  },
  {
   "cell_type": "code",
   "execution_count": 3,
   "id": "725bd6e7-b75e-4d78-b79f-4646d476c065",
   "metadata": {},
   "outputs": [
    {
     "name": "stdout",
     "output_type": "stream",
     "text": [
      "hello hi how r u\n"
     ]
    }
   ],
   "source": [
    "print('hello', 'hi', 'how r u', sep=' ')"
   ]
  },
  {
   "cell_type": "code",
   "execution_count": null,
   "id": "f64163c2-cab2-41ec-9255-5fb7f7ce3325",
   "metadata": {},
   "outputs": [],
   "source": []
  },
  {
   "cell_type": "code",
   "execution_count": null,
   "id": "171c180b-d2c7-4487-b7c1-0ee86177b204",
   "metadata": {},
   "outputs": [],
   "source": []
  },
  {
   "cell_type": "code",
   "execution_count": null,
   "id": "f7d9ef07-556c-45d3-9049-249f6a9cfa02",
   "metadata": {},
   "outputs": [],
   "source": []
  },
  {
   "cell_type": "code",
   "execution_count": null,
   "id": "be6e4e6e-dfd9-4665-bd8b-004f880c66a3",
   "metadata": {},
   "outputs": [],
   "source": []
  }
 ],
 "metadata": {
  "kernelspec": {
   "display_name": "Python 3 (ipykernel)",
   "language": "python",
   "name": "python3"
  },
  "language_info": {
   "codemirror_mode": {
    "name": "ipython",
    "version": 3
   },
   "file_extension": ".py",
   "mimetype": "text/x-python",
   "name": "python",
   "nbconvert_exporter": "python",
   "pygments_lexer": "ipython3",
   "version": "3.12.7"
  }
 },
 "nbformat": 4,
 "nbformat_minor": 5
}

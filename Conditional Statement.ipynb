{
 "cells": [
  {
   "cell_type": "markdown",
   "id": "c636fe24-fbcb-4747-87d8-7f90204ffe4a",
   "metadata": {},
   "source": [
    "### 24th"
   ]
  },
  {
   "cell_type": "markdown",
   "id": "fc0b8931-fa75-47ad-beec-f3a4c5fbf53c",
   "metadata": {},
   "source": [
    "## Conditional Statement"
   ]
  },
  {
   "cell_type": "code",
   "execution_count": 3,
   "id": "6521f13c-95b8-4c84-a20b-dccb94cba926",
   "metadata": {},
   "outputs": [
    {
     "name": "stdout",
     "output_type": "stream",
     "text": [
      "Data Science\n"
     ]
    }
   ],
   "source": [
    "if True:\n",
    "    print(\"Data Science\")"
   ]
  },
  {
   "cell_type": "code",
   "execution_count": 4,
   "id": "5842722b-1166-4cdd-b291-723d338b86ef",
   "metadata": {},
   "outputs": [
    {
     "name": "stdout",
     "output_type": "stream",
     "text": [
      "DS\n"
     ]
    }
   ],
   "source": [
    "if True:\n",
    "   print(\"DS\")"
   ]
  },
  {
   "cell_type": "code",
   "execution_count": 5,
   "id": "b553dfe4-45db-4653-b451-5d178ef4d3f8",
   "metadata": {},
   "outputs": [],
   "source": [
    "if False:\n",
    "    print(\"Data Science\")\n",
    "    print(\"bye for now\")"
   ]
  },
  {
   "cell_type": "code",
   "execution_count": 6,
   "id": "36a99cbc-c3c9-4494-9398-fb5caef9273f",
   "metadata": {},
   "outputs": [
    {
     "name": "stdout",
     "output_type": "stream",
     "text": [
      "Data Science\n",
      "bye for now\n"
     ]
    }
   ],
   "source": [
    "if True:\n",
    "    print(\"Data Science\")\n",
    "    print(\"bye for now\")"
   ]
  },
  {
   "cell_type": "code",
   "execution_count": 7,
   "id": "81b48422-c60b-4415-856a-464c88a7a46f",
   "metadata": {},
   "outputs": [
    {
     "name": "stdout",
     "output_type": "stream",
     "text": [
      "bye for now\n"
     ]
    }
   ],
   "source": [
    "if False:\n",
    "    print(\"Data Science\")\n",
    "else:\n",
    "    print(\"bye for now\")"
   ]
  },
  {
   "cell_type": "code",
   "execution_count": 8,
   "id": "8654ee15-bda8-4138-a919-47748a3f8e81",
   "metadata": {},
   "outputs": [
    {
     "name": "stdout",
     "output_type": "stream",
     "text": [
      "Even number\n"
     ]
    }
   ],
   "source": [
    "#Code-1 Number is Even or Odd\n",
    "x = 4\n",
    "r = x%2\n",
    "r==0\n",
    "print('Even number')"
   ]
  },
  {
   "cell_type": "code",
   "execution_count": 9,
   "id": "e7e06d0e-6e81-4570-b253-47025ea5b36f",
   "metadata": {},
   "outputs": [
    {
     "name": "stdout",
     "output_type": "stream",
     "text": [
      "Even number\n"
     ]
    }
   ],
   "source": [
    "#Code-1 Number is Even or Odd\n",
    "x = 4\n",
    "r = x%2\n",
    "if r == 0:\n",
    "    print('Even number')\n",
    "else:\n",
    "    print('Odd number')\n"
   ]
  },
  {
   "cell_type": "code",
   "execution_count": 10,
   "id": "d8662ee8-3258-42ab-b568-a15e269878b0",
   "metadata": {},
   "outputs": [
    {
     "name": "stdout",
     "output_type": "stream",
     "text": [
      "Odd number\n"
     ]
    }
   ],
   "source": [
    "#Code-1 Number is Even or Odd\n",
    "x = 5\n",
    "r = x%2\n",
    "if r==0:\n",
    "    print('Even number')\n",
    "else:\n",
    "    print('Odd number')"
   ]
  },
  {
   "cell_type": "code",
   "execution_count": 11,
   "id": "57b4e66a-773e-43e6-a399-1f428b2aa47e",
   "metadata": {},
   "outputs": [
    {
     "name": "stdout",
     "output_type": "stream",
     "text": [
      "Even number\n"
     ]
    }
   ],
   "source": [
    "#Code-1 Number is Even or Odd\n",
    "x = 16\n",
    "r = x%2\n",
    "if r==0:\n",
    "    print('Even number')\n",
    "else:\n",
    "    print('Odd number')"
   ]
  },
  {
   "cell_type": "code",
   "execution_count": 12,
   "id": "fa58d9d1-93b5-44ff-8923-f3efef52b202",
   "metadata": {},
   "outputs": [
    {
     "name": "stdout",
     "output_type": "stream",
     "text": [
      "Even number\n"
     ]
    }
   ],
   "source": [
    "x = 8\n",
    "r = x%2\n",
    "if r == 0:\n",
    "    print('Even number')\n",
    "if r == 1:\n",
    "      print('Odd number')"
   ]
  },
  {
   "cell_type": "code",
   "execution_count": 13,
   "id": "3e232ed8-ee58-4162-8da7-1e8c6a52b609",
   "metadata": {},
   "outputs": [
    {
     "name": "stdout",
     "output_type": "stream",
     "text": [
      "Odd number\n"
     ]
    }
   ],
   "source": [
    "x = 9\n",
    "r = x%2\n",
    "if r == 0:\n",
    "    print('Even number')\n",
    "if r == 1:\n",
    "      print('Odd number')"
   ]
  },
  {
   "cell_type": "code",
   "execution_count": 14,
   "id": "6c97f3d3-a1b5-483d-ade3-d9ebe1d47981",
   "metadata": {},
   "outputs": [
    {
     "name": "stdout",
     "output_type": "stream",
     "text": [
      "Odd number\n"
     ]
    }
   ],
   "source": [
    "x = 17\n",
    "r = x%2\n",
    "if r==0:\n",
    "    print('Even nuber')\n",
    "if r!=0:\n",
    "    print('Odd number')"
   ]
  },
  {
   "cell_type": "code",
   "execution_count": 15,
   "id": "98be209e-a11f-4277-b96a-d5479a77b03c",
   "metadata": {},
   "outputs": [
    {
     "name": "stdout",
     "output_type": "stream",
     "text": [
      "Odd number\n"
     ]
    }
   ],
   "source": [
    "x = 3\n",
    "r = x%2\n",
    "if r==0:\n",
    "    print('Even number')\n",
    "if x>5:\n",
    "    print('Greater number')\n",
    "else:\n",
    "    print('Odd number')"
   ]
  },
  {
   "cell_type": "code",
   "execution_count": 16,
   "id": "042a0c00-5d69-4803-9ebd-445d6810bb54",
   "metadata": {},
   "outputs": [
    {
     "name": "stdout",
     "output_type": "stream",
     "text": [
      "Even number\n",
      "Odd number\n"
     ]
    }
   ],
   "source": [
    "x = 4\n",
    "r = x%2\n",
    "if r == 0:\n",
    "    print('Even number')\n",
    "if x>5:\n",
    "    print('Greater number')\n",
    "else:\n",
    "   print('Odd number')"
   ]
  },
  {
   "cell_type": "code",
   "execution_count": 17,
   "id": "d7af2f62-cb18-4ddc-a268-f4b10e46042c",
   "metadata": {},
   "outputs": [
    {
     "name": "stdout",
     "output_type": "stream",
     "text": [
      "Even number\n",
      "Greater number\n"
     ]
    }
   ],
   "source": [
    "x = 8\n",
    "r = x%2\n",
    "if r == 0:\n",
    "    print('Even number')\n",
    "if x>5:\n",
    "    print('Greater number')\n",
    "else:\n",
    "   print('Odd number')"
   ]
  },
  {
   "cell_type": "code",
   "execution_count": 18,
   "id": "1de44eb1-5c5e-4f33-bb18-0262b880fd63",
   "metadata": {},
   "outputs": [
    {
     "name": "stdout",
     "output_type": "stream",
     "text": [
      "Even number\n",
      "Smaller number\n"
     ]
    }
   ],
   "source": [
    "x = 4\n",
    "r = x%2\n",
    "if r == 0:\n",
    "    print('Even number')\n",
    "if x>5:\n",
    "    print('Greater number')\n",
    "else:\n",
    "   print('Smaller number')"
   ]
  },
  {
   "cell_type": "code",
   "execution_count": 19,
   "id": "7a49ce0f-f007-4813-a6db-721de5684417",
   "metadata": {},
   "outputs": [
    {
     "name": "stdout",
     "output_type": "stream",
     "text": [
      "Odd number\n",
      "Smaller number\n"
     ]
    }
   ],
   "source": [
    "x = 3\n",
    "r = x%2\n",
    "if r == 0:\n",
    "    print('Even number')\n",
    "else:\n",
    "    print('Odd number')\n",
    "if x>5:\n",
    "    print('Greater number')\n",
    "else:\n",
    "   print('Smaller number')\n"
   ]
  },
  {
   "cell_type": "code",
   "execution_count": 20,
   "id": "0002c182-6d1b-4143-85db-e11470c9e90e",
   "metadata": {},
   "outputs": [
    {
     "name": "stdout",
     "output_type": "stream",
     "text": [
      "One\n"
     ]
    }
   ],
   "source": [
    "x = 1\n",
    "if x == 1:\n",
    "    print('One')\n",
    "if x == 2:\n",
    "    print('Two')\n",
    "if x == 3:\n",
    "    print('Three')\n",
    "if x == 4:\n",
    "    print('Four')\n",
    "    \n",
    "       "
   ]
  },
  {
   "cell_type": "code",
   "execution_count": 21,
   "id": "5bb95204-aed0-4e31-b781-535c78ead3a5",
   "metadata": {},
   "outputs": [
    {
     "name": "stdout",
     "output_type": "stream",
     "text": [
      "Four\n"
     ]
    }
   ],
   "source": [
    "x = 4\n",
    "if x == 1:\n",
    "    print('One')\n",
    "if x == 2:\n",
    "    print('Two')\n",
    "if x == 3:\n",
    "    print('Three')\n",
    "if x == 4:\n",
    "    print('Four')\n",
    "        "
   ]
  },
  {
   "cell_type": "code",
   "execution_count": 22,
   "id": "bd612935-069c-47a0-905e-23c7dbba086e",
   "metadata": {},
   "outputs": [],
   "source": [
    "x = 6\n",
    "if x == 1:\n",
    "    print('One')\n",
    "if x == 2:\n",
    "    print('Two')\n",
    "if x == 3:\n",
    "    print('Three')\n",
    "if x == 4:\n",
    "    print('Four')\n",
    "        "
   ]
  },
  {
   "cell_type": "code",
   "execution_count": 23,
   "id": "20443d98-2b93-4792-8991-a68ab7bfe397",
   "metadata": {},
   "outputs": [
    {
     "name": "stdout",
     "output_type": "stream",
     "text": [
      "Number not found\n"
     ]
    }
   ],
   "source": [
    "x = 6\n",
    "if x == 1:\n",
    "    print('One')\n",
    "elif x == 2:\n",
    "    print('Two')\n",
    "elif x == 3:\n",
    "    print('Three')\n",
    "elif x == 4:\n",
    "    print('Four')\n",
    "else:\n",
    "    print('Number not found')\n",
    "        "
   ]
  },
  {
   "cell_type": "code",
   "execution_count": 24,
   "id": "847b72b0-bdad-4f4c-b29f-6b1d84e6d2a1",
   "metadata": {},
   "outputs": [
    {
     "name": "stdout",
     "output_type": "stream",
     "text": [
      "Three\n"
     ]
    }
   ],
   "source": [
    "x = 3\n",
    "if x == 1:\n",
    "    print('One')\n",
    "elif x == 2:\n",
    "    print('Two')\n",
    "elif x == 3:\n",
    "    print('Three')\n",
    "elif x == 4:\n",
    "    print('Four')"
   ]
  },
  {
   "cell_type": "code",
   "execution_count": 25,
   "id": "e617492a-eefc-4e3c-8d7a-1c8b3622efc5",
   "metadata": {},
   "outputs": [
    {
     "name": "stdout",
     "output_type": "stream",
     "text": [
      "Four\n"
     ]
    }
   ],
   "source": [
    "x = 4\n",
    "if x == 1:\n",
    "    print('One')\n",
    "elif x == 2:\n",
    "    print('Two')\n",
    "elif x == 3:\n",
    "    print('Three')\n",
    "elif x == 4:\n",
    "    print('Four')\n",
    "else:\n",
    "    print('Number not found')\n",
    "        "
   ]
  },
  {
   "cell_type": "code",
   "execution_count": 26,
   "id": "af9f4ff9-8a44-4043-badf-488d8e768e10",
   "metadata": {},
   "outputs": [
    {
     "name": "stdout",
     "output_type": "stream",
     "text": [
      "Even number\n",
      "Greater than 5\n"
     ]
    }
   ],
   "source": [
    "x = 10\n",
    "\n",
    "if x % 2 == 0:\n",
    "    print(\"Even number\")\n",
    "    if x > 5:\n",
    "        print(\"Greater than 5\")\n",
    "else:\n",
    "    print(\"Odd number\")\n"
   ]
  },
  {
   "cell_type": "markdown",
   "id": "1f70fcbe-2f8e-47e2-ac4e-6d3ef06b3b57",
   "metadata": {},
   "source": [
    "## LOOPS"
   ]
  },
  {
   "cell_type": "code",
   "execution_count": 28,
   "id": "6432dcf2-1b4d-4689-8367-2176c5ec3225",
   "metadata": {},
   "outputs": [
    {
     "name": "stdout",
     "output_type": "stream",
     "text": [
      "Data Science\n",
      "Data Science\n",
      "Data Science\n",
      "Data Science\n",
      "Data Science\n"
     ]
    }
   ],
   "source": [
    "i = 1\n",
    "while i<=5:                  # Condition\n",
    "    print('Data Science')\n",
    "    i = i+1                  # Increment"
   ]
  },
  {
   "cell_type": "code",
   "execution_count": 29,
   "id": "a66b556a-c3cf-47be-ae00-f4d1853e5962",
   "metadata": {},
   "outputs": [
    {
     "name": "stdout",
     "output_type": "stream",
     "text": [
      "Data Science:  1\n",
      "Data Science:  2\n",
      "Data Science:  3\n",
      "Data Science:  4\n",
      "Data Science:  5\n"
     ]
    }
   ],
   "source": [
    "i = 1\n",
    "while i<=5:                  # Condition\n",
    "    print('Data Science: ', i)\n",
    "    i = i+1                  # Increment"
   ]
  },
  {
   "cell_type": "code",
   "execution_count": 30,
   "id": "8cdf3522-c890-48de-925c-628ee4435b57",
   "metadata": {},
   "outputs": [
    {
     "name": "stdout",
     "output_type": "stream",
     "text": [
      "Data Science: 5\n",
      "Data Science: 4\n",
      "Data Science: 3\n",
      "Data Science: 2\n",
      "Data Science: 1\n"
     ]
    }
   ],
   "source": [
    "i = 5\n",
    "while i>=1:                  # Condition\n",
    "    print('Data Science:', i)\n",
    "    i = i-1                  # decrement"
   ]
  },
  {
   "cell_type": "code",
   "execution_count": 31,
   "id": "47de26a4-8652-41f7-b0f5-e3d1b32dcdc5",
   "metadata": {},
   "outputs": [
    {
     "name": "stdout",
     "output_type": "stream",
     "text": [
      "DS\n",
      "TS\n",
      "TS\n",
      "TS\n",
      "TS\n",
      "\n",
      "DS\n",
      "TS\n",
      "TS\n",
      "TS\n",
      "TS\n",
      "\n",
      "DS\n",
      "TS\n",
      "TS\n",
      "TS\n",
      "TS\n",
      "\n",
      "DS\n",
      "TS\n",
      "TS\n",
      "TS\n",
      "TS\n",
      "\n"
     ]
    }
   ],
   "source": [
    "i = 1\n",
    "while i<=4:\n",
    "    print('DS')\n",
    "    j = 1\n",
    "    while j<=4:\n",
    "        print('TS')\n",
    "        j = j+1\n",
    "    i = i+1\n",
    "    print()\n"
   ]
  },
  {
   "cell_type": "code",
   "execution_count": 32,
   "id": "d5fddbb5-e7b9-4141-a97a-05672b0182b3",
   "metadata": {},
   "outputs": [
    {
     "name": "stdout",
     "output_type": "stream",
     "text": [
      "DS\n",
      "TS\n",
      "TS\n",
      "TS\n",
      "TS\n",
      "\n",
      "DS\n",
      "TS\n",
      "TS\n",
      "TS\n",
      "TS\n",
      "\n",
      "DS\n",
      "TS\n",
      "TS\n",
      "TS\n",
      "TS\n",
      "\n",
      "DS\n",
      "TS\n",
      "TS\n",
      "TS\n",
      "TS\n",
      "\n",
      "DS\n",
      "TS\n",
      "TS\n",
      "TS\n",
      "TS\n",
      "\n"
     ]
    }
   ],
   "source": [
    "i = 1\n",
    "while i<=5:\n",
    "    print('DS')\n",
    "    j = 1\n",
    "    while j<=4:\n",
    "        print('TS')\n",
    "        j = j+1\n",
    "    i = i+1\n",
    "    print()\n"
   ]
  },
  {
   "cell_type": "code",
   "execution_count": 33,
   "id": "c500c6d3-0fc4-447f-8b8f-605cc8b67ca6",
   "metadata": {},
   "outputs": [
    {
     "name": "stdout",
     "output_type": "stream",
     "text": [
      " Data Science  Technology  Technology  Technology  Technology\n",
      " Data Science  Technology  Technology  Technology  Technology\n",
      " Data Science  Technology  Technology  Technology  Technology\n",
      " Data Science  Technology  Technology  Technology  Technology\n",
      " Data Science  Technology  Technology  Technology  Technology\n"
     ]
    }
   ],
   "source": [
    "i = 1\n",
    "while i<=5:\n",
    "    print(' Data Science', end =  \"\")    # when we mention end then new line will not creat\n",
    "    j = 1\n",
    "    while j<=4:\n",
    "        print('  Technology', end =  \"\")\n",
    "        j = j+1\n",
    "    i = i+1\n",
    "    print()\n"
   ]
  },
  {
   "cell_type": "code",
   "execution_count": 34,
   "id": "73fed23e-f9ce-449c-9e43-f95f1c444dd9",
   "metadata": {},
   "outputs": [
    {
     "name": "stdout",
     "output_type": "stream",
     "text": [
      " Data Science  Technology  Technology  Technology  Technology\n",
      " Data Science  Technology  Technology  Technology  Technology\n",
      " Data Science  Technology  Technology  Technology  Technology\n",
      " Data Science  Technology  Technology  Technology  Technology\n",
      " Data Science  Technology  Technology  Technology  Technology\n"
     ]
    }
   ],
   "source": [
    "i = 1\n",
    "while i<=5:\n",
    "    print(' Data Science', end =  \"\")    # when we mention end then new line will not creat\n",
    "    j = 1\n",
    "    while j<=4:\n",
    "        print('  Technology', end =  \"\")\n",
    "        j = j+1\n",
    "    i = i+1\n",
    "    print()"
   ]
  },
  {
   "cell_type": "code",
   "execution_count": 1,
   "id": "b4dbe27d-0f54-4224-b221-dc9b26233d35",
   "metadata": {},
   "outputs": [
    {
     "name": "stdout",
     "output_type": "stream",
     "text": [
      "012\n",
      "024\n"
     ]
    }
   ],
   "source": [
    "i = 1\n",
    "while i <=2:\n",
    "    j = 0\n",
    "    while j<=2:\n",
    "        print(i*j, end = '')\n",
    "        j +=1\n",
    "        \n",
    "    print()\n",
    "    i +=1"
   ]
  },
  {
   "cell_type": "code",
   "execution_count": 3,
   "id": "fe826ac9-7f0d-4385-83df-3216dff80dbb",
   "metadata": {},
   "outputs": [
    {
     "name": "stdout",
     "output_type": "stream",
     "text": [
      "0123\n",
      "0246\n",
      "0369\n",
      "04812\n"
     ]
    }
   ],
   "source": [
    "i = 1\n",
    "while i <=4:\n",
    "    j = 0\n",
    "    while j<=3:\n",
    "        print(i*j, end = '')\n",
    "        j +=1\n",
    "        \n",
    "    print()\n",
    "    i +=1"
   ]
  },
  {
   "cell_type": "markdown",
   "id": "d4f8978a-2286-4b95-a3ea-5285bc6c9882",
   "metadata": {},
   "source": [
    "#### for loop"
   ]
  },
  {
   "cell_type": "code",
   "execution_count": 6,
   "id": "fce37160-aaa3-4eb0-817e-13abb2ebb52e",
   "metadata": {},
   "outputs": [
    {
     "name": "stdout",
     "output_type": "stream",
     "text": [
      "n\n",
      "i\n",
      "t\n"
     ]
    }
   ],
   "source": [
    "name = 'nit'\n",
    "for i in name:\n",
    "    print(i)\n"
   ]
  },
  {
   "cell_type": "code",
   "execution_count": 8,
   "id": "84449763-dfb1-455d-8ca4-db82ba868a9d",
   "metadata": {},
   "outputs": [
    {
     "name": "stdout",
     "output_type": "stream",
     "text": [
      "1\n",
      "2\n",
      "3\n",
      "4\n",
      "hello\n"
     ]
    }
   ],
   "source": [
    "name1 = [1, 2, 3, 4, 'hello']\n",
    "for i in name1:\n",
    "    print(i)"
   ]
  },
  {
   "cell_type": "code",
   "execution_count": 14,
   "id": "4fbb7e1d-9de2-4ed4-b14c-c28592d1070d",
   "metadata": {},
   "outputs": [
    {
     "name": "stdout",
     "output_type": "stream",
     "text": [
      "1\n",
      "1.6\n",
      "1.7\n",
      "hi\n"
     ]
    }
   ],
   "source": [
    "for i in [1, 1.6, 1.7, 'hi']:\n",
    "    print(i)"
   ]
  },
  {
   "cell_type": "code",
   "execution_count": 18,
   "id": "b33f1d07-bbed-49cd-b6fd-5761e1776cad",
   "metadata": {},
   "outputs": [
    {
     "name": "stdout",
     "output_type": "stream",
     "text": [
      "2\n",
      "3\n",
      "4\n"
     ]
    }
   ],
   "source": [
    "for i in range(2,5):\n",
    "    print(i)"
   ]
  },
  {
   "cell_type": "code",
   "execution_count": 20,
   "id": "a5ab93bf-5f6f-455c-809c-641c77d42bbe",
   "metadata": {},
   "outputs": [
    {
     "name": "stdout",
     "output_type": "stream",
     "text": [
      "5\n",
      "10\n",
      "15\n",
      "20\n",
      "25\n",
      "30\n",
      "35\n",
      "40\n",
      "45\n",
      "50\n"
     ]
    }
   ],
   "source": [
    "# Print the value which is divisible by 5\n",
    "for i in range(1,51):\n",
    "    if i%5 == 0:\n",
    "        print(i)"
   ]
  },
  {
   "cell_type": "code",
   "execution_count": 26,
   "id": "f5c477d1-f413-4524-b49b-a53f5511ec40",
   "metadata": {},
   "outputs": [
    {
     "name": "stdout",
     "output_type": "stream",
     "text": [
      "1\n",
      "2\n",
      "3\n",
      "4\n",
      "6\n",
      "7\n",
      "8\n",
      "9\n",
      "11\n",
      "12\n",
      "13\n",
      "14\n",
      "16\n",
      "17\n",
      "18\n",
      "19\n",
      "21\n",
      "22\n",
      "23\n",
      "24\n",
      "26\n",
      "27\n",
      "28\n",
      "29\n",
      "31\n",
      "32\n",
      "33\n",
      "34\n",
      "36\n",
      "37\n",
      "38\n",
      "39\n",
      "41\n",
      "42\n",
      "43\n",
      "44\n",
      "46\n",
      "47\n",
      "48\n",
      "49\n"
     ]
    }
   ],
   "source": [
    "for i in range(1,51):\n",
    "    if i%5!=0:\n",
    "        print(i)"
   ]
  },
  {
   "cell_type": "code",
   "execution_count": 32,
   "id": "7b90cb6d-a239-4751-9746-5e2004fefd53",
   "metadata": {},
   "outputs": [
    {
     "name": "stdout",
     "output_type": "stream",
     "text": [
      "1\n",
      "2\n",
      "3\n",
      "4\n",
      "5\n",
      "6\n",
      "7\n",
      "8\n",
      "9\n",
      "10\n"
     ]
    }
   ],
   "source": [
    "for i in range(1,11):\n",
    "    print(i)"
   ]
  },
  {
   "cell_type": "code",
   "execution_count": 34,
   "id": "960267fc-2e60-4e61-b8d8-48d53e6737e5",
   "metadata": {},
   "outputs": [
    {
     "name": "stdout",
     "output_type": "stream",
     "text": [
      "1\n",
      "2\n",
      "3\n",
      "4\n",
      "5\n"
     ]
    }
   ],
   "source": [
    "for i in range(1,11):\n",
    "    if i ==6:\n",
    "        break\n",
    "    print(i)"
   ]
  },
  {
   "cell_type": "code",
   "execution_count": 36,
   "id": "b203f2a4-5df7-42e6-a251-c1b69121f7a9",
   "metadata": {},
   "outputs": [
    {
     "name": "stdout",
     "output_type": "stream",
     "text": [
      "1\n",
      "2\n",
      "3\n",
      "4\n",
      "5\n",
      "6\n",
      "7\n"
     ]
    }
   ],
   "source": [
    "for i in range(1,20):\n",
    "    if i ==8:\n",
    "        break\n",
    "    print(i)"
   ]
  },
  {
   "cell_type": "code",
   "execution_count": 38,
   "id": "abeab03f-cbb7-4d9e-9c58-f32120e7dc6f",
   "metadata": {},
   "outputs": [
    {
     "name": "stdout",
     "output_type": "stream",
     "text": [
      "1\n",
      "2\n",
      "3\n",
      "4\n",
      "5\n",
      "6\n",
      "7\n",
      "9\n"
     ]
    }
   ],
   "source": [
    "for i in range(1,10):\n",
    "    if i ==8:\n",
    "        continue\n",
    "    print(i)"
   ]
  },
  {
   "cell_type": "code",
   "execution_count": 42,
   "id": "a5c0b810-7c8d-4ca1-bde4-febbae7832fb",
   "metadata": {},
   "outputs": [
    {
     "name": "stdout",
     "output_type": "stream",
     "text": [
      "hello: 1\n",
      "hello: 2\n",
      "hello: 3\n",
      "hello: 4\n",
      "hello: 5\n",
      "hello: 6\n",
      "hello: 7\n",
      "hello: 9\n"
     ]
    }
   ],
   "source": [
    "for i in range(1,10):\n",
    "    if i ==8:\n",
    "        continue\n",
    "    print('hello:', i)"
   ]
  },
  {
   "cell_type": "code",
   "execution_count": 44,
   "id": "0fed51c0-66e3-48ae-bddb-7753ba9c2ae7",
   "metadata": {},
   "outputs": [
    {
     "ename": "SyntaxError",
     "evalue": "incomplete input (1468085492.py, line 1)",
     "output_type": "error",
     "traceback": [
      "\u001b[1;36m  Cell \u001b[1;32mIn[44], line 1\u001b[1;36m\u001b[0m\n\u001b[1;33m    for i in range(1,10):\u001b[0m\n\u001b[1;37m                         ^\u001b[0m\n\u001b[1;31mSyntaxError\u001b[0m\u001b[1;31m:\u001b[0m incomplete input\n"
     ]
    }
   ],
   "source": [
    "for i in range(1,10):\n"
   ]
  },
  {
   "cell_type": "code",
   "execution_count": 48,
   "id": "bb112a95-0ae7-400e-ad15-c7a73163d0a6",
   "metadata": {},
   "outputs": [],
   "source": [
    "for i in range(1,10):\n",
    "    pass\n",
    "    "
   ]
  },
  {
   "cell_type": "code",
   "execution_count": 64,
   "id": "4176ebc3-10c0-4eef-bbdf-5906873a1cdd",
   "metadata": {},
   "outputs": [
    {
     "name": "stdout",
     "output_type": "stream",
     "text": [
      "3\n",
      "6\n",
      "9\n",
      "12\n",
      "15\n",
      "18\n",
      "21\n",
      "24\n",
      "27\n",
      "30\n",
      "33\n",
      "36\n",
      "39\n",
      "42\n",
      "45\n",
      "48\n",
      "end\n"
     ]
    }
   ],
   "source": [
    "for i in range(1,51):\n",
    "    if i%3 == 0:\n",
    "     print(i)\n",
    "\n",
    "print('end')\n",
    "           "
   ]
  },
  {
   "cell_type": "code",
   "execution_count": 77,
   "id": "e65dba9b-251c-46c8-ab69-cba39c9d6fe3",
   "metadata": {},
   "outputs": [
    {
     "name": "stdout",
     "output_type": "stream",
     "text": [
      "1\n",
      "2\n",
      "4\n",
      "5\n",
      "7\n",
      "8\n",
      "10\n",
      "11\n",
      "13\n",
      "14\n",
      "16\n",
      "17\n",
      "19\n",
      "20\n",
      "22\n",
      "23\n",
      "25\n",
      "26\n",
      "28\n",
      "29\n",
      "31\n",
      "32\n",
      "34\n",
      "35\n",
      "37\n",
      "38\n",
      "40\n",
      "41\n",
      "43\n",
      "44\n",
      "46\n",
      "47\n",
      "49\n",
      "50\n"
     ]
    }
   ],
   "source": [
    "for i in range(1,51):\n",
    "    if i%3 == 0:\n",
    "       continue\n",
    "    print(i)\n"
   ]
  },
  {
   "cell_type": "code",
   "execution_count": 79,
   "id": "13c6f993-d563-46db-ade0-31767afa9283",
   "metadata": {},
   "outputs": [
    {
     "name": "stdout",
     "output_type": "stream",
     "text": [
      "1\n",
      "2\n",
      "3\n",
      "4\n",
      "6\n",
      "7\n",
      "8\n",
      "9\n",
      "11\n",
      "12\n",
      "13\n",
      "14\n",
      "16\n",
      "17\n",
      "18\n",
      "19\n",
      "21\n",
      "22\n",
      "23\n",
      "24\n",
      "26\n",
      "27\n",
      "28\n",
      "29\n",
      "31\n",
      "32\n",
      "33\n",
      "34\n",
      "36\n",
      "37\n",
      "38\n",
      "39\n",
      "41\n",
      "42\n",
      "43\n",
      "44\n",
      "46\n",
      "47\n",
      "48\n",
      "49\n",
      "end\n"
     ]
    }
   ],
   "source": [
    "for i in range(1,51):\n",
    "    if i%5 == 0:\n",
    "       continue\n",
    "    print(i)\n",
    "\n",
    "print('end')\n"
   ]
  },
  {
   "cell_type": "code",
   "execution_count": null,
   "id": "0d4e275f-c44b-444a-b2ee-8a0cf0e8468a",
   "metadata": {},
   "outputs": [],
   "source": []
  },
  {
   "cell_type": "code",
   "execution_count": 81,
   "id": "2d694afb-9452-4da1-a9e8-e4457bbd9473",
   "metadata": {},
   "outputs": [
    {
     "name": "stdout",
     "output_type": "stream",
     "text": [
      "1\n",
      "2\n",
      "4\n",
      "7\n",
      "8\n",
      "11\n",
      "13\n",
      "14\n",
      "16\n",
      "17\n",
      "19\n",
      "22\n",
      "23\n",
      "26\n",
      "28\n",
      "29\n",
      "31\n",
      "32\n",
      "34\n",
      "37\n",
      "38\n",
      "41\n",
      "43\n",
      "44\n",
      "46\n",
      "47\n",
      "49\n"
     ]
    }
   ],
   "source": [
    "for i in range(1,51):\n",
    "    if i%3 == 0 or i%5 == 0:\n",
    "       continue\n",
    "    print(i)\n",
    "\n",
    "# it will skip all value which is divisible by 3 or 5"
   ]
  },
  {
   "cell_type": "code",
   "execution_count": 85,
   "id": "e8d513b0-8d76-4033-8506-2664586f71a0",
   "metadata": {},
   "outputs": [
    {
     "name": "stdout",
     "output_type": "stream",
     "text": [
      "1\n",
      "2\n",
      "3\n",
      "4\n",
      "5\n",
      "6\n",
      "7\n",
      "8\n",
      "9\n",
      "10\n",
      "11\n",
      "12\n",
      "13\n",
      "14\n",
      "16\n",
      "17\n",
      "18\n",
      "19\n",
      "end\n"
     ]
    }
   ],
   "source": [
    "for i in range(1,20):\n",
    "    if i%3 == 0 and i%5 == 0:\n",
    "       continue\n",
    "    print(i)\n",
    "\n",
    "print('end')"
   ]
  },
  {
   "cell_type": "code",
   "execution_count": 89,
   "id": "332646dc-d112-41c5-89bf-01621964d3fd",
   "metadata": {},
   "outputs": [
    {
     "name": "stdout",
     "output_type": "stream",
     "text": [
      "1\n",
      "3\n",
      "5\n",
      "7\n",
      "9\n",
      "11\n",
      "13\n",
      "15\n",
      "17\n",
      "19\n",
      "21\n",
      "23\n",
      "25\n",
      "27\n",
      "29\n",
      "31\n",
      "33\n",
      "35\n",
      "37\n",
      "39\n",
      "41\n",
      "43\n",
      "45\n",
      "47\n",
      "49\n",
      "hi\n"
     ]
    }
   ],
   "source": [
    "for i in range(1,51):\n",
    "    if i%2==0:\n",
    "        continue\n",
    "    else:\n",
    "        print(i)\n",
    "\n",
    "print('hi')\n",
    "       \n",
    " # i dont want to print the values which are even numbers that means print only odd numbers  \n",
    "        "
   ]
  },
  {
   "cell_type": "markdown",
   "id": "80645a89-61c7-49f4-b1bd-2520ff8e36e9",
   "metadata": {},
   "source": [
    "### Printing Pattern In Python"
   ]
  },
  {
   "cell_type": "code",
   "execution_count": 92,
   "id": "6c159d59-17e8-4b64-832d-71569a0a7d69",
   "metadata": {},
   "outputs": [
    {
     "name": "stdout",
     "output_type": "stream",
     "text": [
      "# # # #\n",
      "# # # #\n",
      "# # # #\n",
      "# # # #\n",
      "# # # #\n"
     ]
    }
   ],
   "source": [
    "print('# # # #')\n",
    "print('# # # #')\n",
    "print('# # # #')\n",
    "print('# # # #')\n",
    "print('# # # #')"
   ]
  },
  {
   "cell_type": "code",
   "execution_count": 94,
   "id": "4fd23863-6dbc-49d8-84d9-6a3ce1f7b5a6",
   "metadata": {},
   "outputs": [
    {
     "name": "stdout",
     "output_type": "stream",
     "text": [
      "* * * *\n",
      "* * * *\n",
      "* * * *\n",
      "* * * *\n"
     ]
    }
   ],
   "source": [
    "for i in range(1,5):\n",
    "    i = i+1\n",
    "    print('* * * *')"
   ]
  },
  {
   "cell_type": "code",
   "execution_count": 96,
   "id": "90884194-3c1c-4e36-8d34-ef02cda6590e",
   "metadata": {},
   "outputs": [
    {
     "name": "stdout",
     "output_type": "stream",
     "text": [
      "# # # #\n",
      "# # # #\n",
      "# # # #\n",
      "# # # #\n"
     ]
    }
   ],
   "source": [
    "for i in range(1,5):\n",
    "    i = i+1\n",
    "    print('# # # #')"
   ]
  },
  {
   "cell_type": "code",
   "execution_count": 98,
   "id": "aecfabb4-4ce4-4166-b1fd-4b5939f31a52",
   "metadata": {},
   "outputs": [
    {
     "name": "stdout",
     "output_type": "stream",
     "text": [
      "# # # #\n",
      "# # # #\n",
      "# # # #\n",
      "# # # #\n",
      "# # # #\n"
     ]
    }
   ],
   "source": [
    "for i in range(1,6):\n",
    "    if i<=5:\n",
    "        print('# # # #')\n",
    "    "
   ]
  },
  {
   "cell_type": "code",
   "execution_count": 100,
   "id": "a5648230-d5e6-4bc6-9e6d-2a6deef31cc6",
   "metadata": {},
   "outputs": [
    {
     "name": "stdout",
     "output_type": "stream",
     "text": [
      "#\n",
      "#\n",
      "#\n",
      "#\n"
     ]
    }
   ],
   "source": [
    "for j in range(4):\n",
    "    print('#')"
   ]
  },
  {
   "cell_type": "code",
   "execution_count": 104,
   "id": "aafc8759-16cc-4818-9dcf-bc26520419b4",
   "metadata": {},
   "outputs": [
    {
     "name": "stdout",
     "output_type": "stream",
     "text": [
      " #: #: #: #:"
     ]
    }
   ],
   "source": [
    "for j in range(4):\n",
    "    print(' #:', end = '')"
   ]
  },
  {
   "cell_type": "code",
   "execution_count": 106,
   "id": "4c5dd3ba-6dd9-41ed-9f39-3884f3779e4c",
   "metadata": {},
   "outputs": [
    {
     "name": "stdout",
     "output_type": "stream",
     "text": [
      "#\n",
      "#\n",
      "#\n",
      "#\n"
     ]
    }
   ],
   "source": [
    "for j in range(2):\n",
    "    print('#')\n",
    "for j in range(2):\n",
    "    print('#')"
   ]
  },
  {
   "cell_type": "code",
   "execution_count": 108,
   "id": "9ef5e6e5-534f-4c88-a368-10d76e0529b0",
   "metadata": {},
   "outputs": [
    {
     "name": "stdout",
     "output_type": "stream",
     "text": [
      "#\n",
      "#\n",
      "\n",
      "#\n",
      "#\n"
     ]
    }
   ],
   "source": [
    "for j in range(2):\n",
    "    print('#')\n",
    "\n",
    "print()   #space creat\n",
    "\n",
    "for j in range(2):\n",
    "    print('#')"
   ]
  },
  {
   "cell_type": "code",
   "execution_count": 112,
   "id": "b452bed9-dc3e-4f3d-b2de-bd2508e0ca48",
   "metadata": {},
   "outputs": [
    {
     "name": "stdout",
     "output_type": "stream",
     "text": [
      " #: #: #: #: *: *: *: *:"
     ]
    }
   ],
   "source": [
    "for j in range(4):\n",
    "    print(' #:', end = '')\n",
    "\n",
    "for j in range(4):\n",
    "    print(' *:', end = '')"
   ]
  },
  {
   "cell_type": "code",
   "execution_count": 114,
   "id": "1bff5073-bebd-4c4b-a369-192df3b23b93",
   "metadata": {},
   "outputs": [
    {
     "name": "stdout",
     "output_type": "stream",
     "text": [
      " #: #: #: #:\n",
      " *: *: *: *:"
     ]
    }
   ],
   "source": [
    "for j in range(4):\n",
    "    print(' #:', end = '')\n",
    "\n",
    "print()\n",
    "\n",
    "for j in range(4):\n",
    "    print(' *:', end = '')"
   ]
  },
  {
   "cell_type": "code",
   "execution_count": 116,
   "id": "4a746316-333c-4ecf-bfee-fe71cc4be75e",
   "metadata": {},
   "outputs": [
    {
     "name": "stdout",
     "output_type": "stream",
     "text": [
      " # # # #\n",
      " * * * *"
     ]
    }
   ],
   "source": [
    "for j in range(4):\n",
    "    print(' #', end = '')\n",
    "\n",
    "print()\n",
    "\n",
    "for j in range(4):\n",
    "    print(' *', end = '')"
   ]
  },
  {
   "cell_type": "code",
   "execution_count": 130,
   "id": "c884429c-2216-4d8b-9b14-7440551df74a",
   "metadata": {},
   "outputs": [
    {
     "name": "stdout",
     "output_type": "stream",
     "text": [
      "# \n",
      "# # \n",
      "# # # \n",
      "# # # # \n"
     ]
    }
   ],
   "source": [
    "for i in range(4):\n",
    "    for j in range(i+1):\n",
    "        print('#', end = ' ')\n",
    "    print()\n",
    "          "
   ]
  },
  {
   "cell_type": "code",
   "execution_count": 136,
   "id": "31723b60-9a8f-4155-aa68-f7b88e504395",
   "metadata": {},
   "outputs": [
    {
     "name": "stdout",
     "output_type": "stream",
     "text": [
      "# # # # \n",
      "# # # \n",
      "# # \n",
      "# \n"
     ]
    }
   ],
   "source": [
    "for i in range(4):\n",
    "    for j in range(4-i):\n",
    "        print('#', end = ' ')\n",
    "    print()\n",
    "          "
   ]
  },
  {
   "cell_type": "code",
   "execution_count": 138,
   "id": "bbaa92ad-584c-4450-9ca5-57053979f752",
   "metadata": {},
   "outputs": [
    {
     "name": "stdout",
     "output_type": "stream",
     "text": [
      "#  #  #  #  \n",
      "#  #  #  #  \n",
      "#  #  #  #  \n",
      "#  #  #  #  "
     ]
    }
   ],
   "source": [
    "for j in range(4):\n",
    "    print('#', end=\"  \")\n",
    "    \n",
    "print()\n",
    "\n",
    "for j in range(4):\n",
    "    print('#', end=\"  \")\n",
    "\n",
    "print()\n",
    "\n",
    "for j in range(4):\n",
    "    print('#', end=\"  \")\n",
    "    \n",
    "print()\n",
    "\n",
    "for j in range(4):\n",
    "    print('#', end=\"  \")"
   ]
  },
  {
   "cell_type": "code",
   "execution_count": 140,
   "id": "e92d107f-3b5a-470c-934f-c49859203ef1",
   "metadata": {},
   "outputs": [
    {
     "name": "stdout",
     "output_type": "stream",
     "text": [
      "# \n",
      "# # \n",
      "# # # \n",
      "# # # # \n"
     ]
    }
   ],
   "source": [
    "for i in range(1,5):\n",
    "    print(\"# \"*i)"
   ]
  },
  {
   "cell_type": "code",
   "execution_count": 142,
   "id": "03875302-a233-4299-ab73-01fd7dbad8d6",
   "metadata": {},
   "outputs": [
    {
     "data": {
      "text/plain": [
       "[0, 1, 2, 3, 4]"
      ]
     },
     "execution_count": 142,
     "metadata": {},
     "output_type": "execute_result"
    }
   ],
   "source": [
    "list(range(5))"
   ]
  },
  {
   "cell_type": "code",
   "execution_count": 144,
   "id": "157f1a2d-d3a8-4412-b2ee-8ae0ab8538c7",
   "metadata": {},
   "outputs": [
    {
     "name": "stdout",
     "output_type": "stream",
     "text": [
      "15\n",
      "25\n"
     ]
    }
   ],
   "source": [
    "nums = [12, 15, 18, 21, 25]\n",
    "\n",
    "for num in nums:\n",
    "    if num%5 == 0:\n",
    "        print(num)\n",
    "    \n"
   ]
  },
  {
   "cell_type": "code",
   "execution_count": 146,
   "id": "7a6441c0-a5c5-45be-b154-63817a46e807",
   "metadata": {},
   "outputs": [
    {
     "name": "stdout",
     "output_type": "stream",
     "text": [
      "15\n",
      "25\n",
      "30\n"
     ]
    }
   ],
   "source": [
    "nums = [12, 15, 18, 21, 25, 30, 3]\n",
    "\n",
    "for num in nums:\n",
    "    if num%5 == 0:\n",
    "        print(num)\n",
    "    "
   ]
  },
  {
   "cell_type": "code",
   "execution_count": 148,
   "id": "fead1185-962e-4db0-9dcd-f5c4e1254c0b",
   "metadata": {},
   "outputs": [
    {
     "name": "stdout",
     "output_type": "stream",
     "text": [
      "15\n"
     ]
    }
   ],
   "source": [
    "nums = [12, 15, 18, 21, 25, 30, 3]\n",
    "\n",
    "for num in nums:\n",
    "    if num%5 == 0:\n",
    "        print(num)\n",
    "        break\n",
    "    "
   ]
  },
  {
   "cell_type": "code",
   "execution_count": 152,
   "id": "261b9daf-306d-4187-8930-b8fd9f299a54",
   "metadata": {},
   "outputs": [
    {
     "name": "stdout",
     "output_type": "stream",
     "text": [
      "10\n"
     ]
    }
   ],
   "source": [
    "nums = [10,14,18,21,10]\n",
    "\n",
    "for num in nums:\n",
    "    if num%5 == 0:\n",
    "        print(num)\n",
    "        break   # it will print only one number then it break   \n",
    "    "
   ]
  },
  {
   "cell_type": "code",
   "execution_count": 154,
   "id": "bd86095f-5d54-44a2-8110-23157dac3f76",
   "metadata": {},
   "outputs": [],
   "source": [
    "nums = [7,14,18,21,23,27]\n",
    "\n",
    "for num in nums:\n",
    "    if num%5 == 0:\n",
    "        print(num)\n",
    "        break     # there is no number which is divisible by 5. we got output as blank\n",
    "    "
   ]
  },
  {
   "cell_type": "code",
   "execution_count": 156,
   "id": "58726a51-d9f6-426c-936b-5ecc4587736f",
   "metadata": {},
   "outputs": [
    {
     "name": "stdout",
     "output_type": "stream",
     "text": [
      "Number is not found\n"
     ]
    }
   ],
   "source": [
    "nums = [7,14,18,21,23,27]\n",
    "\n",
    "for num in nums:\n",
    "    if num%5 == 0:\n",
    "        print(num)\n",
    "        break \n",
    "else:\n",
    "    print('Number is not found')"
   ]
  },
  {
   "cell_type": "code",
   "execution_count": 163,
   "id": "ca36065f-aa0a-4bc2-96f9-e0faf62c3a44",
   "metadata": {},
   "outputs": [
    {
     "name": "stdout",
     "output_type": "stream",
     "text": [
      "Number is not found\n",
      "Number is not found\n",
      "Number is not found\n",
      "Number is not found\n",
      "Number is not found\n",
      "Number is not found\n"
     ]
    }
   ],
   "source": [
    "nums = [7,14,18,21,23,27]\n",
    "\n",
    "for num in nums:\n",
    "    if num%5 == 0:\n",
    "        print(num)\n",
    "        break \n",
    "    else:\n",
    "        print('Number is not found') # every iteration checking condition"
   ]
  },
  {
   "cell_type": "code",
   "execution_count": 169,
   "id": "db379ff4-f56f-42f4-be58-a54ff29795e9",
   "metadata": {},
   "outputs": [
    {
     "name": "stdout",
     "output_type": "stream",
     "text": [
      "15\n",
      "25\n",
      "30\n"
     ]
    }
   ],
   "source": [
    "nums = [12, 15, 18, 21, 25, 30, 3]\n",
    "\n",
    "for num in nums:\n",
    "    if num%5 == 0:\n",
    "        print(num)\n",
    "        #break\n",
    "    "
   ]
  },
  {
   "cell_type": "markdown",
   "id": "a696189d-ae7a-4f01-ae04-e3eeb53c600d",
   "metadata": {},
   "source": [
    "##### Prime number - 7, 13, 19"
   ]
  },
  {
   "cell_type": "code",
   "execution_count": 175,
   "id": "aea6e54a-b28d-4095-899c-481ec947550b",
   "metadata": {},
   "outputs": [
    {
     "name": "stdout",
     "output_type": "stream",
     "text": [
      "Not prime number\n"
     ]
    }
   ],
   "source": [
    "# how to check given number is prime number or not\n",
    "num = 12\n",
    "for i in range(2, num):\n",
    "    if num % i == 0:\n",
    "        print('Not prime number')\n",
    "        break\n",
    "else:\n",
    "    print('Prime Number')\n",
    "        "
   ]
  },
  {
   "cell_type": "code",
   "execution_count": 177,
   "id": "c45dcf96-0a78-4255-ac21-8a313ef095d6",
   "metadata": {},
   "outputs": [
    {
     "name": "stdout",
     "output_type": "stream",
     "text": [
      "Not prime number\n"
     ]
    }
   ],
   "source": [
    "# how to check given number is prime number or not\n",
    "num = 15\n",
    "for i in range(2, num):\n",
    "    if num % i == 0:\n",
    "        print('Not prime number')\n",
    "        break\n",
    "else:\n",
    "    print('Prime Number')\n",
    "        "
   ]
  },
  {
   "cell_type": "code",
   "execution_count": null,
   "id": "779cd6fe-78c1-4b25-b596-17dc913aea2e",
   "metadata": {},
   "outputs": [],
   "source": []
  },
  {
   "cell_type": "code",
   "execution_count": null,
   "id": "43ef2e0e-d029-4e17-9a74-15dc2ee10038",
   "metadata": {},
   "outputs": [],
   "source": []
  },
  {
   "cell_type": "code",
   "execution_count": null,
   "id": "b3838340-9faf-40a0-9d75-4ee14c628607",
   "metadata": {},
   "outputs": [],
   "source": []
  },
  {
   "cell_type": "code",
   "execution_count": null,
   "id": "99f8fa8c-7749-4211-afbb-10f4b516fea3",
   "metadata": {},
   "outputs": [],
   "source": []
  },
  {
   "cell_type": "code",
   "execution_count": null,
   "id": "e6466891-1eac-4865-8576-6b1b99e38659",
   "metadata": {},
   "outputs": [],
   "source": []
  },
  {
   "cell_type": "code",
   "execution_count": null,
   "id": "ebf212f7-1225-4ee7-8eca-abf2964f1b6f",
   "metadata": {},
   "outputs": [],
   "source": []
  }
 ],
 "metadata": {
  "kernelspec": {
   "display_name": "Python 3 (ipykernel)",
   "language": "python",
   "name": "python3"
  },
  "language_info": {
   "codemirror_mode": {
    "name": "ipython",
    "version": 3
   },
   "file_extension": ".py",
   "mimetype": "text/x-python",
   "name": "python",
   "nbconvert_exporter": "python",
   "pygments_lexer": "ipython3",
   "version": "3.12.7"
  }
 },
 "nbformat": 4,
 "nbformat_minor": 5
}
